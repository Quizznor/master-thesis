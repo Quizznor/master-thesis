{
 "cells": [
  {
   "cell_type": "code",
   "execution_count": 64,
   "metadata": {},
   "outputs": [],
   "source": [
    "from Binaries import *\n",
    "import re\n",
    "\n",
    "def get_hostname(logfile_path):\n",
    "\n",
    "    with open(logfile_path, \"r\") as logfile:\n",
    "        hostnames = [re.search('(?<=alias=)[^&]*', line) for line in logfile.readlines()]\n",
    "        hostnames = [name[0] for name in hostnames if name is not None]\n",
    "        hostnames = [name for name in hostnames if name != \"crcws02.iap.kit.edu\"]\n",
    "        hostnames = np.unique(np.array(hostnames, dtype = \"str\"))\n",
    "\n",
    "    assert len(hostnames) == 1, f\"got {hostnames = }\"\n",
    "\n",
    "    return hostnames[0]"
   ]
  },
  {
   "cell_type": "code",
   "execution_count": 73,
   "metadata": {},
   "outputs": [
    {
     "ename": "FileNotFoundError",
     "evalue": "[Errno 2] No such file or directory: '/cr/users/filip/TrainEnsemble/output/1Muon-0.log'",
     "output_type": "error",
     "traceback": [
      "\u001b[0;31m---------------------------------------------------------------------------\u001b[0m",
      "\u001b[0;31mFileNotFoundError\u001b[0m                         Traceback (most recent call last)",
      "\u001b[1;32m/cr/users/filip/EnsembleTrain/analyze_failed_job.ipynb Cell 2\u001b[0m in \u001b[0;36m<cell line: 6>\u001b[0;34m()\u001b[0m\n\u001b[1;32m     <a href='vscode-notebook-cell://ssh-remote%2Bcrcws02.iap.kit.edu/cr/users/filip/EnsembleTrain/analyze_failed_job.ipynb#W1sdnNjb2RlLXJlbW90ZQ%3D%3D?line=12'>13</a>\u001b[0m proc_id \u001b[39m=\u001b[39m \u001b[39mint\u001b[39m(instance\u001b[39m.\u001b[39msplit(\u001b[39m'\u001b[39m\u001b[39m_\u001b[39m\u001b[39m'\u001b[39m)[\u001b[39m-\u001b[39m\u001b[39m1\u001b[39m]) \u001b[39m-\u001b[39m \u001b[39m1\u001b[39m\n\u001b[1;32m     <a href='vscode-notebook-cell://ssh-remote%2Bcrcws02.iap.kit.edu/cr/users/filip/EnsembleTrain/analyze_failed_job.ipynb#W1sdnNjb2RlLXJlbW90ZQ%3D%3D?line=13'>14</a>\u001b[0m log_name \u001b[39m=\u001b[39m model\u001b[39m.\u001b[39msplit(\u001b[39m'\u001b[39m\u001b[39m_\u001b[39m\u001b[39m'\u001b[39m)[\u001b[39m-\u001b[39m\u001b[39m1\u001b[39m]\n\u001b[0;32m---> <a href='vscode-notebook-cell://ssh-remote%2Bcrcws02.iap.kit.edu/cr/users/filip/EnsembleTrain/analyze_failed_job.ipynb#W1sdnNjb2RlLXJlbW90ZQ%3D%3D?line=15'>16</a>\u001b[0m hostname \u001b[39m=\u001b[39m get_hostname(\u001b[39mf\u001b[39;49m\u001b[39m\"\u001b[39;49m\u001b[39m{\u001b[39;49;00mlog_path\u001b[39m}\u001b[39;49;00m\u001b[39m/\u001b[39;49m\u001b[39m{\u001b[39;49;00mlog_name\u001b[39m}\u001b[39;49;00m\u001b[39m-\u001b[39;49m\u001b[39m{\u001b[39;49;00mproc_id\u001b[39m}\u001b[39;49;00m\u001b[39m.log\u001b[39;49m\u001b[39m\"\u001b[39;49m)\n\u001b[1;32m     <a href='vscode-notebook-cell://ssh-remote%2Bcrcws02.iap.kit.edu/cr/users/filip/EnsembleTrain/analyze_failed_job.ipynb#W1sdnNjb2RlLXJlbW90ZQ%3D%3D?line=17'>18</a>\u001b[0m \u001b[39mif\u001b[39;00m os\u001b[39m.\u001b[39mlistdir(root_path \u001b[39m+\u001b[39m \u001b[39m\"\u001b[39m\u001b[39m/\u001b[39m\u001b[39m\"\u001b[39m \u001b[39m+\u001b[39m model \u001b[39m+\u001b[39m \u001b[39m\"\u001b[39m\u001b[39m/\u001b[39m\u001b[39m\"\u001b[39m \u001b[39m+\u001b[39m instance) \u001b[39m==\u001b[39m []: score \u001b[39m=\u001b[39m \u001b[39m1\u001b[39m\n\u001b[1;32m     <a href='vscode-notebook-cell://ssh-remote%2Bcrcws02.iap.kit.edu/cr/users/filip/EnsembleTrain/analyze_failed_job.ipynb#W1sdnNjb2RlLXJlbW90ZQ%3D%3D?line=18'>19</a>\u001b[0m \u001b[39melse\u001b[39;00m: score \u001b[39m=\u001b[39m \u001b[39m0\u001b[39m\n",
      "\u001b[1;32m/cr/users/filip/EnsembleTrain/analyze_failed_job.ipynb Cell 2\u001b[0m in \u001b[0;36mget_hostname\u001b[0;34m(logfile_path)\u001b[0m\n\u001b[1;32m      <a href='vscode-notebook-cell://ssh-remote%2Bcrcws02.iap.kit.edu/cr/users/filip/EnsembleTrain/analyze_failed_job.ipynb#W1sdnNjb2RlLXJlbW90ZQ%3D%3D?line=3'>4</a>\u001b[0m \u001b[39mdef\u001b[39;00m \u001b[39mget_hostname\u001b[39m(logfile_path):\n\u001b[0;32m----> <a href='vscode-notebook-cell://ssh-remote%2Bcrcws02.iap.kit.edu/cr/users/filip/EnsembleTrain/analyze_failed_job.ipynb#W1sdnNjb2RlLXJlbW90ZQ%3D%3D?line=5'>6</a>\u001b[0m     \u001b[39mwith\u001b[39;00m \u001b[39mopen\u001b[39;49m(logfile_path, \u001b[39m\"\u001b[39;49m\u001b[39mr\u001b[39;49m\u001b[39m\"\u001b[39;49m) \u001b[39mas\u001b[39;00m logfile:\n\u001b[1;32m      <a href='vscode-notebook-cell://ssh-remote%2Bcrcws02.iap.kit.edu/cr/users/filip/EnsembleTrain/analyze_failed_job.ipynb#W1sdnNjb2RlLXJlbW90ZQ%3D%3D?line=6'>7</a>\u001b[0m         hostnames \u001b[39m=\u001b[39m [re\u001b[39m.\u001b[39msearch(\u001b[39m'\u001b[39m\u001b[39m(?<=alias=)[^&]*\u001b[39m\u001b[39m'\u001b[39m, line) \u001b[39mfor\u001b[39;00m line \u001b[39min\u001b[39;00m logfile\u001b[39m.\u001b[39mreadlines()]\n\u001b[1;32m      <a href='vscode-notebook-cell://ssh-remote%2Bcrcws02.iap.kit.edu/cr/users/filip/EnsembleTrain/analyze_failed_job.ipynb#W1sdnNjb2RlLXJlbW90ZQ%3D%3D?line=7'>8</a>\u001b[0m         hostnames \u001b[39m=\u001b[39m [name[\u001b[39m0\u001b[39m] \u001b[39mfor\u001b[39;00m name \u001b[39min\u001b[39;00m hostnames \u001b[39mif\u001b[39;00m name \u001b[39mis\u001b[39;00m \u001b[39mnot\u001b[39;00m \u001b[39mNone\u001b[39;00m]\n",
      "\u001b[0;31mFileNotFoundError\u001b[0m: [Errno 2] No such file or directory: '/cr/users/filip/TrainEnsemble/output/1Muon-0.log'"
     ]
    }
   ],
   "source": [
    "root_path = \"/cr/data01/filip/models/ENSEMBLES\"\n",
    "log_path = \"/cr/users/filip/TrainEnsemble/output\"\n",
    "\n",
    "statistics = {}\n",
    "\n",
    "for model in os.listdir(root_path):\n",
    "\n",
    "    if \"NoCuts\" in model: continue\n",
    "    if \"VEM\" in model: continue\n",
    "\n",
    "    for instance in os.listdir(root_path + \"/\" + model):\n",
    "\n",
    "        proc_id = int(instance.split('_')[-1]) - 1\n",
    "        log_name = model.split('_')[-1]\n",
    "\n",
    "        hostname = get_hostname(f\"{log_path}/{log_name}-{proc_id}.log\")\n",
    "\n",
    "        if os.listdir(root_path + \"/\" + model + \"/\" + instance) == []: score = 1\n",
    "        else: score = 0\n",
    "\n",
    "        try:\n",
    "            statistics[hostname] += score\n",
    "        except KeyError:\n",
    "            statistics[hostname] = [0, 0]\n",
    "            statistics[hostname][score] += 1\n"
   ]
  },
  {
   "cell_type": "code",
   "execution_count": 72,
   "metadata": {},
   "outputs": [
    {
     "name": "stdout",
     "output_type": "stream",
     "text": [
      "crc217.iap.kit.edu 6\n",
      "crc204.iap.kit.edu 0\n",
      "crc218.iap.kit.edu 8\n",
      "crc205.iap.kit.edu 8\n",
      "crc207.iap.kit.edu 10\n",
      "crc206.iap.kit.edu 2\n",
      "crc203.iap.kit.edu 2\n",
      "crc202.iap.kit.edu 2\n",
      "crc201.iap.kit.edu 2\n"
     ]
    }
   ],
   "source": [
    "for key in statistics:\n",
    "    print(key, statistics[key])"
   ]
  },
  {
   "cell_type": "code",
   "execution_count": null,
   "metadata": {},
   "outputs": [],
   "source": []
  }
 ],
 "metadata": {
  "kernelspec": {
   "display_name": "base",
   "language": "python",
   "name": "python3"
  },
  "language_info": {
   "codemirror_mode": {
    "name": "ipython",
    "version": 3
   },
   "file_extension": ".py",
   "mimetype": "text/x-python",
   "name": "python",
   "nbconvert_exporter": "python",
   "pygments_lexer": "ipython3",
   "version": "3.9.12"
  },
  "orig_nbformat": 4
 },
 "nbformat": 4,
 "nbformat_minor": 2
}
