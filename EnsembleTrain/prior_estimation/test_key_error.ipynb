{
 "cells": [
  {
   "cell_type": "code",
   "execution_count": 1,
   "metadata": {},
   "outputs": [
    {
     "name": "stdout",
     "output_type": "stream",
     "text": [
      "120_eCNN_Downsampled_AllEnergies_p0.25\n",
      "Model: \"sequential\"\n",
      "_________________________________________________________________\n",
      " Layer (type)                Output Shape              Param #   \n",
      "=================================================================\n",
      " conv2d (Conv2D)             (None, 1, 40, 4)          40        \n",
      "                                                                 \n",
      " conv1d (Conv1D)             (None, 1, 36, 2)          42        \n",
      "                                                                 \n",
      " flatten (Flatten)           (None, 72)                0         \n",
      "                                                                 \n",
      " dense (Dense)               (None, 10)                730       \n",
      "                                                                 \n",
      " dense_1 (Dense)             (None, 2)                 22        \n",
      "                                                                 \n",
      "=================================================================\n",
      "Total params: 834\n",
      "Trainable params: 834\n",
      "Non-trainable params: 0\n",
      "_________________________________________________________________\n",
      "\n",
      "\n",
      "Classifier                                    Dataset                                  TP      FP      TN      FN\n",
      "[INFO] -- LOADING NURIA: randoms0254.csv                                                            \n",
      "Step 26/6641 | 00:00:04 elapsed ||                    || 0% -- 153.985 ms/step, ETA: 00:16:58\r"
     ]
    },
    {
     "ename": "KeyboardInterrupt",
     "evalue": "",
     "output_type": "error",
     "traceback": [
      "\u001b[0;31m---------------------------------------------------------------------------\u001b[0m",
      "\u001b[0;31mFileNotFoundError\u001b[0m                         Traceback (most recent call last)",
      "Cell \u001b[0;32mIn[1], line 27\u001b[0m\n\u001b[1;32m     26\u001b[0m \u001b[39mtry\u001b[39;00m:\n\u001b[0;32m---> 27\u001b[0m     _ \u001b[39m=\u001b[39m ThisNN\u001b[39m.\u001b[39;49mload_and_print_performance(\u001b[39m\"\u001b[39;49m\u001b[39mvalidation_data_no_cuts\u001b[39;49m\u001b[39m\"\u001b[39;49m)\n\u001b[1;32m     28\u001b[0m \u001b[39mexcept\u001b[39;00m \u001b[39mFileNotFoundError\u001b[39;00m:\n",
      "File \u001b[0;32m~/Binaries/Classifier.py:215\u001b[0m, in \u001b[0;36mClassifier.load_and_print_performance\u001b[0;34m(self, dataset, quiet)\u001b[0m\n\u001b[1;32m    207\u001b[0m     save_files \u001b[39m=\u001b[39m \\\n\u001b[1;32m    208\u001b[0m     {\n\u001b[1;32m    209\u001b[0m         \u001b[39m\"\u001b[39m\u001b[39mTP\u001b[39m\u001b[39m\"\u001b[39m : \u001b[39mf\u001b[39m\u001b[39m\"\u001b[39m\u001b[39m/cr/data01/filip/models/\u001b[39m\u001b[39m{\u001b[39;00m\u001b[39mself\u001b[39m\u001b[39m.\u001b[39mname\u001b[39m}\u001b[39;00m\u001b[39m/model_\u001b[39m\u001b[39m{\u001b[39;00m\u001b[39mself\u001b[39m\u001b[39m.\u001b[39mepochs\u001b[39m}\u001b[39;00m\u001b[39m/ROC_curve/\u001b[39m\u001b[39m{\u001b[39;00mdataset\u001b[39m}\u001b[39;00m\u001b[39m/true_positives.csv\u001b[39m\u001b[39m\"\u001b[39m,\n\u001b[0;32m   (...)\u001b[0m\n\u001b[1;32m    212\u001b[0m         \u001b[39m\"\u001b[39m\u001b[39mFN\u001b[39m\u001b[39m\"\u001b[39m : \u001b[39mf\u001b[39m\u001b[39m\"\u001b[39m\u001b[39m/cr/data01/filip/models/\u001b[39m\u001b[39m{\u001b[39;00m\u001b[39mself\u001b[39m\u001b[39m.\u001b[39mname\u001b[39m}\u001b[39;00m\u001b[39m/model_\u001b[39m\u001b[39m{\u001b[39;00m\u001b[39mself\u001b[39m\u001b[39m.\u001b[39mepochs\u001b[39m}\u001b[39;00m\u001b[39m/ROC_curve/\u001b[39m\u001b[39m{\u001b[39;00mdataset\u001b[39m}\u001b[39;00m\u001b[39m/false_negatives.csv\u001b[39m\u001b[39m\"\u001b[39m\n\u001b[1;32m    213\u001b[0m     }\n\u001b[0;32m--> 215\u001b[0m \u001b[39mif\u001b[39;00m os\u001b[39m.\u001b[39;49mstat(save_files[\u001b[39m'\u001b[39;49m\u001b[39mTN\u001b[39;49m\u001b[39m'\u001b[39;49m])\u001b[39m.\u001b[39mst_size:\n\u001b[1;32m    216\u001b[0m     TN \u001b[39m=\u001b[39m np\u001b[39m.\u001b[39mloadtxt(save_files[\u001b[39m'\u001b[39m\u001b[39mTN\u001b[39m\u001b[39m'\u001b[39m], usecols \u001b[39m=\u001b[39m [\u001b[39m2\u001b[39m, \u001b[39m3\u001b[39m, \u001b[39m4\u001b[39m, \u001b[39m5\u001b[39m, \u001b[39m6\u001b[39m, \u001b[39m7\u001b[39m])\n",
      "\u001b[0;31mFileNotFoundError\u001b[0m: [Errno 2] No such file or directory: '/cr/data01/filip/models/120_eCNN_Downsampled_AllEnergies_p0.25/model_converged/ROC_curve/validation_data_no_cuts/true_negatives.csv'",
      "\nDuring handling of the above exception, another exception occurred:\n",
      "\u001b[0;31mKeyboardInterrupt\u001b[0m                         Traceback (most recent call last)",
      "Cell \u001b[0;32mIn[1], line 30\u001b[0m\n\u001b[1;32m     28\u001b[0m \u001b[39mexcept\u001b[39;00m \u001b[39mFileNotFoundError\u001b[39;00m:\n\u001b[1;32m     29\u001b[0m     EventsNoCut \u001b[39m=\u001b[39m EventGenerator(ThisNN, split \u001b[39m=\u001b[39m \u001b[39m1\u001b[39m, \u001b[39m*\u001b[39m\u001b[39m*\u001b[39mevent_kwargs)\n\u001b[0;32m---> 30\u001b[0m     ThisNN\u001b[39m.\u001b[39;49mmake_signal_dataset(EventsNoCut, \u001b[39m\"\u001b[39;49m\u001b[39mvalidation_data_no_cuts\u001b[39;49m\u001b[39m\"\u001b[39;49m)\n",
      "File \u001b[0;32m~/Binaries/Classifier.py:113\u001b[0m, in \u001b[0;36mClassifier.make_signal_dataset\u001b[0;34m(self, Dataset, save_dir, n_showers, save_traces)\u001b[0m\n\u001b[1;32m    107\u001b[0m \u001b[39m# open all files only once, increases performance\u001b[39;00m\n\u001b[1;32m    108\u001b[0m \u001b[39mwith\u001b[39;00m \u001b[39mopen\u001b[39m(save_file[\u001b[39m\"\u001b[39m\u001b[39mTP\u001b[39m\u001b[39m\"\u001b[39m], \u001b[39m\"\u001b[39m\u001b[39mw\u001b[39m\u001b[39m\"\u001b[39m) \u001b[39mas\u001b[39;00m TP, \\\n\u001b[1;32m    109\u001b[0m      \u001b[39mopen\u001b[39m(save_file[\u001b[39m\"\u001b[39m\u001b[39mTN\u001b[39m\u001b[39m\"\u001b[39m], \u001b[39m\"\u001b[39m\u001b[39mw\u001b[39m\u001b[39m\"\u001b[39m) \u001b[39mas\u001b[39;00m TN, \\\n\u001b[1;32m    110\u001b[0m      \u001b[39mopen\u001b[39m(save_file[\u001b[39m\"\u001b[39m\u001b[39mFP\u001b[39m\u001b[39m\"\u001b[39m], \u001b[39m\"\u001b[39m\u001b[39mw\u001b[39m\u001b[39m\"\u001b[39m) \u001b[39mas\u001b[39;00m FP, \\\n\u001b[1;32m    111\u001b[0m      \u001b[39mopen\u001b[39m(save_file[\u001b[39m\"\u001b[39m\u001b[39mFN\u001b[39m\u001b[39m\"\u001b[39m], \u001b[39m\"\u001b[39m\u001b[39mw\u001b[39m\u001b[39m\"\u001b[39m) \u001b[39mas\u001b[39;00m FN:\n\u001b[0;32m--> 113\u001b[0m     \u001b[39mfor\u001b[39;00m batch_no, traces \u001b[39min\u001b[39;00m \u001b[39menumerate\u001b[39m(Dataset):\n\u001b[1;32m    115\u001b[0m         progress_bar(batch_no, n_showers, start_time)\n\u001b[1;32m    116\u001b[0m         random_file \u001b[39m=\u001b[39m Dataset\u001b[39m.\u001b[39mfiles[batch_no]\n",
      "File \u001b[0;32m~/Binaries/Generator.py:340\u001b[0m, in \u001b[0;36mGenerator.__iter__\u001b[0;34m(self)\u001b[0m\n\u001b[1;32m    336\u001b[0m \u001b[39mdef\u001b[39;00m \u001b[39m__iter__\u001b[39m(\u001b[39mself\u001b[39m) \u001b[39m-\u001b[39m\u001b[39m>\u001b[39m typing\u001b[39m.\u001b[39mGenerator[\u001b[39mtuple\u001b[39m[np\u001b[39m.\u001b[39mndarray], np\u001b[39m.\u001b[39mndarray, \u001b[39mStopIteration\u001b[39;00m] : \n\u001b[1;32m    338\u001b[0m     \u001b[39mwhile\u001b[39;00m \u001b[39mself\u001b[39m\u001b[39m.\u001b[39m__iteration_index \u001b[39m<\u001b[39m \u001b[39mself\u001b[39m\u001b[39m.\u001b[39m\u001b[39m__len__\u001b[39m():\n\u001b[0;32m--> 340\u001b[0m         \u001b[39myield\u001b[39;00m \u001b[39mself\u001b[39;49m\u001b[39m.\u001b[39;49m\u001b[39m__getitem__\u001b[39;49m(\u001b[39mself\u001b[39;49m\u001b[39m.\u001b[39;49m__iteration_index)\n\u001b[1;32m    341\u001b[0m         \u001b[39mself\u001b[39m\u001b[39m.\u001b[39m__iteration_index \u001b[39m+\u001b[39m\u001b[39m=\u001b[39m \u001b[39m1\u001b[39m\n\u001b[1;32m    343\u001b[0m     \u001b[39mreturn\u001b[39;00m \u001b[39mStopIteration\u001b[39;00m\n",
      "File \u001b[0;32m~/Binaries/Generator.py:252\u001b[0m, in \u001b[0;36mGenerator.__getitem__\u001b[0;34m(self, index)\u001b[0m\n\u001b[1;32m    249\u001b[0m \u001b[39mfor\u001b[39;00m station \u001b[39min\u001b[39;00m stations:\n\u001b[1;32m    251\u001b[0m     baseline \u001b[39m=\u001b[39m \u001b[39mself\u001b[39m\u001b[39m.\u001b[39mbuild_baseline()\n\u001b[0;32m--> 252\u001b[0m     VEMTrace \u001b[39m=\u001b[39m Trace(baseline, station, \u001b[39mself\u001b[39;49m\u001b[39m.\u001b[39;49mtrace_options, \u001b[39mself\u001b[39;49m\u001b[39m.\u001b[39;49mfiles[index])                  \u001b[39m# create the trace\u001b[39;00m\n\u001b[1;32m    253\u001b[0m     full_traces\u001b[39m.\u001b[39mappend(VEMTrace)\n\u001b[1;32m    255\u001b[0m     \u001b[39mif\u001b[39;00m \u001b[39mnot\u001b[39;00m \u001b[39mself\u001b[39m\u001b[39m.\u001b[39mfor_training: \u001b[39mcontinue\u001b[39;00m\n",
      "File \u001b[0;32m~/Binaries/Signal.py:114\u001b[0m, in \u001b[0;36mTrace.__init__\u001b[0;34m(self, baseline_data, signal_data, trace_options, event_file)\u001b[0m\n\u001b[1;32m    112\u001b[0m \u001b[39m# build the VEM trace and integral\u001b[39;00m\n\u001b[1;32m    113\u001b[0m \u001b[39mself\u001b[39m\u001b[39m.\u001b[39mbuild_integral_trace()\n\u001b[0;32m--> 114\u001b[0m \u001b[39mself\u001b[39;49m\u001b[39m.\u001b[39;49mconvert_to_VEM()\n",
      "File \u001b[0;32m~/Binaries/Signal.py:181\u001b[0m, in \u001b[0;36mTrace.convert_to_VEM\u001b[0;34m(self)\u001b[0m\n\u001b[1;32m    179\u001b[0m \u001b[39mif\u001b[39;00m \u001b[39mself\u001b[39m\u001b[39m.\u001b[39mdownsampled:\n\u001b[1;32m    180\u001b[0m     \u001b[39mself\u001b[39m\u001b[39m.\u001b[39mpmt_1 \u001b[39m=\u001b[39m \u001b[39mself\u001b[39m\u001b[39m.\u001b[39mapply_downsampling(\u001b[39mself\u001b[39m\u001b[39m.\u001b[39mpmt_1, \u001b[39mself\u001b[39m\u001b[39m.\u001b[39mrandom_phase)\n\u001b[0;32m--> 181\u001b[0m     \u001b[39mself\u001b[39m\u001b[39m.\u001b[39mpmt_2 \u001b[39m=\u001b[39m \u001b[39mself\u001b[39;49m\u001b[39m.\u001b[39;49mapply_downsampling(\u001b[39mself\u001b[39;49m\u001b[39m.\u001b[39;49mpmt_2, \u001b[39mself\u001b[39;49m\u001b[39m.\u001b[39;49mrandom_phase)\n\u001b[1;32m    182\u001b[0m     \u001b[39mself\u001b[39m\u001b[39m.\u001b[39mpmt_3 \u001b[39m=\u001b[39m \u001b[39mself\u001b[39m\u001b[39m.\u001b[39mapply_downsampling(\u001b[39mself\u001b[39m\u001b[39m.\u001b[39mpmt_3, \u001b[39mself\u001b[39m\u001b[39m.\u001b[39mrandom_phase)\n\u001b[1;32m    184\u001b[0m     \u001b[39mif\u001b[39;00m \u001b[39mself\u001b[39m\u001b[39m.\u001b[39mhas_signal:\n",
      "File \u001b[0;32m~/Binaries/Signal.py:229\u001b[0m, in \u001b[0;36mTrace.apply_downsampling\u001b[0;34m(self, pmt, random_phase)\u001b[0m\n\u001b[1;32m    227\u001b[0m \u001b[39m# perform downsampling\u001b[39;00m\n\u001b[1;32m    228\u001b[0m \u001b[39mfor\u001b[39;00m j, coeff \u001b[39min\u001b[39;00m \u001b[39menumerate\u001b[39m(kFirCoefficients):\n\u001b[0;32m--> 229\u001b[0m     sampled_trace \u001b[39m+\u001b[39m\u001b[39m=\u001b[39m [temp[k \u001b[39m+\u001b[39m j] \u001b[39m*\u001b[39m coeff \u001b[39mfor\u001b[39;00m k \u001b[39min\u001b[39;00m \u001b[39mrange\u001b[39m(random_phase, n_bins_uub, \u001b[39m3\u001b[39m)]\n\u001b[1;32m    231\u001b[0m \u001b[39m# clipping and bitshifting\u001b[39;00m\n\u001b[1;32m    232\u001b[0m sampled_trace \u001b[39m=\u001b[39m [\u001b[39mint\u001b[39m(adc) \u001b[39m>>\u001b[39m kFirNormalizationBitShift \u001b[39mfor\u001b[39;00m adc \u001b[39min\u001b[39;00m sampled_trace]\n",
      "File \u001b[0;32m~/Binaries/Signal.py:229\u001b[0m, in \u001b[0;36m<listcomp>\u001b[0;34m(.0)\u001b[0m\n\u001b[1;32m    227\u001b[0m \u001b[39m# perform downsampling\u001b[39;00m\n\u001b[1;32m    228\u001b[0m \u001b[39mfor\u001b[39;00m j, coeff \u001b[39min\u001b[39;00m \u001b[39menumerate\u001b[39m(kFirCoefficients):\n\u001b[0;32m--> 229\u001b[0m     sampled_trace \u001b[39m+\u001b[39m\u001b[39m=\u001b[39m [temp[k \u001b[39m+\u001b[39m j] \u001b[39m*\u001b[39m coeff \u001b[39mfor\u001b[39;00m k \u001b[39min\u001b[39;00m \u001b[39mrange\u001b[39m(random_phase, n_bins_uub, \u001b[39m3\u001b[39m)]\n\u001b[1;32m    231\u001b[0m \u001b[39m# clipping and bitshifting\u001b[39;00m\n\u001b[1;32m    232\u001b[0m sampled_trace \u001b[39m=\u001b[39m [\u001b[39mint\u001b[39m(adc) \u001b[39m>>\u001b[39m kFirNormalizationBitShift \u001b[39mfor\u001b[39;00m adc \u001b[39min\u001b[39;00m sampled_trace]\n",
      "\u001b[0;31mKeyboardInterrupt\u001b[0m: "
     ]
    }
   ],
   "source": [
    "#!/usr/bin/python3\n",
    "\n",
    "from Binaries import *\n",
    "# ensemble_no = int(sys.argv[1]) + 1\n",
    "priors = np.linspace(0.05, 0.95, 10)\n",
    "ensemble_no = 2\n",
    "\n",
    "event_kwargs = {\n",
    "                \"apply_downsampling\" : True, \n",
    "                \"q_peak\" : np.array([GLOBAL.q_peak_compatibility for _ in range(3)]), \n",
    "                \"prior\" : np.round(priors[ensemble_no], 2)\n",
    "                }\n",
    "\n",
    "try:\n",
    "    print(f\"120_eCNN_Downsampled_AllEnergies_p{event_kwargs['prior']}\")\n",
    "    ThisNN = NNClassifier(f\"120_eCNN_Downsampled_AllEnergies_p{event_kwargs['prior']}\")\n",
    "except FileNotFoundError:\n",
    "    MockNN = NNClassifier(\"ENSEMBLES/120_TwoLayer_Downsampled_AllEnergies_NoCuts/ensemble_01\", supress_print = True)\n",
    "    Events = EventGenerator([], **event_kwargs, ignore_low_vem = 2.0)      # cut goes here\n",
    "    Events[0].files += MockNN.get_files(\"training\")\n",
    "    Events[1].files += MockNN.get_files(\"validation\")\n",
    "\n",
    "    ThisNN = NNClassifier(f\"120_eCNN_Downsampled_AllEnergies_p{event_kwargs['prior']}\", \"120_CNN\")\n",
    "    ThisNN.train(Events, 10, apply_downsampling = True)\n",
    "\n",
    "try:\n",
    "    _ = ThisNN.load_and_print_performance(\"validation_data_no_cuts\")\n",
    "except FileNotFoundError:\n",
    "    EventsNoCut = EventGenerator(ThisNN, split = 1, **event_kwargs)\n",
    "    ThisNN.make_signal_dataset(EventsNoCut, \"validation_data_no_cuts\")"
   ]
  },
  {
   "cell_type": "code",
   "execution_count": null,
   "metadata": {},
   "outputs": [],
   "source": []
  }
 ],
 "metadata": {
  "kernelspec": {
   "display_name": "base",
   "language": "python",
   "name": "python3"
  },
  "language_info": {
   "codemirror_mode": {
    "name": "ipython",
    "version": 3
   },
   "file_extension": ".py",
   "mimetype": "text/x-python",
   "name": "python",
   "nbconvert_exporter": "python",
   "pygments_lexer": "ipython3",
   "version": "3.9.12"
  },
  "orig_nbformat": 4
 },
 "nbformat": 4,
 "nbformat_minor": 2
}
