{
 "cells": [
  {
   "cell_type": "code",
   "execution_count": 1,
   "metadata": {},
   "outputs": [
    {
     "name": "stdout",
     "output_type": "stream",
     "text": [
      "[INFO] -- LOADING LO_QUI_DON: randoms0195.csv                                                            \n",
      "[INFO] -- LOADING NURIA: randoms0482.csv                                                            \n",
      "Model: \"sequential\"\n",
      "_________________________________________________________________\n",
      " Layer (type)                Output Shape              Param #   \n",
      "=================================================================\n",
      " conv2d (Conv2D)             (None, 1, 30, 4)          40        \n",
      "                                                                 \n",
      " conv1d (Conv1D)             (None, 1, 26, 2)          42        \n",
      "                                                                 \n",
      " flatten (Flatten)           (None, 52)                0         \n",
      "                                                                 \n",
      " dense (Dense)               (None, 10)                530       \n",
      "                                                                 \n",
      " dense_1 (Dense)             (None, 2)                 22        \n",
      "                                                                 \n",
      "=================================================================\n",
      "Total params: 634\n",
      "Trainable params: 634\n",
      "Non-trainable params: 0\n",
      "_________________________________________________________________\n",
      "\n",
      "\n",
      "calculating trigger rate on 0.5s (~30 000 Traces) of random traces now\n",
      "[INFO] -- LOADING NURIA: randoms0744.csv                                                            \n",
      "Step 30/30 | 00:00:01 elapsed ||--------------------|| 100% -- 37.713 ms/step, ETA: 00:00:00\n",
      "\n",
      "Production test results:\n",
      "\n",
      "random traces injected: 30\n",
      "summed traces duration: 0.00051s\n",
      "total T2 trigger found: 30\n",
      "*********************************\n",
      "TRIGGER FREQUENCY = 58829.07 +- 10740.67 Hz\n"
     ]
    },
    {
     "ename": "FileNotFoundError",
     "evalue": "[Errno 2] No such file or directory: '/cr/data01/filip/models/ENSEMBLES/90_eCNN_Downsampled_AllEnergies_6_0VEM/ensemble_00/model_0/production_test.csv'",
     "output_type": "error",
     "traceback": [
      "\u001b[0;31m---------------------------------------------------------------------------\u001b[0m",
      "\u001b[0;31mOSError\u001b[0m                                   Traceback (most recent call last)",
      "File \u001b[0;32m~/Binaries/Network.py:254\u001b[0m, in \u001b[0;36mNNClassifier.__init__\u001b[0;34m(self, name, set_architecture, supress_print)\u001b[0m\n\u001b[1;32m    253\u001b[0m \u001b[39mtry\u001b[39;00m:\n\u001b[0;32m--> 254\u001b[0m     \u001b[39mself\u001b[39m\u001b[39m.\u001b[39mmodel \u001b[39m=\u001b[39m tf\u001b[39m.\u001b[39;49mkeras\u001b[39m.\u001b[39;49mmodels\u001b[39m.\u001b[39;49mload_model(\u001b[39m\"\u001b[39;49m\u001b[39m/cr/data01/filip/models/\u001b[39;49m\u001b[39m\"\u001b[39;49m \u001b[39m+\u001b[39;49m name \u001b[39m+\u001b[39;49m \u001b[39m\"\u001b[39;49m\u001b[39m/model_converged\u001b[39;49m\u001b[39m\"\u001b[39;49m)\n\u001b[1;32m    255\u001b[0m     \u001b[39mself\u001b[39m\u001b[39m.\u001b[39mepochs \u001b[39m=\u001b[39m \u001b[39m\"\u001b[39m\u001b[39mconverged\u001b[39m\u001b[39m\"\u001b[39m\n",
      "File \u001b[0;32m~/anaconda3/lib/python3.9/site-packages/keras/utils/traceback_utils.py:67\u001b[0m, in \u001b[0;36mfilter_traceback.<locals>.error_handler\u001b[0;34m(*args, **kwargs)\u001b[0m\n\u001b[1;32m     66\u001b[0m   filtered_tb \u001b[39m=\u001b[39m _process_traceback_frames(e\u001b[39m.\u001b[39m__traceback__)\n\u001b[0;32m---> 67\u001b[0m   \u001b[39mraise\u001b[39;00m e\u001b[39m.\u001b[39mwith_traceback(filtered_tb) \u001b[39mfrom\u001b[39;00m \u001b[39mNone\u001b[39m\n\u001b[1;32m     68\u001b[0m \u001b[39mfinally\u001b[39;00m:\n",
      "File \u001b[0;32m~/anaconda3/lib/python3.9/site-packages/keras/saving/save.py:204\u001b[0m, in \u001b[0;36mload_model\u001b[0;34m(filepath, custom_objects, compile, options)\u001b[0m\n\u001b[1;32m    203\u001b[0m \u001b[39mif\u001b[39;00m \u001b[39mnot\u001b[39;00m tf\u001b[39m.\u001b[39mio\u001b[39m.\u001b[39mgfile\u001b[39m.\u001b[39mexists(filepath_str):\n\u001b[0;32m--> 204\u001b[0m   \u001b[39mraise\u001b[39;00m \u001b[39mIOError\u001b[39;00m(\u001b[39mf\u001b[39m\u001b[39m'\u001b[39m\u001b[39mNo file or directory found at \u001b[39m\u001b[39m{\u001b[39;00mfilepath_str\u001b[39m}\u001b[39;00m\u001b[39m'\u001b[39m)\n\u001b[1;32m    206\u001b[0m \u001b[39mif\u001b[39;00m tf\u001b[39m.\u001b[39mio\u001b[39m.\u001b[39mgfile\u001b[39m.\u001b[39misdir(filepath_str):\n",
      "\u001b[0;31mOSError\u001b[0m: No file or directory found at /cr/data01/filip/models/ENSEMBLES/90_eCNN_Downsampled_AllEnergies_6_0VEM/ensemble_00/model_converged",
      "\nDuring handling of the above exception, another exception occurred:\n",
      "\u001b[0;31mFileNotFoundError\u001b[0m                         Traceback (most recent call last)",
      "Cell \u001b[0;32mIn[1], line 11\u001b[0m\n\u001b[1;32m     10\u001b[0m \u001b[39mtry\u001b[39;00m:\n\u001b[0;32m---> 11\u001b[0m     ThisNN \u001b[39m=\u001b[39m NNClassifier(\u001b[39mf\u001b[39;49m\u001b[39m\"\u001b[39;49m\u001b[39mENSEMBLES/90_eCNN_Downsampled_AllEnergies_6_0VEM/ensemble_\u001b[39;49m\u001b[39m{\u001b[39;49;00mensemble_no\u001b[39m:\u001b[39;49;00m\u001b[39m02\u001b[39;49m\u001b[39m}\u001b[39;49;00m\u001b[39m\"\u001b[39;49m)\n\u001b[1;32m     12\u001b[0m \u001b[39mexcept\u001b[39;00m \u001b[39mFileNotFoundError\u001b[39;00m:\n",
      "File \u001b[0;32m~/Binaries/Network.py:258\u001b[0m, in \u001b[0;36mNNClassifier.__init__\u001b[0;34m(self, name, set_architecture, supress_print)\u001b[0m\n\u001b[1;32m    257\u001b[0m available_models \u001b[39m=\u001b[39m os\u001b[39m.\u001b[39mlistdir(\u001b[39m'\u001b[39m\u001b[39m/cr/data01/filip/models/\u001b[39m\u001b[39m'\u001b[39m \u001b[39m+\u001b[39m name)\n\u001b[0;32m--> 258\u001b[0m \u001b[39mif\u001b[39;00m \u001b[39mlen\u001b[39m(available_models) \u001b[39m==\u001b[39m \u001b[39m0\u001b[39m: \u001b[39mraise\u001b[39;00m \u001b[39mFileNotFoundError\u001b[39;00m\n\u001b[1;32m    259\u001b[0m \u001b[39melif\u001b[39;00m \u001b[39mlen\u001b[39m(available_models) \u001b[39m!=\u001b[39m \u001b[39m1\u001b[39m:\n",
      "\u001b[0;31mFileNotFoundError\u001b[0m: ",
      "\nDuring handling of the above exception, another exception occurred:\n",
      "\u001b[0;31mFileNotFoundError\u001b[0m                         Traceback (most recent call last)",
      "Cell \u001b[0;32mIn[1], line 19\u001b[0m\n\u001b[1;32m     16\u001b[0m Events[\u001b[39m1\u001b[39m]\u001b[39m.\u001b[39mfiles \u001b[39m+\u001b[39m\u001b[39m=\u001b[39m MockNN\u001b[39m.\u001b[39mget_files(\u001b[39m\"\u001b[39m\u001b[39mvalidation\u001b[39m\u001b[39m\"\u001b[39m)\n\u001b[1;32m     18\u001b[0m ThisNN \u001b[39m=\u001b[39m NNClassifier(\u001b[39mf\u001b[39m\u001b[39m\"\u001b[39m\u001b[39mENSEMBLES/90_eCNN_Downsampled_AllEnergies_6_0VEM/ensemble_\u001b[39m\u001b[39m{\u001b[39;00mensemble_no\u001b[39m:\u001b[39;00m\u001b[39m02\u001b[39m\u001b[39m}\u001b[39;00m\u001b[39m\"\u001b[39m, \u001b[39m\"\u001b[39m\u001b[39m90_CNN\u001b[39m\u001b[39m\"\u001b[39m)\n\u001b[0;32m---> 19\u001b[0m ThisNN\u001b[39m.\u001b[39;49mtrain(Events, \u001b[39m10\u001b[39;49m, apply_downsampling \u001b[39m=\u001b[39;49m \u001b[39mTrue\u001b[39;49;00m)\n",
      "File \u001b[0;32m~/Binaries/Network.py:330\u001b[0m, in \u001b[0;36mNNClassifier.train\u001b[0;34m(self, Datasets, epochs, **kwargs)\u001b[0m\n\u001b[1;32m    327\u001b[0m \u001b[39mprint\u001b[39m(\u001b[39mf\u001b[39m\u001b[39m\"\u001b[39m\u001b[39m\\n\u001b[39;00m\u001b[39mcalculating trigger rate on 0.5s (~30 000 Traces) of random traces now\u001b[39m\u001b[39m\"\u001b[39m)\n\u001b[1;32m    328\u001b[0m f, df, n, n_trig, t \u001b[39m=\u001b[39m \u001b[39mself\u001b[39m\u001b[39m.\u001b[39mproduction_test(\u001b[39m30\u001b[39m, apply_downsampling \u001b[39m=\u001b[39m kwargs\u001b[39m.\u001b[39mget(\u001b[39m\"\u001b[39m\u001b[39mapply_downsampling\u001b[39m\u001b[39m\"\u001b[39m, \u001b[39mFalse\u001b[39;00m), window_length \u001b[39m=\u001b[39m window_length, window_step \u001b[39m=\u001b[39m window_step)\n\u001b[0;32m--> 330\u001b[0m \u001b[39mwith\u001b[39;00m \u001b[39mopen\u001b[39;49m(\u001b[39mf\u001b[39;49m\u001b[39m\"\u001b[39;49m\u001b[39m/cr/data01/filip/models/\u001b[39;49m\u001b[39m{\u001b[39;49;00m\u001b[39mself\u001b[39;49m\u001b[39m.\u001b[39;49mname\u001b[39m}\u001b[39;49;00m\u001b[39m/model_\u001b[39;49m\u001b[39m{\u001b[39;49;00m\u001b[39mself\u001b[39;49m\u001b[39m.\u001b[39;49mepochs\u001b[39m}\u001b[39;49;00m\u001b[39m/production_test.csv\u001b[39;49m\u001b[39m\"\u001b[39;49m, \u001b[39m\"\u001b[39;49m\u001b[39mw\u001b[39;49m\u001b[39m\"\u001b[39;49m) \u001b[39mas\u001b[39;00m random_file:\n\u001b[1;32m    331\u001b[0m     random_file\u001b[39m.\u001b[39mwrite(\u001b[39m\"\u001b[39m\u001b[39m# f  df  n_traces  n_total_triggered  total_trace_duration\u001b[39m\u001b[39m\\n\u001b[39;00m\u001b[39m\"\u001b[39m)\n\u001b[1;32m    332\u001b[0m     random_file\u001b[39m.\u001b[39mwrite(\u001b[39mf\u001b[39m\u001b[39m\"\u001b[39m\u001b[39m{\u001b[39;00mf\u001b[39m}\u001b[39;00m\u001b[39m \u001b[39m\u001b[39m{\u001b[39;00mdf\u001b[39m}\u001b[39;00m\u001b[39m \u001b[39m\u001b[39m{\u001b[39;00mn\u001b[39m}\u001b[39;00m\u001b[39m \u001b[39m\u001b[39m{\u001b[39;00mn_trig\u001b[39m}\u001b[39;00m\u001b[39m \u001b[39m\u001b[39m{\u001b[39;00mt\u001b[39m}\u001b[39;00m\u001b[39m\"\u001b[39m)\n",
      "\u001b[0;31mFileNotFoundError\u001b[0m: [Errno 2] No such file or directory: '/cr/data01/filip/models/ENSEMBLES/90_eCNN_Downsampled_AllEnergies_6_0VEM/ensemble_00/model_0/production_test.csv'"
     ]
    }
   ],
   "source": [
    "from Binaries import *\n",
    "\n",
    "ensemble_no = 1\n",
    "event_kwargs = {\n",
    "                \"apply_downsampling\" : True, \n",
    "                \"q_peak\" : np.array([GLOBAL.q_peak_compatibility for _ in range(3)]), \n",
    "                \"sliding_window_length\" : 90\n",
    "                }\n",
    "\n",
    "try:\n",
    "    ThisNN = NNClassifier(f\"ENSEMBLES/90_eCNN_Downsampled_AllEnergies_6_0VEM/ensemble_{ensemble_no:02}\")\n",
    "except FileNotFoundError:\n",
    "    MockNN = NNClassifier(\"ENSEMBLES/120_TwoLayer_Downsampled_AllEnergies_NoCuts/ensemble_01\", supress_print = True)\n",
    "    Events = EventGenerator([], **event_kwargs, ignore_low_vem = 6.0)      # cut goes here\n",
    "    Events[0].files += MockNN.get_files(\"training\")\n",
    "    Events[1].files += MockNN.get_files(\"validation\")\n",
    "\n",
    "    ThisNN = NNClassifier(f\"ENSEMBLES/90_eCNN_Downsampled_AllEnergies_6_0VEM/ensemble_{ensemble_no:02}\", \"90_CNN\")\n",
    "    ThisNN.train(Events, 10, apply_downsampling = True)\n",
    "\n",
    "# try:\n",
    "#     _ = ThisNN.load_and_print_performance(\"validation_data_no_cuts\")\n",
    "# except FileNotFoundError:\n",
    "#     EventsNoCut = EventGenerator(ThisNN, split = 1, **event_kwargs)\n",
    "#     ThisNN.make_signal_dataset(EventsNoCut, \"validation_data_no_cuts\")"
   ]
  },
  {
   "cell_type": "code",
   "execution_count": null,
   "metadata": {},
   "outputs": [],
   "source": []
  }
 ],
 "metadata": {
  "kernelspec": {
   "display_name": "base",
   "language": "python",
   "name": "python3"
  },
  "language_info": {
   "codemirror_mode": {
    "name": "ipython",
    "version": 3
   },
   "file_extension": ".py",
   "mimetype": "text/x-python",
   "name": "python",
   "nbconvert_exporter": "python",
   "pygments_lexer": "ipython3",
   "version": "3.9.12"
  },
  "orig_nbformat": 4
 },
 "nbformat": 4,
 "nbformat_minor": 2
}
