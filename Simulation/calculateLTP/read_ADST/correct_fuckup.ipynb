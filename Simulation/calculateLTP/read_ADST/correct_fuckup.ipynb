{
 "cells": [
  {
   "cell_type": "code",
   "execution_count": 1,
   "metadata": {},
   "outputs": [],
   "source": [
    "from Binaries import *"
   ]
  },
  {
   "cell_type": "code",
   "execution_count": 8,
   "metadata": {},
   "outputs": [],
   "source": [
    "for file in os.listdir(\"/cr/tempdata01/filip/QGSJET-II/LTP/ADST/\"):\n",
    "\n",
    "    file = \"/cr/tempdata01/filip/QGSJET-II/LTP/ADST/\" + file\n",
    "\n",
    "    with open(file, \"r\") as source:\n",
    "        content = source.readlines()\n",
    "        content[0] = content[0].rstrip() + \" 0\\n\"\n",
    "\n",
    "    with open(file, \"w\") as target:\n",
    "        for line in content: target.write(line)"
   ]
  },
  {
   "cell_type": "code",
   "execution_count": null,
   "metadata": {},
   "outputs": [],
   "source": []
  }
 ],
 "metadata": {
  "kernelspec": {
   "display_name": "base",
   "language": "python",
   "name": "python3"
  },
  "language_info": {
   "codemirror_mode": {
    "name": "ipython",
    "version": 3
   },
   "file_extension": ".py",
   "mimetype": "text/x-python",
   "name": "python",
   "nbconvert_exporter": "python",
   "pygments_lexer": "ipython3",
   "version": "3.9.12"
  },
  "orig_nbformat": 4
 },
 "nbformat": 4,
 "nbformat_minor": 2
}
