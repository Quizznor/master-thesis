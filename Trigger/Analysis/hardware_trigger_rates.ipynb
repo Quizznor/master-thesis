{
 "cells": [
  {
   "cell_type": "code",
   "execution_count": null,
   "metadata": {},
   "outputs": [],
   "source": [
    "from Binaries import *"
   ]
  },
  {
   "cell_type": "code",
   "execution_count": null,
   "metadata": {},
   "outputs": [],
   "source": [
    "triggers = np.loadtxt(\"/cr/tempdata01/filip/iRODS/temp/triggers.csv\", dtype = str)"
   ]
  },
  {
   "cell_type": "code",
   "execution_count": null,
   "metadata": {},
   "outputs": [],
   "source": [
    "stations, counts = np.unique(triggers, return_counts = True)\n",
    "stations_int = [int(station[-8:-4]) for station in stations]\n",
    "single_trace_duration = GLOBAL.single_bin_duration * GLOBAL.n_bins\n",
    "rates, sigma_rates = [], []\n",
    "\n",
    "for i, station in enumerate(stations_int):\n",
    "    Buffer = RandomTrace(index = station - 1)\n",
    "    all_traces = len(Buffer._these_traces)\n",
    "    all_traces_duration = all_traces * single_trace_duration\n",
    "    rate_error = np.sqrt(counts[i]) / all_traces_duration\n",
    "    rate = counts[i] / all_traces_duration\n",
    "\n",
    "    print(stations[i], counts[i], all_traces, rate, rate_error)\n",
    "\n",
    "    sigma_rates.append(rate_error)\n",
    "    rates.append(rate)"
   ]
  },
  {
   "cell_type": "code",
   "execution_count": null,
   "metadata": {},
   "outputs": [],
   "source": [
    "plt.plot(range(len(rates)), rates)\n",
    "\n",
    "print(np.mean(rates), \"Hz\")"
   ]
  },
  {
   "cell_type": "code",
   "execution_count": null,
   "metadata": {},
   "outputs": [],
   "source": []
  }
 ],
 "metadata": {
  "kernelspec": {
   "display_name": "base",
   "language": "python",
   "name": "python3"
  },
  "language_info": {
   "codemirror_mode": {
    "name": "ipython",
    "version": 3
   },
   "file_extension": ".py",
   "mimetype": "text/x-python",
   "name": "python",
   "nbconvert_exporter": "python",
   "pygments_lexer": "ipython3",
   "version": "3.9.12 (main, Jun  1 2022, 11:38:51) \n[GCC 7.5.0]"
  },
  "orig_nbformat": 4,
  "vscode": {
   "interpreter": {
    "hash": "e6bd95ed309fd09468b42d789b4c7d801e53518dbe20f43a540524fa8075e3ba"
   }
  }
 },
 "nbformat": 4,
 "nbformat_minor": 2
}
