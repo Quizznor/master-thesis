{
 "cells": [
  {
   "cell_type": "code",
   "execution_count": 2,
   "metadata": {},
   "outputs": [],
   "source": [
    "from Binaries import *"
   ]
  },
  {
   "cell_type": "markdown",
   "metadata": {},
   "source": [
    "### own trigger rate"
   ]
  },
  {
   "cell_type": "code",
   "execution_count": 21,
   "metadata": {},
   "outputs": [],
   "source": [
    "n_trig, n_sum, rate, rate_err = np.loadtxt(\"/cr/tempdata01/filip/iRODS/MonitoringData/part_trigger_rates_fixed.csv\", usecols = [1, 2, 3, 4], unpack = True)"
   ]
  },
  {
   "cell_type": "markdown",
   "metadata": {},
   "source": [
    "### online trigger rate"
   ]
  },
  {
   "cell_type": "code",
   "execution_count": 22,
   "metadata": {},
   "outputs": [],
   "source": [
    "import uproot\n",
    "\n",
    "def calculate_start_end(station):\n",
    "\n",
    "    starts = data['fCalibration.fStartSecond'].array()[station]\n",
    "    deltas = data['fCalibration.fEndSecond'].array()[station]\n",
    "    stops = starts + deltas\n",
    "\n",
    "    return starts, stops, deltas\n",
    "\n",
    "file = uproot.open(\"/cr/tempdata01/filip/iRODS/MonitoringData/mc_2022_03_17_00h00.root:SDMonCal\")\n",
    "StationIDs = file['SDMonCalBranch']['fLsId'].array()\n",
    "data = file['fCalibration']\n",
    "Nuria = StationIDs == 56\n",
    "start, stop, dt = calculate_start_end(Nuria)\n",
    "t = ( 0.5 * (start + stop)  - 1331510418) / 3600\n",
    "y = []\n",
    "\n",
    "n_trig_online = []\n",
    "deltas = data['fCalibration.fEndSecond'].array()[Nuria]\n",
    "\n",
    "for j, trigger in enumerate(['fCalibration.fT2', 'fCalibration.fTotRate', 'fCalibration.fTotD', 'fCalibration.fMops']):\n",
    "\n",
    "    if j != 1: y.append(data[trigger].array()[Nuria] / deltas)\n",
    "    else: y.append(data[trigger].array()[Nuria])\n",
    "\n",
    "# Th2 = x[0]\n",
    "# ToT = x[0] + x[1]\n",
    "n_trig_online_all = y[0] + y[1] + y[2] + y[3]\n",
    "n_trig_online_th2 = y[0]"
   ]
  },
  {
   "cell_type": "code",
   "execution_count": 1,
   "metadata": {},
   "outputs": [
    {
     "ename": "NameError",
     "evalue": "name 'plt' is not defined",
     "output_type": "error",
     "traceback": [
      "\u001b[0;31m---------------------------------------------------------------------------\u001b[0m",
      "\u001b[0;31mNameError\u001b[0m                                 Traceback (most recent call last)",
      "\u001b[1;32m/cr/users/filip/Trigger/Analysis/hardware_trigger_rates.ipynb Cell 6\u001b[0m in \u001b[0;36m<cell line: 3>\u001b[0;34m()\u001b[0m\n\u001b[1;32m      <a href='vscode-notebook-cell://ssh-remote%2Biklx288.ikp.kit.edu/cr/users/filip/Trigger/Analysis/hardware_trigger_rates.ipynb#W5sdnNjb2RlLXJlbW90ZQ%3D%3D?line=0'>1</a>\u001b[0m \u001b[39m# Monitoring data\u001b[39;00m\n\u001b[0;32m----> <a href='vscode-notebook-cell://ssh-remote%2Biklx288.ikp.kit.edu/cr/users/filip/Trigger/Analysis/hardware_trigger_rates.ipynb#W5sdnNjb2RlLXJlbW90ZQ%3D%3D?line=2'>3</a>\u001b[0m plt\u001b[39m.\u001b[39mrcParams[\u001b[39m\"\u001b[39m\u001b[39mfigure.figsize\u001b[39m\u001b[39m\"\u001b[39m] \u001b[39m=\u001b[39m [\u001b[39m20\u001b[39m,\u001b[39m10\u001b[39m]\n\u001b[1;32m      <a href='vscode-notebook-cell://ssh-remote%2Biklx288.ikp.kit.edu/cr/users/filip/Trigger/Analysis/hardware_trigger_rates.ipynb#W5sdnNjb2RlLXJlbW90ZQ%3D%3D?line=4'>5</a>\u001b[0m ax1 \u001b[39m=\u001b[39m plt\u001b[39m.\u001b[39mgca()\n\u001b[1;32m      <a href='vscode-notebook-cell://ssh-remote%2Biklx288.ikp.kit.edu/cr/users/filip/Trigger/Analysis/hardware_trigger_rates.ipynb#W5sdnNjb2RlLXJlbW90ZQ%3D%3D?line=5'>6</a>\u001b[0m ax1\u001b[39m.\u001b[39mset_xlabel(\u001b[39m\"\u001b[39m\u001b[39mTime of day\u001b[39m\u001b[39m\"\u001b[39m)\n",
      "\u001b[0;31mNameError\u001b[0m: name 'plt' is not defined"
     ]
    }
   ],
   "source": [
    "# Monitoring data\n",
    "\n",
    "plt.rcParams[\"figure.figsize\"] = [20,10]\n",
    "\n",
    "ax1 = plt.gca()\n",
    "ax1.set_xlabel(\"Time of day\")\n",
    "ax1.set_xticks(ticks = range(0, 24, 2), labels = [f\"{h}h\" for h in range(0, 24, 2)])\n",
    "ax1.plot(t, n_trig_online_all, label = \"Monitoring data\")\n",
    "ax1.plot(t, n_trig_online_th2)\n",
    "ax1.plot([],[], label = \"Hardware trigger\")\n",
    "\n",
    "ax2 = ax1.twiny()\n",
    "ax2.set_xlabel(\"File ID\")\n",
    "\n",
    "\n",
    "# Own estimate\n",
    "\n",
    "single_trace_duration = GLOBAL.single_bin_duration * GLOBAL.n_bins\n",
    "combine_files = 30\n",
    "n_trig_own = []\n",
    "file_ids = []\n",
    "\n",
    "for i in range(0, len(n_trig), combine_files):\n",
    "\n",
    "    try:\n",
    "        sum_trigger = sum(n_trig[i : i + combine_files])\n",
    "        sum_total = sum(n_sum[i : i + combine_files])\n",
    "    except IndexError:\n",
    "        sum_trigger = sum(n_trig[i : -1])\n",
    "        sum_total = sum(n_sum[i : -1])\n",
    "\n",
    "    rate = sum_trigger / (sum_total * single_trace_duration)\n",
    "\n",
    "    file_ids.append(i), file_ids.append(i + combine_files)\n",
    "    n_trig_own.append(rate), n_trig_own.append(rate)\n",
    "\n",
    "plt.plot(file_ids, n_trig_own, c = \"orange\")\n",
    "\n",
    "ax1.legend()\n"
   ]
  },
  {
   "cell_type": "code",
   "execution_count": 20,
   "metadata": {},
   "outputs": [
    {
     "name": "stdout",
     "output_type": "stream",
     "text": [
      "630\n"
     ]
    }
   ],
   "source": [
    "print(len(n_trig))"
   ]
  },
  {
   "cell_type": "code",
   "execution_count": null,
   "metadata": {},
   "outputs": [],
   "source": []
  }
 ],
 "metadata": {
  "kernelspec": {
   "display_name": "base",
   "language": "python",
   "name": "python3"
  },
  "language_info": {
   "codemirror_mode": {
    "name": "ipython",
    "version": 3
   },
   "file_extension": ".py",
   "mimetype": "text/x-python",
   "name": "python",
   "nbconvert_exporter": "python",
   "pygments_lexer": "ipython3",
   "version": "3.9.12"
  },
  "orig_nbformat": 4,
  "vscode": {
   "interpreter": {
    "hash": "e6bd95ed309fd09468b42d789b4c7d801e53518dbe20f43a540524fa8075e3ba"
   }
  }
 },
 "nbformat": 4,
 "nbformat_minor": 2
}
