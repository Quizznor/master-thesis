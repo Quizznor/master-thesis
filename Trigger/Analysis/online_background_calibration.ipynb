{
 "cells": [
  {
   "cell_type": "code",
   "execution_count": 1,
   "metadata": {},
   "outputs": [],
   "source": [
    "from Binaries import *"
   ]
  },
  {
   "cell_type": "code",
   "execution_count": 5,
   "metadata": {},
   "outputs": [
    {
     "name": "stdout",
     "output_type": "stream",
     "text": [
      "-5/800 nuria_randoms0796.csv: 5000 traces\n",
      "-4/800 nuria_randoms0797.csv: 5000 traces\n",
      "-3/800 nuria_randoms0798.csv: 5000 traces\n",
      "-2/800 nuria_randoms0799.csv: 2489 traces\n",
      "-1/800 nuria_randoms0800.csv: 5000 traces\n"
     ]
    }
   ],
   "source": [
    "for index in [0]:\n",
    "\n",
    "    Buffer = RandomTrace(\"nuria\", index)\n",
    "    \n",
    "    # vem_peak = []\n",
    "\n",
    "    print(f\"{index}/{Buffer.all_n_files} {Buffer.random_file}: {len(Buffer._these_traces)} traces\" )\n",
    "\n",
    "#     station = np.array(Buffer._these_traces)\n",
    "#     pmt1, pmt2, pmt3 = station[:,0], station[:,1], station[:,2]\n",
    "#     pmt1 = [item for sublist in pmt1 for item in sublist]\n",
    "#     pmt2 = [item for sublist in pmt2 for item in sublist]\n",
    "#     pmt3 = [item for sublist in pmt3 for item in sublist]\n",
    "\n",
    "# fig, axes = plt.subplots(3, 1, sharex = True)\n",
    "\n",
    "# for i, pmt in enumerate([pmt1, pmt2, pmt3]):\n",
    "\n",
    "\n",
    "#     n, bins = np.histogram(pmt, bins = 250, range = (min(pmt), max(pmt)) )\n",
    "#     bin_centers, max_trigger = 0.5 * (bins[1:] + bins[:-1]), sum(n)/(sum(n) * 8.33e-9)\n",
    "#     trigger_rates = [0, *np.cumsum(n)/(sum(n) * 8.33e-9)]\n",
    "\n",
    "#     print(bins[np.argmin(np.abs(np.array(trigger_rates) - 70))], bins[0])"
   ]
  },
  {
   "cell_type": "code",
   "execution_count": null,
   "metadata": {},
   "outputs": [],
   "source": []
  }
 ],
 "metadata": {
  "kernelspec": {
   "display_name": "Python 3.9.12 ('base')",
   "language": "python",
   "name": "python3"
  },
  "language_info": {
   "codemirror_mode": {
    "name": "ipython",
    "version": 3
   },
   "file_extension": ".py",
   "mimetype": "text/x-python",
   "name": "python",
   "nbconvert_exporter": "python",
   "pygments_lexer": "ipython3",
   "version": "3.9.12"
  },
  "orig_nbformat": 4,
  "vscode": {
   "interpreter": {
    "hash": "e6bd95ed309fd09468b42d789b4c7d801e53518dbe20f43a540524fa8075e3ba"
   }
  }
 },
 "nbformat": 4,
 "nbformat_minor": 2
}
