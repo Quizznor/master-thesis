{
 "cells": [
  {
   "cell_type": "code",
   "execution_count": 1,
   "metadata": {},
   "outputs": [],
   "source": [
    "from Binaries import *"
   ]
  },
  {
   "cell_type": "code",
   "execution_count": 5,
   "metadata": {},
   "outputs": [
    {
     "name": "stdout",
     "output_type": "stream",
     "text": [
      "-1/798 nuria_randoms0798.csv: 5000 traces\n",
      "VEM_peak estimate: [90. 90. 90.] ===> [116.06204982 110.20033013 133.64720888] Hz\n",
      "VEM_peak estimate: [95. 95. 95.] ===> [116.06204982 110.20033013 133.64720888] Hz\n"
     ]
    }
   ],
   "source": [
    "dead_time = 69\n",
    "\n",
    "for index in [-1]:\n",
    "\n",
    "    Buffer = RandomTrace(\"nuria\", index)\n",
    "\n",
    "    print(f\"{index}/{Buffer.all_n_files} {Buffer.random_file}: {len(Buffer._these_traces)} traces\" )\n",
    "\n",
    "    station = np.array(Buffer._these_traces)\n",
    "    I_vem = np.array([90. for i in range(3)])\n",
    "    I_vem_high = I_vem + 5\n",
    "\n",
    "    while True:\n",
    "\n",
    "        pmt_has_converged = 0\n",
    "        n_triggers = np.zeros(3)\n",
    "\n",
    "        for pmt1, pmt2, pmt3 in zip(station[:,0], station[:,1], station[:,2]):\n",
    "\n",
    "            stations = iter(zip(pmt1, pmt2, pmt3))\n",
    "\n",
    "            for bins in stations:\n",
    "\n",
    "                # assume all PMTs are working, k70 = 1.75\n",
    "                # check the actual trigger rate\n",
    "                if np.all(bins >= 1.75 * I_vem):\n",
    "                    if np.any(bins >= 2.5 * I_vem):\n",
    "                        \n",
    "                        n_triggers += bins >= 2.5 * I_vem\n",
    "                        break\n",
    "\n",
    "        trigger_rates = n_triggers / (len(Buffer._these_traces) * 2048 * 8.33e-8)\n",
    "        trigger_rates_high = n_triggers_high / (len(Buffer._these_traces) * 2048 * 8.33e-8)\n",
    "\n",
    "        print(f\"VEM_peak estimate: {I_vem} ===> {trigger_rates} Hz\")\n",
    "        print(f\"VEM_peak estimate: {I_vem_high} ===> {trigger_rates_high} Hz\")\n",
    "        \n",
    "        for i in range(3):\n",
    "            if trigger_rates[i] <= 60: I_vem[i] -= 10\n",
    "            elif 60 < trigger_rates[i] <= 68: I_vem[i] -= 1\n",
    "            elif 68 < trigger_rates[i] <= 72: pmt_has_converged += 1\n",
    "            elif 72 < trigger_rates[i] <= 80: I_vem[i] += 1\n",
    "            elif 80 < trigger_rates[i]: I_vem[i] += 10\n",
    "\n",
    "        break\n",
    "\n",
    "        # if pmt_has_converged >= 3: break"
   ]
  },
  {
   "cell_type": "code",
   "execution_count": null,
   "metadata": {},
   "outputs": [],
   "source": [
    "n_Th_t2 = 0\n",
    "\n",
    "Trigger = HardwareClassifier()\n",
    "\n",
    "for n, (pmt1, pmt2, pmt3) in enumerate(zip(station[:,0], station[:,1], station[:,2])):\n",
    "\n",
    "    trace = np.zeros((3,2048))\n",
    "\n",
    "    trace[0] = np.array(pmt1) / I_vem[0]\n",
    "    trace[1] = np.array(pmt2) / I_vem[1]\n",
    "    trace[2] = np.array(pmt3) / I_vem[2]\n",
    "\n",
    "    if Trigger.Th(3.2, trace):\n",
    "        n_Th_t2 += 1\n",
    "\n",
    "print(f\"Th2 trigger rate: {n_Th_t2 / (2048 * 8.33e-9 * n)} Hz\")\n",
    "\n"
   ]
  },
  {
   "cell_type": "code",
   "execution_count": null,
   "metadata": {},
   "outputs": [],
   "source": []
  },
  {
   "cell_type": "markdown",
   "metadata": {},
   "source": [
    "## old estimator\n",
    "\n",
    "VEM_peak estimate: [120. 120. 120.] ===> [35.17031813 43.37672569 37.515006  ] Hz\n",
    "\n",
    "VEM_peak estimate: [110. 110. 110.] ===> [63.30657263 69.16829232 62.13422869] Hz\n",
    "\n",
    "VEM_peak estimate: [109. 110. 109.] ===> [65.6512605  69.16829232 63.30657263] Hz\n",
    "\n",
    "VEM_peak estimate: [108. 110. 108.] ===> [67.99594838 71.51298019 65.6512605 ] Hz\n",
    "\n",
    "VEM_peak estimate: [107. 110. 107.] ===> [72.68532413 71.51298019 69.16829232] Hz\n",
    "\n",
    "VEM_peak estimate: [108. 110. 107.] ===> [69.16829232 71.51298019 69.16829232] Hz\n",
    "\n",
    "Runtime: 6m 12.6s"
   ]
  },
  {
   "cell_type": "code",
   "execution_count": null,
   "metadata": {},
   "outputs": [],
   "source": [
    "for _ in range(69):\n",
    "    print(_, end = \"\\r\")"
   ]
  },
  {
   "cell_type": "code",
   "execution_count": null,
   "metadata": {},
   "outputs": [],
   "source": []
  }
 ],
 "metadata": {
  "kernelspec": {
   "display_name": "Python 3.9.12 ('base')",
   "language": "python",
   "name": "python3"
  },
  "language_info": {
   "codemirror_mode": {
    "name": "ipython",
    "version": 3
   },
   "file_extension": ".py",
   "mimetype": "text/x-python",
   "name": "python",
   "nbconvert_exporter": "python",
   "pygments_lexer": "ipython3",
   "version": "3.9.12 (main, Jun  1 2022, 11:38:51) \n[GCC 7.5.0]"
  },
  "orig_nbformat": 4,
  "vscode": {
   "interpreter": {
    "hash": "e6bd95ed309fd09468b42d789b4c7d801e53518dbe20f43a540524fa8075e3ba"
   }
  }
 },
 "nbformat": 4,
 "nbformat_minor": 2
}
