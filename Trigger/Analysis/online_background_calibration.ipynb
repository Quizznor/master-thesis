{
 "cells": [
  {
   "cell_type": "code",
   "execution_count": 2,
   "metadata": {},
   "outputs": [],
   "source": [
    "from Binaries import *"
   ]
  },
  {
   "cell_type": "code",
   "execution_count": 8,
   "metadata": {},
   "outputs": [
    {
     "name": "stdout",
     "output_type": "stream",
     "text": [
      "-1/800 nuria_randoms0800.csv: 5000 traces\n",
      "VEM_peak estimate: [120. 120. 120.] ===> [35.17031813 43.37672569 37.515006  ] Hz\n",
      "VEM_peak estimate: [110. 110. 110.] ===> [63.30657263 69.16829232 62.13422869] Hz\n",
      "VEM_peak estimate: [109. 110. 109.] ===> [65.6512605  69.16829232 63.30657263] Hz\n",
      "VEM_peak estimate: [108. 110. 108.] ===> [67.99594838 71.51298019 65.6512605 ] Hz\n",
      "VEM_peak estimate: [107. 110. 107.] ===> [72.68532413 71.51298019 69.16829232] Hz\n",
      "VEM_peak estimate: [108. 110. 107.] ===> [69.16829232 71.51298019 69.16829232] Hz\n"
     ]
    }
   ],
   "source": [
    "for index in [-1]:\n",
    "\n",
    "    Buffer = RandomTrace(\"nuria\", index)\n",
    "\n",
    "    print(f\"{index}/{Buffer.all_n_files} {Buffer.random_file}: {len(Buffer._these_traces)} traces\" )\n",
    "\n",
    "    station = np.array(Buffer._these_traces)\n",
    "    pmt1, pmt2, pmt3 = station[:,0], station[:,1], station[:,2]\n",
    "    I_vem = np.array([120. for i in range(3)])\n",
    "\n",
    "    while True:\n",
    "\n",
    "        pmt_has_converged = 0\n",
    "        n_triggers = np.zeros(3)\n",
    "\n",
    "        for pmt1, pmt2, pmt3 in zip(station[:,0], station[:,1], station[:,2]):\n",
    "\n",
    "            for bins in zip(pmt1, pmt2, pmt3):\n",
    "\n",
    "                # assume all PMTs are working, k70 = 1.75\n",
    "                # check the actual trigger rate\n",
    "                if np.all(bins >= 1.75 * I_vem):\n",
    "\n",
    "                    for i in range(3):\n",
    "                        if bins[i] >= 2.5 * I_vem[i]: n_triggers[i] += 1\n",
    "\n",
    "        trigger_rates = n_triggers / (len(Buffer._these_traces) * 2048 * 8.33e-8)\n",
    "\n",
    "        print(f\"VEM_peak estimate: {I_vem} ===> {trigger_rates} Hz\")\n",
    "        \n",
    "        for i in range(3):\n",
    "            if trigger_rates[i] <= 60: I_vem[i] -= 10\n",
    "            elif 60 < trigger_rates[i] <= 68: I_vem[i] -= 1\n",
    "            elif 68 < trigger_rates[i] <= 72: pmt_has_converged += 1\n",
    "            elif 72 < trigger_rates[i] <= 80: I_vem[i] += 1\n",
    "            elif 80 < trigger_rates[i]: I_vem[i] += 10\n",
    "\n",
    "        if pmt_has_converged >= 3: break"
   ]
  },
  {
   "cell_type": "code",
   "execution_count": 7,
   "metadata": {},
   "outputs": [
    {
     "name": "stdout",
     "output_type": "stream",
     "text": [
      "Th2 trigger rate: 58.62892266328415 Hz\n"
     ]
    }
   ],
   "source": [
    "n_Th_t2 = 0\n",
    "\n",
    "Trigger = HardwareClassifier()\n",
    "\n",
    "for n, (pmt1, pmt2, pmt3) in enumerate(zip(station[:,0], station[:,1], station[:,2])):\n",
    "\n",
    "    trace = np.zeros((3,2048))\n",
    "\n",
    "    trace[0] = np.array(pmt1) / I_vem[0]\n",
    "    trace[1] = np.array(pmt2) / I_vem[1]\n",
    "    trace[2] = np.array(pmt3) / I_vem[2]\n",
    "\n",
    "    if Trigger.Th(3.2, trace):\n",
    "        n_Th_t2 += 1\n",
    "\n",
    "print(f\"Th2 trigger rate: {n_Th_t2 / (2048 * 8.33e-9 * n)} Hz\")"
   ]
  },
  {
   "cell_type": "code",
   "execution_count": null,
   "metadata": {},
   "outputs": [],
   "source": []
  }
 ],
 "metadata": {
  "kernelspec": {
   "display_name": "Python 3.9.12 ('base')",
   "language": "python",
   "name": "python3"
  },
  "language_info": {
   "codemirror_mode": {
    "name": "ipython",
    "version": 3
   },
   "file_extension": ".py",
   "mimetype": "text/x-python",
   "name": "python",
   "nbconvert_exporter": "python",
   "pygments_lexer": "ipython3",
   "version": "3.9.12"
  },
  "orig_nbformat": 4,
  "vscode": {
   "interpreter": {
    "hash": "e6bd95ed309fd09468b42d789b4c7d801e53518dbe20f43a540524fa8075e3ba"
   }
  }
 },
 "nbformat": 4,
 "nbformat_minor": 2
}
