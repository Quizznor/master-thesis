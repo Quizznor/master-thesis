{
 "cells": [
  {
   "cell_type": "code",
   "execution_count": null,
   "metadata": {},
   "outputs": [],
   "source": [
    "from TriggerStudyBinaries_v4 import *\n",
    "\n",
    "LowEnergyEvents = EventGenerator([\"16_16.5\"], split = 1)\n",
    "\n"
   ]
  }
 ],
 "metadata": {
  "kernelspec": {
   "display_name": "Python 3.10.3 64-bit",
   "language": "python",
   "name": "python3"
  },
  "language_info": {
   "name": "python",
   "version": "3.10.3"
  },
  "orig_nbformat": 4,
  "vscode": {
   "interpreter": {
    "hash": "f975ab5996a018a7bb5f1df7bcde3eb6d5b930a2de37330c8fc6e4216ab271bd"
   }
  }
 },
 "nbformat": 4,
 "nbformat_minor": 2
}
