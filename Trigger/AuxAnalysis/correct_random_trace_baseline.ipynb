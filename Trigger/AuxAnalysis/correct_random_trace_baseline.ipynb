{
 "cells": [
  {
   "cell_type": "code",
   "execution_count": 1,
   "metadata": {},
   "outputs": [
    {
     "name": "stderr",
     "output_type": "stream",
     "text": [
      "2022-08-18 16:00:43.275094: W tensorflow/stream_executor/platform/default/dso_loader.cc:64] Could not load dynamic library 'libcudart.so.11.0'; dlerror: libcudart.so.11.0: cannot open shared object file: No such file or directory\n",
      "2022-08-18 16:00:43.275118: I tensorflow/stream_executor/cuda/cudart_stub.cc:29] Ignore above cudart dlerror if you do not have a GPU set up on your machine.\n"
     ]
    }
   ],
   "source": [
    "from TriggerStudyBinaries_v5 import *\n",
    "\n",
    "example_file = np.loadtxt(\"/cr/tempdata01/filip/iRODS/Background/jaco_randoms0000.csv\")\n",
    "example_trace = example_file[0]"
   ]
  },
  {
   "cell_type": "code",
   "execution_count": null,
   "metadata": {},
   "outputs": [],
   "source": [
    "plt.rcParams['figure.figsize'] = [20, 10]\n",
    "plt.plot(range(len(example_trace) - 1), example_trace[1:] + example_trace[0])\n",
    "plt.axhline(example_trace[0], ls = \"--\", c = \"k\", lw = 2)\n",
    "plt.axhline(np.mean(example_trace[1:] + example_trace[0]), ls = \"--\", c = \"orange\", lw = 2)"
   ]
  },
  {
   "cell_type": "code",
   "execution_count": 27,
   "metadata": {},
   "outputs": [],
   "source": [
    "class ElectronicsError(Exception) : pass\n",
    "class SignalError(Exception) : pass\n",
    "\n",
    "# Implementation of Tobias Schulz algorithm in python\n",
    "def calculate_baseline(*args) -> list :\n",
    "\n",
    "    baselines = []\n",
    "    for window in args:\n",
    "\n",
    "        while True:\n",
    "\n",
    "            mode, count = None, 0\n",
    "            \n",
    "            # calculate mode of the trace windows\n",
    "            for value in range(int(min(window)), int(max(window))):\n",
    "                current_count = window.count(value)\n",
    "                if current_count > count:\n",
    "                    mode, count = value, current_count\n",
    "\n",
    "            upper, lower = mode + 2* np.std(window), mode - 2* np.std(window)\n",
    "            to_remove = [bin for bin in window if bin > upper or bin < lower]           \n",
    "            if to_remove != []: [window.remove(value) for value in to_remove]\n",
    "            else: break\n",
    "\n",
    "        baselines.append(np.mean(window))\n",
    "\n",
    "    return baselines\n",
    "\n",
    "def correct_trace(trace : np.ndarray) -> int :\n",
    "\n",
    "    i, f = calculate_baseline(list(trace[:300]), list(trace[-300:]))\n",
    "\n",
    "    if i - f > 0.1: raise SignalError\n",
    "    elif i - f < -0.5: raise ElectronicsError\n",
    "    else:\n",
    "\n",
    "        baseline = calculate_baseline(list(trace))[0]\n",
    "            \n",
    "\n"
   ]
  },
  {
   "cell_type": "code",
   "execution_count": 28,
   "metadata": {},
   "outputs": [
    {
     "name": "stdout",
     "output_type": "stream",
     "text": [
      "0.875\n"
     ]
    }
   ],
   "source": [
    "correct_trace(example_trace)"
   ]
  },
  {
   "cell_type": "code",
   "execution_count": null,
   "metadata": {},
   "outputs": [],
   "source": []
  }
 ],
 "metadata": {
  "kernelspec": {
   "display_name": "Python 3.9.12 ('base')",
   "language": "python",
   "name": "python3"
  },
  "language_info": {
   "codemirror_mode": {
    "name": "ipython",
    "version": 3
   },
   "file_extension": ".py",
   "mimetype": "text/x-python",
   "name": "python",
   "nbconvert_exporter": "python",
   "pygments_lexer": "ipython3",
   "version": "3.9.12"
  },
  "orig_nbformat": 4,
  "vscode": {
   "interpreter": {
    "hash": "e6bd95ed309fd09468b42d789b4c7d801e53518dbe20f43a540524fa8075e3ba"
   }
  }
 },
 "nbformat": 4,
 "nbformat_minor": 2
}
