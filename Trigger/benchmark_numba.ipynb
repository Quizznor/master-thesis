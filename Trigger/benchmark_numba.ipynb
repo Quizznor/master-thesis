{
 "cells": [
  {
   "cell_type": "markdown",
   "metadata": {},
   "source": [
    "Let's look at how much faster jitted code is compared to non-jitted code"
   ]
  },
  {
   "cell_type": "code",
   "execution_count": null,
   "metadata": {},
   "outputs": [],
   "source": [
    "from TriggerStudyBinaries_v2 import *  # non-jitted code\n",
    "\n",
    "AllHEEvents = EventGenerator([\"19_19.5\"], split = 1)\n",
    "\n",
    "%time AllHEEvents.unit_test()"
   ]
  },
  {
   "cell_type": "code",
   "execution_count": 1,
   "metadata": {},
   "outputs": [
    {
     "name": "stderr",
     "output_type": "stream",
     "text": [
      "/cr/users/filip/Trigger/TriggerStudyBinaries_v3/Signal.py:51: SyntaxWarning: \"is\" with a literal. Did you mean \"==\"?\n",
      "  if trace_options[4] is 0:\n",
      "2022-08-08 11:25:37.952738: W tensorflow/stream_executor/platform/default/dso_loader.cc:64] Could not load dynamic library 'libcudart.so.11.0'; dlerror: libcudart.so.11.0: cannot open shared object file: No such file or directory\n",
      "2022-08-08 11:25:37.952764: I tensorflow/stream_executor/cuda/cudart_stub.cc:29] Ignore above cudart dlerror if you do not have a GPU set up on your machine.\n"
     ]
    },
    {
     "ename": "TypingError",
     "evalue": "Failed in nopython mode pipeline (step: nopython frontend)\n\u001b[1m\u001b[1m\u001b[1m\u001b[1mFailed in nopython mode pipeline (step: nopython frontend)\n\u001b[1mUntyped global name 'super':\u001b[0m \u001b[1m\u001b[1mCannot determine Numba type of <class 'type'>\u001b[0m\n\u001b[1m\nFile \"TriggerStudyBinaries_v3/Signal.py\", line 56:\u001b[0m\n\u001b[1m    def __init__(self, trace_options : list, baseline_data : np.ndarray, signal_data : tuple = None) :\n        <source elided>\n        if signal_data is not None: \n\u001b[1m            super().__init__(signal_data, self.length)\n\u001b[0m            \u001b[1m^\u001b[0m\u001b[0m\n\u001b[0m\n\u001b[0m\u001b[1mDuring: resolving callee type: jitclass.Trace#7fd2bf2968b0<>\u001b[0m\n\u001b[0m\u001b[1mDuring: typing of call at <string> (3)\n\u001b[0m\n\u001b[0m\u001b[1mDuring: resolving callee type: jitclass.Trace#7fd2bf2968b0<>\u001b[0m\n\u001b[0m\u001b[1mDuring: typing of call at <string> (3)\n\u001b[0m\n\u001b[1m\nFile \"<string>\", line 3:\u001b[0m\n\u001b[1m<source missing, REPL/exec in use?>\u001b[0m\n",
     "output_type": "error",
     "traceback": [
      "\u001b[0;31m---------------------------------------------------------------------------\u001b[0m",
      "\u001b[0;31mTypingError\u001b[0m                               Traceback (most recent call last)",
      "File \u001b[0;32m<timed eval>:1\u001b[0m, in \u001b[0;36m<module>\u001b[0;34m\u001b[0m\n",
      "File \u001b[0;32m~/Trigger/TriggerStudyBinaries_v3/Generator.py:222\u001b[0m, in \u001b[0;36mGenerator.unit_test\u001b[0;34m(self, n_traces, full_traces)\u001b[0m\n\u001b[1;32m    219\u001b[0m elapsed \u001b[39m=\u001b[39m perf_counter_ns() \u001b[39m-\u001b[39m start\n\u001b[1;32m    220\u001b[0m mean_per_step_ms \u001b[39m=\u001b[39m elapsed \u001b[39m/\u001b[39m (batch \u001b[39m+\u001b[39m \u001b[39m1\u001b[39m) \u001b[39m*\u001b[39m \u001b[39m1e-6\u001b[39m\n\u001b[0;32m--> 222\u001b[0m traces, _ \u001b[39m=\u001b[39m \u001b[39mself\u001b[39;49m\u001b[39m.\u001b[39;49m\u001b[39m__getitem__\u001b[39;49m(batch, full_trace \u001b[39m=\u001b[39;49m full_traces)\n\u001b[1;32m    224\u001b[0m \u001b[39mprint\u001b[39m(\u001b[39mf\u001b[39m\u001b[39m\"\u001b[39m\u001b[39m{\u001b[39;00m\u001b[39m100\u001b[39m \u001b[39m*\u001b[39m (batch\u001b[39m/\u001b[39mn_traces)\u001b[39m:\u001b[39;00m\u001b[39m.2f\u001b[39m\u001b[39m}\u001b[39;00m\u001b[39m% - \u001b[39m\u001b[39m{\u001b[39;00mmean_per_step_ms\u001b[39m:\u001b[39;00m\u001b[39m.2f\u001b[39m\u001b[39m}\u001b[39;00m\u001b[39mms/batch, ETA = \u001b[39m\u001b[39m{\u001b[39;00m(n_traces \u001b[39m-\u001b[39m batch) \u001b[39m*\u001b[39m mean_per_step_ms \u001b[39m*\u001b[39m \u001b[39m1e-3\u001b[39m\u001b[39m:\u001b[39;00m\u001b[39m.0f\u001b[39m\u001b[39m}\u001b[39;00m\u001b[39ms \u001b[39m\u001b[39m{\u001b[39;00mtraces[\u001b[39m0\u001b[39m]\u001b[39m}\u001b[39;00m\u001b[39m\"\u001b[39m, end \u001b[39m=\u001b[39m\u001b[39m\"\u001b[39m\u001b[39m\\r\u001b[39;00m\u001b[39m\"\u001b[39m)\n\u001b[1;32m    226\u001b[0m \u001b[39mfor\u001b[39;00m trace \u001b[39min\u001b[39;00m traces:\n",
      "File \u001b[0;32m~/Trigger/TriggerStudyBinaries_v3/Generator.py:146\u001b[0m, in \u001b[0;36mGenerator.__getitem__\u001b[0;34m(self, index, full_trace)\u001b[0m\n\u001b[1;32m    141\u001b[0m \u001b[39melse\u001b[39;00m: event_file \u001b[39m=\u001b[39m \u001b[39mself\u001b[39m\u001b[39m.\u001b[39mfiles[index]\n\u001b[1;32m    143\u001b[0m \u001b[39mfor\u001b[39;00m station \u001b[39min\u001b[39;00m SignalBatch(event_file):\n\u001b[1;32m    144\u001b[0m     \n\u001b[1;32m    145\u001b[0m     \u001b[39m# Add together baseline + signal and inject accidental muons\u001b[39;00m\n\u001b[0;32m--> 146\u001b[0m     VEMTrace \u001b[39m=\u001b[39m Trace([\u001b[39mself\u001b[39;49m\u001b[39m.\u001b[39;49mADC_to_VEM, \u001b[39mself\u001b[39;49m\u001b[39m.\u001b[39;49mlength, \u001b[39mself\u001b[39;49m\u001b[39m.\u001b[39;49msigma, \u001b[39mself\u001b[39;49m\u001b[39m.\u001b[39;49mmu, \u001b[39mself\u001b[39;49m\u001b[39m.\u001b[39;49mn_injected], baseline, station)\n\u001b[1;32m    148\u001b[0m     \u001b[39mif\u001b[39;00m full_trace:\n\u001b[1;32m    149\u001b[0m         traces\u001b[39m.\u001b[39mappend(VEMTrace)\n",
      "File \u001b[0;32m~/anaconda3/lib/python3.9/site-packages/numba/experimental/jitclass/base.py:124\u001b[0m, in \u001b[0;36mJitClassType.__call__\u001b[0;34m(cls, *args, **kwargs)\u001b[0m\n\u001b[1;32m    122\u001b[0m bind \u001b[39m=\u001b[39m \u001b[39mcls\u001b[39m\u001b[39m.\u001b[39m_ctor_sig\u001b[39m.\u001b[39mbind(\u001b[39mNone\u001b[39;00m, \u001b[39m*\u001b[39margs, \u001b[39m*\u001b[39m\u001b[39m*\u001b[39mkwargs)\n\u001b[1;32m    123\u001b[0m bind\u001b[39m.\u001b[39mapply_defaults()\n\u001b[0;32m--> 124\u001b[0m \u001b[39mreturn\u001b[39;00m \u001b[39mcls\u001b[39;49m\u001b[39m.\u001b[39;49m_ctor(\u001b[39m*\u001b[39;49mbind\u001b[39m.\u001b[39;49margs[\u001b[39m1\u001b[39;49m:], \u001b[39m*\u001b[39;49m\u001b[39m*\u001b[39;49mbind\u001b[39m.\u001b[39;49mkwargs)\n",
      "File \u001b[0;32m~/anaconda3/lib/python3.9/site-packages/numba/core/dispatcher.py:468\u001b[0m, in \u001b[0;36m_DispatcherBase._compile_for_args\u001b[0;34m(self, *args, **kws)\u001b[0m\n\u001b[1;32m    464\u001b[0m         msg \u001b[39m=\u001b[39m (\u001b[39mf\u001b[39m\u001b[39m\"\u001b[39m\u001b[39m{\u001b[39;00m\u001b[39mstr\u001b[39m(e)\u001b[39m.\u001b[39mrstrip()\u001b[39m}\u001b[39;00m\u001b[39m \u001b[39m\u001b[39m\\n\u001b[39;00m\u001b[39m\\n\u001b[39;00m\u001b[39mThis error may have been caused \u001b[39m\u001b[39m\"\u001b[39m\n\u001b[1;32m    465\u001b[0m                \u001b[39mf\u001b[39m\u001b[39m\"\u001b[39m\u001b[39mby the following argument(s):\u001b[39m\u001b[39m\\n\u001b[39;00m\u001b[39m{\u001b[39;00margs_str\u001b[39m}\u001b[39;00m\u001b[39m\\n\u001b[39;00m\u001b[39m\"\u001b[39m)\n\u001b[1;32m    466\u001b[0m         e\u001b[39m.\u001b[39mpatch_message(msg)\n\u001b[0;32m--> 468\u001b[0m     error_rewrite(e, \u001b[39m'\u001b[39;49m\u001b[39mtyping\u001b[39;49m\u001b[39m'\u001b[39;49m)\n\u001b[1;32m    469\u001b[0m \u001b[39mexcept\u001b[39;00m errors\u001b[39m.\u001b[39mUnsupportedError \u001b[39mas\u001b[39;00m e:\n\u001b[1;32m    470\u001b[0m     \u001b[39m# Something unsupported is present in the user code, add help info\u001b[39;00m\n\u001b[1;32m    471\u001b[0m     error_rewrite(e, \u001b[39m'\u001b[39m\u001b[39munsupported_error\u001b[39m\u001b[39m'\u001b[39m)\n",
      "File \u001b[0;32m~/anaconda3/lib/python3.9/site-packages/numba/core/dispatcher.py:409\u001b[0m, in \u001b[0;36m_DispatcherBase._compile_for_args.<locals>.error_rewrite\u001b[0;34m(e, issue_type)\u001b[0m\n\u001b[1;32m    407\u001b[0m     \u001b[39mraise\u001b[39;00m e\n\u001b[1;32m    408\u001b[0m \u001b[39melse\u001b[39;00m:\n\u001b[0;32m--> 409\u001b[0m     \u001b[39mraise\u001b[39;00m e\u001b[39m.\u001b[39mwith_traceback(\u001b[39mNone\u001b[39;00m)\n",
      "\u001b[0;31mTypingError\u001b[0m: Failed in nopython mode pipeline (step: nopython frontend)\n\u001b[1m\u001b[1m\u001b[1m\u001b[1mFailed in nopython mode pipeline (step: nopython frontend)\n\u001b[1mUntyped global name 'super':\u001b[0m \u001b[1m\u001b[1mCannot determine Numba type of <class 'type'>\u001b[0m\n\u001b[1m\nFile \"TriggerStudyBinaries_v3/Signal.py\", line 56:\u001b[0m\n\u001b[1m    def __init__(self, trace_options : list, baseline_data : np.ndarray, signal_data : tuple = None) :\n        <source elided>\n        if signal_data is not None: \n\u001b[1m            super().__init__(signal_data, self.length)\n\u001b[0m            \u001b[1m^\u001b[0m\u001b[0m\n\u001b[0m\n\u001b[0m\u001b[1mDuring: resolving callee type: jitclass.Trace#7fd2bf2968b0<>\u001b[0m\n\u001b[0m\u001b[1mDuring: typing of call at <string> (3)\n\u001b[0m\n\u001b[0m\u001b[1mDuring: resolving callee type: jitclass.Trace#7fd2bf2968b0<>\u001b[0m\n\u001b[0m\u001b[1mDuring: typing of call at <string> (3)\n\u001b[0m\n\u001b[1m\nFile \"<string>\", line 3:\u001b[0m\n\u001b[1m<source missing, REPL/exec in use?>\u001b[0m\n"
     ]
    }
   ],
   "source": [
    "from TriggerStudyBinaries_v3 import *  # jitted code\n",
    "\n",
    "AllHEEvents = EventGenerator([\"19_19.5\"], split = 1)\n",
    "\n",
    "%time AllHEEvents.unit_test()"
   ]
  },
  {
   "cell_type": "code",
   "execution_count": null,
   "metadata": {},
   "outputs": [],
   "source": []
  }
 ],
 "metadata": {
  "kernelspec": {
   "display_name": "Python 3.9.12 ('base')",
   "language": "python",
   "name": "python3"
  },
  "language_info": {
   "codemirror_mode": {
    "name": "ipython",
    "version": 3
   },
   "file_extension": ".py",
   "mimetype": "text/x-python",
   "name": "python",
   "nbconvert_exporter": "python",
   "pygments_lexer": "ipython3",
   "version": "3.9.12"
  },
  "orig_nbformat": 4,
  "vscode": {
   "interpreter": {
    "hash": "e6bd95ed309fd09468b42d789b4c7d801e53518dbe20f43a540524fa8075e3ba"
   }
  }
 },
 "nbformat": 4,
 "nbformat_minor": 2
}
