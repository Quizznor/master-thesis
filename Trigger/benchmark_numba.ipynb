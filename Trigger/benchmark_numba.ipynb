{
 "cells": [
  {
   "cell_type": "code",
   "execution_count": 1,
   "metadata": {},
   "outputs": [
    {
     "name": "stderr",
     "output_type": "stream",
     "text": [
      "2022-08-17 12:09:12.489130: W tensorflow/stream_executor/platform/default/dso_loader.cc:64] Could not load dynamic library 'libcudart.so.11.0'; dlerror: libcudart.so.11.0: cannot open shared object file: No such file or directory\n",
      "2022-08-17 12:09:12.489151: I tensorflow/stream_executor/cuda/cudart_stub.cc:29] Ignore above cudart dlerror if you do not have a GPU set up on your machine.\n"
     ]
    },
    {
     "name": "stdout",
     "output_type": "stream",
     "text": [
      "100.00% - 1.11ms/batch, ETA = 0s ||                              S==S                                  || 5.2418e+18 eV @ 459 m from core      \n",
      "\n",
      "Total time: 54.59s - 97892 traces\n",
      "n_signal = 93067, n_background = 4825\n",
      "n_injected = 0 -> 0.00 Hz background\n",
      "\n",
      "CPU times: user 58.3 s, sys: 3.22 s, total: 1min 1s\n",
      "Wall time: 54.6 s\n"
     ]
    }
   ],
   "source": [
    "import TriggerStudyBinaries_v2 as non_jitted\n",
    "\n",
    "AllHEEvents = non_jitted.EventGenerator(\"all\", split = 1, seed = 42)\n",
    "\n",
    "%time AllHEEvents.unit_test()"
   ]
  },
  {
   "cell_type": "code",
   "execution_count": 2,
   "metadata": {},
   "outputs": [
    {
     "name": "stdout",
     "output_type": "stream",
     "text": [
      "100.00% - 1.16ms/batch, ETA = 0s ||                              S==S                                  || 5.2418e+18 eV @ 459 m from core         \n",
      "\n",
      "Total time: 57.07s - 97892 traces\n",
      "n_signal = 93067, n_background = 4825\n",
      "n_injected = 0 -> 0.00 Hz background\n",
      "\n",
      "CPU times: user 1min, sys: 3.08 s, total: 1min 3s\n",
      "Wall time: 57.1 s\n"
     ]
    }
   ],
   "source": [
    "import TriggerStudyBinaries_v4 as jitted\n",
    "\n",
    "AllHEEvents = jitted.EventGenerator(\"all\", split = 1, seed = 42, force_inject = 0)\n",
    "\n",
    "%time AllHEEvents.unit_test()"
   ]
  },
  {
   "cell_type": "code",
   "execution_count": 1,
   "metadata": {},
   "outputs": [
    {
     "name": "stderr",
     "output_type": "stream",
     "text": [
      "2022-08-17 12:25:36.723773: W tensorflow/stream_executor/platform/default/dso_loader.cc:64] Could not load dynamic library 'libcudart.so.11.0'; dlerror: libcudart.so.11.0: cannot open shared object file: No such file or directory\n",
      "2022-08-17 12:25:36.723796: I tensorflow/stream_executor/cuda/cudart_stub.cc:29] Ignore above cudart dlerror if you do not have a GPU set up on your machine.\n"
     ]
    },
    {
     "name": "stdout",
     "output_type": "stream",
     "text": [
      "100.00% - 1.19ms/batch, ETA = 0s ||                              S==S                                  || 5.2418e+18 eV @ 459 m from core      \n",
      "\n",
      "Total time: 58.38s - 97892 traces\n",
      "n_signal = 93067, n_background = 4825\n",
      "n_injected = 0 -> 0.00 Hz background\n",
      "\n",
      "CPU times: user 1min 1s, sys: 3.34 s, total: 1min 5s\n",
      "Wall time: 58.4 s\n"
     ]
    }
   ],
   "source": [
    "import TriggerStudyBinaries_v5 as non_jitted_optimized\n",
    "\n",
    "AllHEEvents = non_jitted_optimized.EventGenerator(\"all\", split = 1, seed = 42, force_inject = 0)\n",
    "\n",
    "%time AllHEEvents.unit_test()"
   ]
  },
  {
   "cell_type": "code",
   "execution_count": null,
   "metadata": {},
   "outputs": [],
   "source": []
  }
 ],
 "metadata": {
  "kernelspec": {
   "display_name": "Python 3.9.12 ('base')",
   "language": "python",
   "name": "python3"
  },
  "language_info": {
   "codemirror_mode": {
    "name": "ipython",
    "version": 3
   },
   "file_extension": ".py",
   "mimetype": "text/x-python",
   "name": "python",
   "nbconvert_exporter": "python",
   "pygments_lexer": "ipython3",
   "version": "3.9.12"
  },
  "orig_nbformat": 4,
  "vscode": {
   "interpreter": {
    "hash": "e6bd95ed309fd09468b42d789b4c7d801e53518dbe20f43a540524fa8075e3ba"
   }
  }
 },
 "nbformat": 4,
 "nbformat_minor": 2
}
