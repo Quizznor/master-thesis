{
 "cells": [
  {
   "cell_type": "markdown",
   "metadata": {},
   "source": [
    "Let's look at how much faster jitted code is compared to non-jitted code"
   ]
  },
  {
   "cell_type": "code",
   "execution_count": 1,
   "metadata": {},
   "outputs": [
    {
     "name": "stderr",
     "output_type": "stream",
     "text": [
      "2022-08-12 16:47:24.744913: W tensorflow/stream_executor/platform/default/dso_loader.cc:64] Could not load dynamic library 'libcudart.so.11.0'; dlerror: libcudart.so.11.0: cannot open shared object file: No such file or directory\n",
      "2022-08-12 16:47:24.744933: I tensorflow/stream_executor/cuda/cudart_stub.cc:29] Ignore above cudart dlerror if you do not have a GPU set up on your machine.\n"
     ]
    },
    {
     "name": "stdout",
     "output_type": "stream",
     "text": [
      "100.00% - 1.21ms/batch, ETA = 0s ||     S===S                                                          || 5.2418e+18 eV @ 459 m from core      \n",
      "Total time: 59.41s - 97892 traces\n",
      "n_signal = 93067, n_background = 4825\n",
      "n_injected = 7806 -> 4691.08 Hz background\n",
      "\n",
      "CPU times: user 1min 3s, sys: 3.43 s, total: 1min 6s\n",
      "Wall time: 59.4 s\n"
     ]
    }
   ],
   "source": [
    "import TriggerStudyBinaries_v2 as non_jitted\n",
    "\n",
    "AllHEEvents = non_jitted.EventGenerator(\"all\", split = 1, seed = 42)\n",
    "\n",
    "%time AllHEEvents.unit_test()"
   ]
  },
  {
   "cell_type": "code",
   "execution_count": 1,
   "metadata": {},
   "outputs": [
    {
     "name": "stderr",
     "output_type": "stream",
     "text": [
      "2022-08-12 16:45:10.715426: W tensorflow/stream_executor/platform/default/dso_loader.cc:64] Could not load dynamic library 'libcudart.so.11.0'; dlerror: libcudart.so.11.0: cannot open shared object file: No such file or directory\n",
      "2022-08-12 16:45:10.715446: I tensorflow/stream_executor/cuda/cudart_stub.cc:29] Ignore above cudart dlerror if you do not have a GPU set up on your machine.\n"
     ]
    },
    {
     "name": "stdout",
     "output_type": "stream",
     "text": [
      "100.00% - 1.19ms/batch, ETA = 0s ||    S==S                                                            || 5.2418e+18 eV @ 459 m from core         \n",
      "Total time: 58.40s - 97892 traces\n",
      "n_signal = 93067, n_background = 4825\n",
      "n_injected = 7681 -> 4615.97 Hz background\n",
      "\n",
      "CPU times: user 1min 2s, sys: 3.06 s, total: 1min 5s\n",
      "Wall time: 58.4 s\n"
     ]
    }
   ],
   "source": [
    "import TriggerStudyBinaries_v3 as jitted\n",
    "\n",
    "AllHEEvents = jitted.EventGenerator(\"all\", split = 1, seed = 42)\n",
    "\n",
    "%time AllHEEvents.unit_test()"
   ]
  },
  {
   "cell_type": "code",
   "execution_count": null,
   "metadata": {},
   "outputs": [],
   "source": []
  }
 ],
 "metadata": {
  "kernelspec": {
   "display_name": "Python 3.9.12 ('base')",
   "language": "python",
   "name": "python3"
  },
  "language_info": {
   "codemirror_mode": {
    "name": "ipython",
    "version": 3
   },
   "file_extension": ".py",
   "mimetype": "text/x-python",
   "name": "python",
   "nbconvert_exporter": "python",
   "pygments_lexer": "ipython3",
   "version": "3.9.12"
  },
  "orig_nbformat": 4,
  "vscode": {
   "interpreter": {
    "hash": "e6bd95ed309fd09468b42d789b4c7d801e53518dbe20f43a540524fa8075e3ba"
   }
  }
 },
 "nbformat": 4,
 "nbformat_minor": 2
}
