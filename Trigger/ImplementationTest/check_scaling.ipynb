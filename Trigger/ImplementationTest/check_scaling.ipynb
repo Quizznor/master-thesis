{
 "cells": [
  {
   "cell_type": "code",
   "execution_count": null,
   "metadata": {},
   "outputs": [],
   "source": [
    "from Binaries import *\n",
    "\n",
    "q_peak_unscaled = np.array([GLOBAL.q_peak for _ in range(3)])\n",
    "q_charge_unscaled = np.array([GLOBAL.q_charge for _ in range(3)])\n",
    "EventsUnscaled = EventGenerator([\"19_19.5\"], seed = 42, split = 1, q_peak = q_peak_unscaled, q_charge = q_charge_unscaled)\n",
    "\n",
    "EventsUnscaled.physics_test(n_showers = 1000)"
   ]
  },
  {
   "cell_type": "code",
   "execution_count": null,
   "metadata": {},
   "outputs": [],
   "source": [
    "q_peak_scaled = np.array([0.89 * GLOBAL.q_peak for _ in range(3)])\n",
    "q_charge_scaled = np.array([0.89 * GLOBAL.q_charge for _ in range(3)])\n",
    "EventsScaled = EventGenerator([\"19_19.5\"], seed = 42, split = 1, q_peak = q_peak_scaled, q_charge = q_charge_scaled)\n",
    "\n",
    "EventsScaled.physics_test(n_showers = 1000)"
   ]
  },
  {
   "cell_type": "code",
   "execution_count": null,
   "metadata": {},
   "outputs": [],
   "source": []
  }
 ],
 "metadata": {
  "kernelspec": {
   "display_name": "base",
   "language": "python",
   "name": "python3"
  },
  "language_info": {
   "codemirror_mode": {
    "name": "ipython",
    "version": 3
   },
   "file_extension": ".py",
   "mimetype": "text/x-python",
   "name": "python",
   "nbconvert_exporter": "python",
   "pygments_lexer": "ipython3",
   "version": "3.9.12"
  },
  "orig_nbformat": 4
 },
 "nbformat": 4,
 "nbformat_minor": 2
}
