{
 "cells": [
  {
   "cell_type": "code",
   "execution_count": 1,
   "metadata": {},
   "outputs": [],
   "source": [
    "from Binaries import *"
   ]
  },
  {
   "cell_type": "code",
   "execution_count": null,
   "metadata": {},
   "outputs": [],
   "source": [
    "# Old output with all stations in dataset\n",
    "\n",
    "HardwareTriggers = HardwareClassifier()\n",
    "trigger_examples_1 = HardwareTriggers.production_test(100000, apply_downsampling = True)\n",
    "\n",
    "# FABIOS CORRECTION STILL MISSING\n",
    "\n",
    "# Trigger rate seems unreasonably low. Why?\n",
    "# what is the 'veto' after a trigger was issued?\n",
    "\n",
    "# TRIGGER FREQUENCY @ 1e6 traces = 2.9415 Hz"
   ]
  },
  {
   "cell_type": "markdown",
   "metadata": {},
   "source": [
    "```\n",
    "100.00% - 133.82ms/batch, ETA = 0h 0m\n",
    "\n",
    "Production test results:\n",
    "\n",
    "random traces injected: 100000\n",
    "summed traces duration: 1.698s\n",
    "total T2 trigger found: 22\n",
    "*********************************\n",
    "TRIGGER FREQUENCY = 12.9550 Hz\n",
    "```"
   ]
  },
  {
   "cell_type": "code",
   "execution_count": 2,
   "metadata": {},
   "outputs": [
    {
     "name": "stdout",
     "output_type": "stream",
     "text": [
      "[INFO] -- LOADING RANDOMS: lo_qui_don_randoms_672.csv                    \n",
      "[INFO] -- LOADING RANDOMS: lo_qui_don_randoms_628.csv                        \n",
      "1.89% - 145.09ms/batch, ETA = 2h 19m -> 0 trace(s) triggered, 0.00 Hz      \r"
     ]
    }
   ],
   "source": [
    "HardwareTriggers = HardwareClassifier(\"HardwareClassifier_peak_adjusted_loki\")\n",
    "HardwareTriggers.production_test(58617, apply_downsampling = True, station = \"lo_qui_don\")"
   ]
  },
  {
   "cell_type": "code",
   "execution_count": 3,
   "metadata": {},
   "outputs": [
    {
     "name": "stdout",
     "output_type": "stream",
     "text": [
      "[INFO] -- LOADING RANDOMS: nuria_randoms0682.csv                    \n",
      "5.31% - 157.65ms/batch, ETA = 2h 25m -> 2 trace(s) triggered, 37.76 Hz        \r"
     ]
    },
    {
     "ename": "KeyboardInterrupt",
     "evalue": "",
     "output_type": "error",
     "traceback": [
      "\u001b[0;31m---------------------------------------------------------------------------\u001b[0m",
      "\u001b[0;31mEmptyFileError\u001b[0m                            Traceback (most recent call last)",
      "File \u001b[0;32m~/Binaries/Generator.py:166\u001b[0m, in \u001b[0;36mGenerator.__getitem__\u001b[0;34m(self, index, full_trace, skip_integral, skip_metadata)\u001b[0m\n\u001b[1;32m    164\u001b[0m \u001b[39mtry\u001b[39;00m:\n\u001b[0;32m--> 166\u001b[0m     \u001b[39mif\u001b[39;00m \u001b[39mself\u001b[39m\u001b[39m.\u001b[39mprior \u001b[39m==\u001b[39m \u001b[39m0\u001b[39m: \u001b[39mraise\u001b[39;00m EmptyFileError\n\u001b[1;32m    167\u001b[0m     \u001b[39melse\u001b[39;00m: event_file \u001b[39m=\u001b[39m \u001b[39mself\u001b[39m\u001b[39m.\u001b[39mfiles[index]\n",
      "\u001b[0;31mEmptyFileError\u001b[0m: ",
      "\nDuring handling of the above exception, another exception occurred:\n",
      "\u001b[0;31mKeyboardInterrupt\u001b[0m                         Traceback (most recent call last)",
      "\u001b[1;32m/cr/users/filip/Trigger/ImplementationTest/test_classifiers.ipynb Cell 5\u001b[0m in \u001b[0;36m<cell line: 2>\u001b[0;34m()\u001b[0m\n\u001b[1;32m      <a href='vscode-notebook-cell://ssh-remote%2Biklx288.ikp.kit.edu/cr/users/filip/Trigger/ImplementationTest/test_classifiers.ipynb#X15sdnNjb2RlLXJlbW90ZQ%3D%3D?line=0'>1</a>\u001b[0m HardwareTriggers \u001b[39m=\u001b[39m HardwareClassifier(\u001b[39m\"\u001b[39m\u001b[39mHardwareClassifier_peak_adjusted_nuria\u001b[39m\u001b[39m\"\u001b[39m)\n\u001b[0;32m----> <a href='vscode-notebook-cell://ssh-remote%2Biklx288.ikp.kit.edu/cr/users/filip/Trigger/ImplementationTest/test_classifiers.ipynb#X15sdnNjb2RlLXJlbW90ZQ%3D%3D?line=1'>2</a>\u001b[0m trigger_examples_1 \u001b[39m=\u001b[39m HardwareTriggers\u001b[39m.\u001b[39;49mproduction_test(\u001b[39m58617\u001b[39;49m, apply_downsampling \u001b[39m=\u001b[39;49m \u001b[39mTrue\u001b[39;49;00m, station \u001b[39m=\u001b[39;49m \u001b[39m\"\u001b[39;49m\u001b[39mnuria\u001b[39;49m\u001b[39m\"\u001b[39;49m)\n",
      "File \u001b[0;32m~/Binaries/Classifier.py:45\u001b[0m, in \u001b[0;36mClassifier.production_test\u001b[0;34m(self, n_traces, **kwargs)\u001b[0m\n\u001b[1;32m     42\u001b[0m rate \u001b[39m=\u001b[39m n_total_triggered \u001b[39m/\u001b[39m ((batch \u001b[39m+\u001b[39m \u001b[39m1\u001b[39m)\u001b[39m/\u001b[39mn_traces \u001b[39m*\u001b[39m total_trace_duration)\n\u001b[1;32m     43\u001b[0m \u001b[39mprint\u001b[39m(\u001b[39mf\u001b[39m\u001b[39m\"\u001b[39m\u001b[39m{\u001b[39;00m\u001b[39m100\u001b[39m \u001b[39m*\u001b[39m (batch\u001b[39m/\u001b[39mn_traces)\u001b[39m:\u001b[39;00m\u001b[39m.2f\u001b[39m\u001b[39m}\u001b[39;00m\u001b[39m% - \u001b[39m\u001b[39m{\u001b[39;00mmean_per_step_ms\u001b[39m:\u001b[39;00m\u001b[39m.2f\u001b[39m\u001b[39m}\u001b[39;00m\u001b[39mms/batch, ETA = \u001b[39m\u001b[39m{\u001b[39;00mto_str((n_traces \u001b[39m-\u001b[39m batch) \u001b[39m*\u001b[39m mean_per_step_ms \u001b[39m*\u001b[39m \u001b[39m1e-3\u001b[39m)\u001b[39m}\u001b[39;00m\u001b[39m -> \u001b[39m\u001b[39m{\u001b[39;00mn_total_triggered\u001b[39m}\u001b[39;00m\u001b[39m trace(s) triggered, \u001b[39m\u001b[39m{\u001b[39;00mrate\u001b[39m:\u001b[39;00m\u001b[39m.2f\u001b[39m\u001b[39m}\u001b[39;00m\u001b[39m Hz      \u001b[39m\u001b[39m\"\u001b[39m, end \u001b[39m=\u001b[39m\u001b[39m\"\u001b[39m\u001b[39m\\r\u001b[39;00m\u001b[39m\"\u001b[39m)\n\u001b[0;32m---> 45\u001b[0m traces, _ \u001b[39m=\u001b[39m RandomTraces\u001b[39m.\u001b[39;49m\u001b[39m__getitem__\u001b[39;49m(batch, full_trace \u001b[39m=\u001b[39;49m \u001b[39mTrue\u001b[39;49;00m)\n\u001b[1;32m     46\u001b[0m trace \u001b[39m=\u001b[39m traces[\u001b[39m0\u001b[39m]\n\u001b[1;32m     48\u001b[0m \u001b[39mfor\u001b[39;00m index \u001b[39min\u001b[39;00m RandomTraces\u001b[39m.\u001b[39m__sliding_window__(trace):\n",
      "File \u001b[0;32m~/Binaries/Generator.py:189\u001b[0m, in \u001b[0;36mGenerator.__getitem__\u001b[0;34m(self, index, full_trace, skip_integral, skip_metadata)\u001b[0m\n\u001b[1;32m    186\u001b[0m \u001b[39m# ... raise a mock background trace if this fails for various reasons\u001b[39;00m\n\u001b[1;32m    187\u001b[0m \u001b[39mexcept\u001b[39;00m EmptyFileError:\n\u001b[0;32m--> 189\u001b[0m     VEMTrace \u001b[39m=\u001b[39m Trace(\u001b[39mself\u001b[39;49m\u001b[39m.\u001b[39;49mtrace_options, baseline)\n\u001b[1;32m    191\u001b[0m     \u001b[39mif\u001b[39;00m full_trace:\n\u001b[1;32m    192\u001b[0m         traces\u001b[39m.\u001b[39mappend(VEMTrace)\n",
      "File \u001b[0;32m~/Binaries/Signal.py:92\u001b[0m, in \u001b[0;36mTrace.__init__\u001b[0;34m(self, trace_options, baseline_data, signal_data)\u001b[0m\n\u001b[1;32m     89\u001b[0m     \u001b[39mself\u001b[39m\u001b[39m.\u001b[39mint_1, \u001b[39mself\u001b[39m\u001b[39m.\u001b[39mint_2, \u001b[39mself\u001b[39m\u001b[39m.\u001b[39mint_3 \u001b[39m=\u001b[39m \u001b[39mself\u001b[39m\u001b[39m.\u001b[39mconvert_to_VEM( \u001b[39mself\u001b[39m\u001b[39m.\u001b[39mBaseline, \u001b[39mself\u001b[39m\u001b[39m.\u001b[39mSignal, mode \u001b[39m=\u001b[39m \u001b[39m\"\u001b[39m\u001b[39mcharge\u001b[39m\u001b[39m\"\u001b[39m )\n\u001b[1;32m     91\u001b[0m \u001b[39melse\u001b[39;00m: \n\u001b[0;32m---> 92\u001b[0m     \u001b[39mself\u001b[39m\u001b[39m.\u001b[39mpmt_1, \u001b[39mself\u001b[39m\u001b[39m.\u001b[39mpmt_2, \u001b[39mself\u001b[39m\u001b[39m.\u001b[39mpmt_3 \u001b[39m=\u001b[39m \u001b[39mself\u001b[39;49m\u001b[39m.\u001b[39;49mconvert_to_VEM( \u001b[39mself\u001b[39;49m\u001b[39m.\u001b[39;49mBaseline, mode \u001b[39m=\u001b[39;49m \u001b[39m\"\u001b[39;49m\u001b[39mpeak\u001b[39;49m\u001b[39m\"\u001b[39;49m )\n\u001b[1;32m     93\u001b[0m     \u001b[39mself\u001b[39m\u001b[39m.\u001b[39mint_1, \u001b[39mself\u001b[39m\u001b[39m.\u001b[39mint_2, \u001b[39mself\u001b[39m\u001b[39m.\u001b[39mint_3 \u001b[39m=\u001b[39m \u001b[39mself\u001b[39m\u001b[39m.\u001b[39mconvert_to_VEM( \u001b[39mself\u001b[39m\u001b[39m.\u001b[39mBaseline, mode \u001b[39m=\u001b[39m \u001b[39m\"\u001b[39m\u001b[39mcharge\u001b[39m\u001b[39m\"\u001b[39m )\n\u001b[1;32m     95\u001b[0m \u001b[39mif\u001b[39;00m \u001b[39mself\u001b[39m\u001b[39m.\u001b[39mdownsample:\n",
      "File \u001b[0;32m~/Binaries/Signal.py:162\u001b[0m, in \u001b[0;36mTrace.convert_to_VEM\u001b[0;34m(self, mode, *args)\u001b[0m\n\u001b[1;32m    159\u001b[0m     signal[i] \u001b[39m+\u001b[39m\u001b[39m=\u001b[39m background_pmt \u001b[39m*\u001b[39m factor[i]\n\u001b[1;32m    161\u001b[0m \u001b[39mif\u001b[39;00m \u001b[39mself\u001b[39m\u001b[39m.\u001b[39mdownsample: \n\u001b[0;32m--> 162\u001b[0m     signal \u001b[39m=\u001b[39m \u001b[39mself\u001b[39;49m\u001b[39m.\u001b[39;49mapply_downsampling(signal)\n\u001b[1;32m    164\u001b[0m \u001b[39mfor\u001b[39;00m i, pmt \u001b[39min\u001b[39;00m \u001b[39menumerate\u001b[39m(signal):\n\u001b[1;32m    165\u001b[0m     signal[i] \u001b[39m=\u001b[39m np\u001b[39m.\u001b[39mfloor(pmt) \u001b[39m/\u001b[39m simulated\n",
      "File \u001b[0;32m~/Binaries/Signal.py:202\u001b[0m, in \u001b[0;36mTrace.apply_downsampling\u001b[0;34m(trace)\u001b[0m\n\u001b[1;32m    200\u001b[0m \u001b[39mfor\u001b[39;00m i, pmt \u001b[39min\u001b[39;00m \u001b[39menumerate\u001b[39m(sampled_trace):\n\u001b[1;32m    201\u001b[0m     \u001b[39mfor\u001b[39;00m j, adc \u001b[39min\u001b[39;00m \u001b[39menumerate\u001b[39m(pmt):\n\u001b[0;32m--> 202\u001b[0m         sampled_trace[i,j] \u001b[39m=\u001b[39m np\u001b[39m.\u001b[39;49mclip(\u001b[39mint\u001b[39;49m(adc) \u001b[39m>>\u001b[39;49m kFirNormalizationBitShift, a_min \u001b[39m=\u001b[39;49m \u001b[39m-\u001b[39;49m\u001b[39m20\u001b[39;49m, a_max \u001b[39m=\u001b[39;49m \u001b[39mNone\u001b[39;49;00m)\n\u001b[1;32m    203\u001b[0m         \u001b[39m# sampled_trace[i,j] = int(adc) >> kFirNormalizationBitShift\u001b[39;00m\n\u001b[1;32m    205\u001b[0m \u001b[39mreturn\u001b[39;00m sampled_trace\n",
      "File \u001b[0;32m<__array_function__ internals>:5\u001b[0m, in \u001b[0;36mclip\u001b[0;34m(*args, **kwargs)\u001b[0m\n",
      "File \u001b[0;32m~/anaconda3/lib/python3.9/site-packages/numpy/core/fromnumeric.py:2115\u001b[0m, in \u001b[0;36mclip\u001b[0;34m(a, a_min, a_max, out, **kwargs)\u001b[0m\n\u001b[1;32m   2046\u001b[0m \u001b[39m@array_function_dispatch\u001b[39m(_clip_dispatcher)\n\u001b[1;32m   2047\u001b[0m \u001b[39mdef\u001b[39;00m \u001b[39mclip\u001b[39m(a, a_min, a_max, out\u001b[39m=\u001b[39m\u001b[39mNone\u001b[39;00m, \u001b[39m*\u001b[39m\u001b[39m*\u001b[39mkwargs):\n\u001b[1;32m   2048\u001b[0m     \u001b[39m\"\"\"\u001b[39;00m\n\u001b[1;32m   2049\u001b[0m \u001b[39m    Clip (limit) the values in an array.\u001b[39;00m\n\u001b[1;32m   2050\u001b[0m \n\u001b[0;32m   (...)\u001b[0m\n\u001b[1;32m   2113\u001b[0m \n\u001b[1;32m   2114\u001b[0m \u001b[39m    \"\"\"\u001b[39;00m\n\u001b[0;32m-> 2115\u001b[0m     \u001b[39mreturn\u001b[39;00m _wrapfunc(a, \u001b[39m'\u001b[39;49m\u001b[39mclip\u001b[39;49m\u001b[39m'\u001b[39;49m, a_min, a_max, out\u001b[39m=\u001b[39;49mout, \u001b[39m*\u001b[39;49m\u001b[39m*\u001b[39;49mkwargs)\n",
      "File \u001b[0;32m~/anaconda3/lib/python3.9/site-packages/numpy/core/fromnumeric.py:54\u001b[0m, in \u001b[0;36m_wrapfunc\u001b[0;34m(obj, method, *args, **kwds)\u001b[0m\n\u001b[1;32m     52\u001b[0m bound \u001b[39m=\u001b[39m \u001b[39mgetattr\u001b[39m(obj, method, \u001b[39mNone\u001b[39;00m)\n\u001b[1;32m     53\u001b[0m \u001b[39mif\u001b[39;00m bound \u001b[39mis\u001b[39;00m \u001b[39mNone\u001b[39;00m:\n\u001b[0;32m---> 54\u001b[0m     \u001b[39mreturn\u001b[39;00m _wrapit(obj, method, \u001b[39m*\u001b[39;49margs, \u001b[39m*\u001b[39;49m\u001b[39m*\u001b[39;49mkwds)\n\u001b[1;32m     56\u001b[0m \u001b[39mtry\u001b[39;00m:\n\u001b[1;32m     57\u001b[0m     \u001b[39mreturn\u001b[39;00m bound(\u001b[39m*\u001b[39margs, \u001b[39m*\u001b[39m\u001b[39m*\u001b[39mkwds)\n",
      "File \u001b[0;32m~/anaconda3/lib/python3.9/site-packages/numpy/core/fromnumeric.py:43\u001b[0m, in \u001b[0;36m_wrapit\u001b[0;34m(obj, method, *args, **kwds)\u001b[0m\n\u001b[1;32m     41\u001b[0m \u001b[39mexcept\u001b[39;00m \u001b[39mAttributeError\u001b[39;00m:\n\u001b[1;32m     42\u001b[0m     wrap \u001b[39m=\u001b[39m \u001b[39mNone\u001b[39;00m\n\u001b[0;32m---> 43\u001b[0m result \u001b[39m=\u001b[39m \u001b[39mgetattr\u001b[39;49m(asarray(obj), method)(\u001b[39m*\u001b[39;49margs, \u001b[39m*\u001b[39;49m\u001b[39m*\u001b[39;49mkwds)\n\u001b[1;32m     44\u001b[0m \u001b[39mif\u001b[39;00m wrap:\n\u001b[1;32m     45\u001b[0m     \u001b[39mif\u001b[39;00m \u001b[39mnot\u001b[39;00m \u001b[39misinstance\u001b[39m(result, mu\u001b[39m.\u001b[39mndarray):\n",
      "File \u001b[0;32m~/anaconda3/lib/python3.9/site-packages/numpy/core/_methods.py:134\u001b[0m, in \u001b[0;36m_clip\u001b[0;34m(a, min, max, out, casting, **kwargs)\u001b[0m\n\u001b[1;32m    132\u001b[0m \u001b[39mif\u001b[39;00m \u001b[39mnot\u001b[39;00m _clip_dep_is_byte_swapped(a) \u001b[39mand\u001b[39;00m \u001b[39mnot\u001b[39;00m _clip_dep_is_byte_swapped(out):\n\u001b[1;32m    133\u001b[0m     using_deprecated_nan \u001b[39m=\u001b[39m \u001b[39mFalse\u001b[39;00m\n\u001b[0;32m--> 134\u001b[0m     \u001b[39mif\u001b[39;00m _clip_dep_is_scalar_nan(\u001b[39mmin\u001b[39;49m):\n\u001b[1;32m    135\u001b[0m         \u001b[39mmin\u001b[39m \u001b[39m=\u001b[39m \u001b[39m-\u001b[39m\u001b[39mfloat\u001b[39m(\u001b[39m'\u001b[39m\u001b[39minf\u001b[39m\u001b[39m'\u001b[39m)\n\u001b[1;32m    136\u001b[0m         using_deprecated_nan \u001b[39m=\u001b[39m \u001b[39mTrue\u001b[39;00m\n",
      "File \u001b[0;32m~/anaconda3/lib/python3.9/site-packages/numpy/core/_methods.py:94\u001b[0m, in \u001b[0;36m_clip_dep_is_scalar_nan\u001b[0;34m(a)\u001b[0m\n\u001b[1;32m     91\u001b[0m \u001b[39mdef\u001b[39;00m \u001b[39m_clip_dep_is_scalar_nan\u001b[39m(a):\n\u001b[1;32m     92\u001b[0m     \u001b[39m# guarded to protect circular imports\u001b[39;00m\n\u001b[1;32m     93\u001b[0m     \u001b[39mfrom\u001b[39;00m \u001b[39mnumpy\u001b[39;00m\u001b[39m.\u001b[39;00m\u001b[39mcore\u001b[39;00m\u001b[39m.\u001b[39;00m\u001b[39mfromnumeric\u001b[39;00m \u001b[39mimport\u001b[39;00m ndim\n\u001b[0;32m---> 94\u001b[0m     \u001b[39mif\u001b[39;00m ndim(a) \u001b[39m!=\u001b[39m \u001b[39m0\u001b[39m:\n\u001b[1;32m     95\u001b[0m         \u001b[39mreturn\u001b[39;00m \u001b[39mFalse\u001b[39;00m\n\u001b[1;32m     96\u001b[0m     \u001b[39mtry\u001b[39;00m:\n",
      "File \u001b[0;32m<__array_function__ internals>:5\u001b[0m, in \u001b[0;36mndim\u001b[0;34m(*args, **kwargs)\u001b[0m\n",
      "File \u001b[0;32m~/anaconda3/lib/python3.9/site-packages/numpy/core/fromnumeric.py:3159\u001b[0m, in \u001b[0;36mndim\u001b[0;34m(a)\u001b[0m\n\u001b[1;32m   3127\u001b[0m \u001b[39m@array_function_dispatch\u001b[39m(_ndim_dispatcher)\n\u001b[1;32m   3128\u001b[0m \u001b[39mdef\u001b[39;00m \u001b[39mndim\u001b[39m(a):\n\u001b[1;32m   3129\u001b[0m     \u001b[39m\"\"\"\u001b[39;00m\n\u001b[1;32m   3130\u001b[0m \u001b[39m    Return the number of dimensions of an array.\u001b[39;00m\n\u001b[1;32m   3131\u001b[0m \n\u001b[0;32m   (...)\u001b[0m\n\u001b[1;32m   3157\u001b[0m \n\u001b[1;32m   3158\u001b[0m \u001b[39m    \"\"\"\u001b[39;00m\n\u001b[0;32m-> 3159\u001b[0m     \u001b[39mtry\u001b[39;00m:\n\u001b[1;32m   3160\u001b[0m         \u001b[39mreturn\u001b[39;00m a\u001b[39m.\u001b[39mndim\n\u001b[1;32m   3161\u001b[0m     \u001b[39mexcept\u001b[39;00m \u001b[39mAttributeError\u001b[39;00m:\n",
      "\u001b[0;31mKeyboardInterrupt\u001b[0m: "
     ]
    },
    {
     "data": {
      "image/png": "[encoded data removed]",
      "text/plain": [
       "<Figure size 432x288 with 1 Axes>"
      ]
     },
     "metadata": {
      "needs_background": "light"
     },
     "output_type": "display_data"
    }
   ],
   "source": [
    "HardwareTriggers = HardwareClassifier(\"HardwareClassifier_peak_adjusted_nuria\")\n",
    "trigger_examples_1 = HardwareTriggers.production_test(58617, apply_downsampling = True, station = \"nuria\")"
   ]
  },
  {
   "cell_type": "markdown",
   "metadata": {},
   "source": [
    "# Real background trained models, downsampled and non-downsampled"
   ]
  },
  {
   "cell_type": "code",
   "execution_count": null,
   "metadata": {},
   "outputs": [],
   "source": [
    "Real_Background_NN = NNClassifier(\"minimal_conv2d_real_background\")\n",
    "trigger_examples_2 = Real_Background_NN.production_test(10000, apply_downsampling = False)\n",
    "\n",
    "# TRIGGER FREQUENCY @ 1e6 traces = 2242.5640 Hz"
   ]
  },
  {
   "cell_type": "code",
   "execution_count": null,
   "metadata": {},
   "outputs": [],
   "source": [
    "trigger_examples_3 = Real_Background_NN.production_test(10000, apply_downsampling = True)\n",
    "\n",
    "# TRIGGER FREQUENCY @ 1e6 traces = 10905.7323 Hz"
   ]
  },
  {
   "cell_type": "markdown",
   "metadata": {},
   "source": [
    "# 1 VEM cut, real background model, original and downsampled"
   ]
  },
  {
   "cell_type": "code",
   "execution_count": null,
   "metadata": {},
   "outputs": [],
   "source": [
    "Real_Background_Cut_NN = NNClassifier(\"ENSEMBLES/minimal_conv2d_real_background_1.00VEM/ensemble_01\")\n",
    "trigger_examples_4 = Real_Background_Cut_NN.production_test(10000, apply_downsampling = False)"
   ]
  },
  {
   "cell_type": "code",
   "execution_count": null,
   "metadata": {},
   "outputs": [],
   "source": [
    "Real_Background_Cut_NN = NNClassifier(\"ENSEMBLES/minimal_conv2d_real_background_1.00VEM/ensemble_01\")\n",
    "trigger_examples_5 = Real_Background_Cut_NN.production_test(10000, apply_downsampling = True)"
   ]
  },
  {
   "cell_type": "code",
   "execution_count": null,
   "metadata": {},
   "outputs": [],
   "source": [
    "Real_Background_low_prior = NNClassifier(\"ENSEMBLES/minimal_conv2d_real_background_low_prior/ensemble_01\")\n",
    "trigger_examples_4 = Real_Background_low_prior.production_test(10000, apply_downsampling = False)"
   ]
  },
  {
   "cell_type": "code",
   "execution_count": null,
   "metadata": {},
   "outputs": [],
   "source": []
  }
 ],
 "metadata": {
  "kernelspec": {
   "display_name": "base",
   "language": "python",
   "name": "python3"
  },
  "language_info": {
   "codemirror_mode": {
    "name": "ipython",
    "version": 3
   },
   "file_extension": ".py",
   "mimetype": "text/x-python",
   "name": "python",
   "nbconvert_exporter": "python",
   "pygments_lexer": "ipython3",
   "version": "3.9.12"
  },
  "orig_nbformat": 4,
  "vscode": {
   "interpreter": {
    "hash": "e6bd95ed309fd09468b42d789b4c7d801e53518dbe20f43a540524fa8075e3ba"
   }
  }
 },
 "nbformat": 4,
 "nbformat_minor": 2
}
