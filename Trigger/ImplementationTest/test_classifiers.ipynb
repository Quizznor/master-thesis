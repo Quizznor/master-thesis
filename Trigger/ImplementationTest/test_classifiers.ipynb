{
 "cells": [
  {
   "cell_type": "code",
   "execution_count": 1,
   "metadata": {},
   "outputs": [],
   "source": [
    "from Binaries import *"
   ]
  },
  {
   "cell_type": "code",
   "execution_count": null,
   "metadata": {},
   "outputs": [],
   "source": [
    "# Old output with all stations in dataset\n",
    "\n",
    "HardwareTriggers = HardwareClassifier()\n",
    "trigger_examples_1 = HardwareTriggers.production_test(100000, apply_downsampling = True)\n",
    "\n",
    "# FABIOS CORRECTION STILL MISSING\n",
    "\n",
    "# Trigger rate seems unreasonably low. Why?\n",
    "# what is the 'veto' after a trigger was issued?\n",
    "\n",
    "# TRIGGER FREQUENCY @ 1e6 traces = 2.9415 Hz"
   ]
  },
  {
   "cell_type": "markdown",
   "metadata": {},
   "source": [
    "```\n",
    "100.00% - 133.82ms/batch, ETA = 0h 0m\n",
    "\n",
    "Production test results:\n",
    "\n",
    "random traces injected: 100000\n",
    "summed traces duration: 1.698s\n",
    "total T2 trigger found: 22\n",
    "*********************************\n",
    "TRIGGER FREQUENCY = 12.9550 Hz\n",
    "```"
   ]
  },
  {
   "cell_type": "code",
   "execution_count": 2,
   "metadata": {},
   "outputs": [
    {
     "name": "stdout",
     "output_type": "stream",
     "text": [
      "[INFO] -- LOADING RANDOMS: lo_qui_don_randoms_672.csv                    \n",
      "[INFO] -- LOADING RANDOMS: lo_qui_don_randoms_628.csv                        \n",
      "[INFO] -- LOADING RANDOMS: lo_qui_don_randoms_637.csv                       \n",
      "[INFO] -- LOADING RANDOMS: lo_qui_don_randoms_205.csv                       \n",
      "[INFO] -- LOADING RANDOMS: lo_qui_don_randoms_679.csv                       \n",
      "[INFO] -- LOADING RANDOMS: lo_qui_don_randoms_714.csv                       \n",
      "[INFO] -- LOADING RANDOMS: lo_qui_don_randoms_432.csv                       \n",
      "[INFO] -- LOADING RANDOMS: lo_qui_don_randoms_423.csv                       \n",
      "[INFO] -- LOADING RANDOMS: lo_qui_don_randoms_265.csv                       \n",
      "[INFO] -- LOADING RANDOMS: lo_qui_don_randoms_286.csv                        \n",
      "[INFO] -- LOADING RANDOMS: lo_qui_don_randoms_603.csv                        \n",
      "[INFO] -- LOADING RANDOMS: lo_qui_don_randoms_790.csv                        \n",
      "[INFO] -- LOADING RANDOMS: lo_qui_don_randoms_743.csv                        \n",
      "[INFO] -- LOADING RANDOMS: lo_qui_don_randoms_621.csv                        \n",
      "[INFO] -- LOADING RANDOMS: lo_qui_don_randoms_288.csv                        \n",
      "[INFO] -- LOADING RANDOMS: lo_qui_don_randoms_719.csv                        \n",
      "[INFO] -- LOADING RANDOMS: lo_qui_don_randoms_472.csv                        \n",
      "[INFO] -- LOADING RANDOMS: lo_qui_don_randoms_419.csv                        \n",
      "[INFO] -- LOADING RANDOMS: lo_qui_don_randoms_253.csv                        \n",
      "[INFO] -- LOADING RANDOMS: lo_qui_don_randoms_47.csv                         \n",
      "[INFO] -- LOADING RANDOMS: lo_qui_don_randoms_132.csv                        \n",
      "[INFO] -- LOADING RANDOMS: lo_qui_don_randoms_369.csv                        \n",
      "[INFO] -- LOADING RANDOMS: lo_qui_don_randoms_622.csv                        \n",
      "[INFO] -- LOADING RANDOMS: lo_qui_don_randoms_13.csv                         \n",
      "[INFO] -- LOADING RANDOMS: lo_qui_don_randoms_417.csv                        \n",
      "[INFO] -- LOADING RANDOMS: lo_qui_don_randoms_573.csv                        \n",
      "[INFO] -- LOADING RANDOMS: lo_qui_don_randoms_668.csv                        \n",
      "[INFO] -- LOADING RANDOMS: lo_qui_don_randoms_637.csv                        \n",
      "[INFO] -- LOADING RANDOMS: lo_qui_don_randoms_573.csv                        \n",
      "[INFO] -- LOADING RANDOMS: lo_qui_don_randoms_480.csv                        \n",
      "[INFO] -- LOADING RANDOMS: lo_qui_don_randoms_272.csv                       \n",
      "[INFO] -- LOADING RANDOMS: lo_qui_don_randoms_438.csv                       \n",
      "[INFO] -- LOADING RANDOMS: lo_qui_don_randoms_466.csv                       \n",
      "[INFO] -- LOADING RANDOMS: lo_qui_don_randoms_78.csv                        \n",
      "[INFO] -- LOADING RANDOMS: lo_qui_don_randoms_569.csv                        \n",
      "[INFO] -- LOADING RANDOMS: lo_qui_don_randoms_466.csv                        \n",
      "[INFO] -- LOADING RANDOMS: lo_qui_don_randoms_662.csv                        \n",
      "[INFO] -- LOADING RANDOMS: lo_qui_don_randoms_634.csv                        \n",
      "[INFO] -- LOADING RANDOMS: lo_qui_don_randoms_449.csv                        \n",
      "[INFO] -- LOADING RANDOMS: lo_qui_don_randoms_244.csv                        \n",
      "[INFO] -- LOADING RANDOMS: lo_qui_don_randoms_277.csv                         \n",
      "[INFO] -- LOADING RANDOMS: lo_qui_don_randoms_672.csv                         \n",
      "[INFO] -- LOADING RANDOMS: lo_qui_don_randoms_440.csv                         \n",
      "[INFO] -- LOADING RANDOMS: lo_qui_don_randoms_688.csv                         \n",
      "[INFO] -- LOADING RANDOMS: lo_qui_don_randoms_175.csv                         \n",
      "[INFO] -- LOADING RANDOMS: lo_qui_don_randoms_667.csv                         \n",
      "[INFO] -- LOADING RANDOMS: lo_qui_don_randoms_319.csv                         \n",
      "[INFO] -- LOADING RANDOMS: lo_qui_don_randoms_109.csv                         \n",
      "[INFO] -- LOADING RANDOMS: lo_qui_don_randoms_298.csv                         \n",
      "[INFO] -- LOADING RANDOMS: lo_qui_don_randoms_662.csv                         \n",
      "[INFO] -- LOADING RANDOMS: lo_qui_don_randoms_455.csv                         \n",
      "[INFO] -- LOADING RANDOMS: lo_qui_don_randoms_136.csv                         \n",
      "[INFO] -- LOADING RANDOMS: lo_qui_don_randoms_795.csv                         \n",
      "[INFO] -- LOADING RANDOMS: lo_qui_don_randoms_271.csv                         \n",
      "[INFO] -- LOADING RANDOMS: lo_qui_don_randoms_63.csv                          \n",
      "[INFO] -- LOADING RANDOMS: lo_qui_don_randoms_696.csv                         \n",
      "[INFO] -- LOADING RANDOMS: lo_qui_don_randoms_518.csv                        \n",
      "[INFO] -- LOADING RANDOMS: lo_qui_don_randoms_608.csv                        \n",
      "[INFO] -- LOADING RANDOMS: lo_qui_don_randoms_324.csv                        \n",
      "100.00% - 143.21ms/batch, ETA = 0h 0m -> 12 trace(s) triggered, 12.04 Hz      \n",
      "\n",
      "Production test results:\n",
      "\n",
      "random traces injected: 58617\n",
      "summed traces duration: 0.9954s\n",
      "total T2 trigger found: 12\n",
      "*********************************\n",
      "TRIGGER FREQUENCY = 12.0552 Hz\n"
     ]
    },
    {
     "data": {
      "image/png": "[encoded data removed]",
      "text/plain": [
       "<Figure size 432x288 with 1 Axes>"
      ]
     },
     "metadata": {
      "needs_background": "light"
     },
     "output_type": "display_data"
    }
   ],
   "source": [
    "HardwareTriggers = HardwareClassifier(\"HardwareClassifier_peak_adjusted_loki\")\n",
    "HardwareTriggers.production_test(58617, apply_downsampling = True, station = \"lo_qui_don\")"
   ]
  },
  {
   "cell_type": "code",
   "execution_count": 3,
   "metadata": {},
   "outputs": [
    {
     "name": "stdout",
     "output_type": "stream",
     "text": [
      "[INFO] -- LOADING RANDOMS: nuria_randoms0245.csv                    \n",
      "[INFO] -- LOADING RANDOMS: nuria_randoms0340.csv                    z         \n",
      "[INFO] -- LOADING RANDOMS: nuria_randoms0685.csv                    Hz      \n",
      "[INFO] -- LOADING RANDOMS: nuria_randoms0161.csv                    Hz       \n",
      "[INFO] -- LOADING RANDOMS: nuria_randoms0376.csv                    Hz       \n",
      "[INFO] -- LOADING RANDOMS: nuria_randoms0090.csv                    z        \n",
      "55.63% - 145.16ms/batch, ETA = 1h 2m -> 7 trace(s) triggered, 12.63 Hz      \r"
     ]
    },
    {
     "ename": "KeyboardInterrupt",
     "evalue": "",
     "output_type": "error",
     "traceback": [
      "\u001b[0;31m---------------------------------------------------------------------------\u001b[0m",
      "\u001b[0;31mKeyboardInterrupt\u001b[0m                         Traceback (most recent call last)",
      "\u001b[1;32m/cr/users/filip/Trigger/ImplementationTest/test_classifiers.ipynb Cell 5\u001b[0m in \u001b[0;36m<cell line: 2>\u001b[0;34m()\u001b[0m\n\u001b[1;32m      <a href='vscode-notebook-cell://ssh-remote%2Biklx288.ikp.kit.edu/cr/users/filip/Trigger/ImplementationTest/test_classifiers.ipynb#W4sdnNjb2RlLXJlbW90ZQ%3D%3D?line=0'>1</a>\u001b[0m HardwareTriggers \u001b[39m=\u001b[39m HardwareClassifier(\u001b[39m\"\u001b[39m\u001b[39mHardwareClassifier_peak_adjusted_nuria\u001b[39m\u001b[39m\"\u001b[39m)\n\u001b[0;32m----> <a href='vscode-notebook-cell://ssh-remote%2Biklx288.ikp.kit.edu/cr/users/filip/Trigger/ImplementationTest/test_classifiers.ipynb#W4sdnNjb2RlLXJlbW90ZQ%3D%3D?line=1'>2</a>\u001b[0m trigger_examples_1 \u001b[39m=\u001b[39m HardwareTriggers\u001b[39m.\u001b[39;49mproduction_test(\u001b[39m58617\u001b[39;49m, apply_downsampling \u001b[39m=\u001b[39;49m \u001b[39mTrue\u001b[39;49;00m, station \u001b[39m=\u001b[39;49m \u001b[39m\"\u001b[39;49m\u001b[39mnuria\u001b[39;49m\u001b[39m\"\u001b[39;49m)\n",
      "File \u001b[0;32m~/Binaries/Classifier.py:52\u001b[0m, in \u001b[0;36mClassifier.production_test\u001b[0;34m(self, n_traces, **kwargs)\u001b[0m\n\u001b[1;32m     48\u001b[0m \u001b[39mfor\u001b[39;00m index \u001b[39min\u001b[39;00m RandomTraces\u001b[39m.\u001b[39m__sliding_window__(trace):\n\u001b[1;32m     50\u001b[0m     window, _, _, _ \u001b[39m=\u001b[39m trace\u001b[39m.\u001b[39mget_trace_window((index, index \u001b[39m+\u001b[39m RandomTraces\u001b[39m.\u001b[39mwindow_length), skip_integral \u001b[39m=\u001b[39m \u001b[39mTrue\u001b[39;00m)\n\u001b[0;32m---> 52\u001b[0m     \u001b[39mif\u001b[39;00m \u001b[39mself\u001b[39;49m\u001b[39m.\u001b[39;49m\u001b[39m__call__\u001b[39;49m(window):\n\u001b[1;32m     54\u001b[0m         n_total_triggered \u001b[39m+\u001b[39m\u001b[39m=\u001b[39m \u001b[39m1\u001b[39m\n\u001b[1;32m     56\u001b[0m         \u001b[39mif\u001b[39;00m n_total_triggered \u001b[39m<\u001b[39m \u001b[39m100\u001b[39m: \u001b[39mself\u001b[39m\u001b[39m.\u001b[39mplot_trace_window(window, n_total_triggered)\n",
      "File \u001b[0;32m~/Binaries/Classifier.py:685\u001b[0m, in \u001b[0;36mHardwareClassifier.__call__\u001b[0;34m(self, trace)\u001b[0m\n\u001b[1;32m    679\u001b[0m \u001b[39mdef\u001b[39;00m \u001b[39m__call__\u001b[39m(\u001b[39mself\u001b[39m, trace : np\u001b[39m.\u001b[39mndarray) \u001b[39m-\u001b[39m\u001b[39m>\u001b[39m \u001b[39mbool\u001b[39m : \n\u001b[1;32m    680\u001b[0m     \n\u001b[1;32m    681\u001b[0m     \u001b[39m# Threshold of 3.2 immediately gets promoted to T2\u001b[39;00m\n\u001b[1;32m    682\u001b[0m     \u001b[39m# Threshold of 1.75 if a T3 has already been issued\u001b[39;00m\n\u001b[1;32m    684\u001b[0m     \u001b[39mtry\u001b[39;00m:\n\u001b[0;32m--> 685\u001b[0m         \u001b[39mreturn\u001b[39;00m \u001b[39mself\u001b[39m\u001b[39m.\u001b[39mTh(\u001b[39m3.2\u001b[39m, trace) \u001b[39mor\u001b[39;00m \u001b[39mself\u001b[39;49m\u001b[39m.\u001b[39;49mToT(trace) \u001b[39mor\u001b[39;00m \u001b[39mself\u001b[39m\u001b[39m.\u001b[39mToTd(trace) \u001b[39mor\u001b[39;00m \u001b[39mself\u001b[39m\u001b[39m.\u001b[39mMoPS(trace)\n\u001b[1;32m    686\u001b[0m     \u001b[39mexcept\u001b[39;00m \u001b[39mValueError\u001b[39;00m:\n\u001b[1;32m    687\u001b[0m         \u001b[39mreturn\u001b[39;00m np\u001b[39m.\u001b[39marray([\u001b[39mself\u001b[39m\u001b[39m.\u001b[39m\u001b[39m__call__\u001b[39m(t) \u001b[39mfor\u001b[39;00m t \u001b[39min\u001b[39;00m trace])\n",
      "File \u001b[0;32m~/Binaries/Classifier.py:716\u001b[0m, in \u001b[0;36mHardwareClassifier.ToT\u001b[0;34m(self, signal)\u001b[0m\n\u001b[1;32m    714\u001b[0m pmt1_active \u001b[39m=\u001b[39m \u001b[39mlist\u001b[39m(pmt_1 \u001b[39m>\u001b[39m threshold)\u001b[39m.\u001b[39mcount(\u001b[39mTrue\u001b[39;00m)\n\u001b[1;32m    715\u001b[0m pmt2_active \u001b[39m=\u001b[39m \u001b[39mlist\u001b[39m(pmt_2 \u001b[39m>\u001b[39m threshold)\u001b[39m.\u001b[39mcount(\u001b[39mTrue\u001b[39;00m)\n\u001b[0;32m--> 716\u001b[0m pmt3_active \u001b[39m=\u001b[39m \u001b[39mlist\u001b[39;49m(pmt_3 \u001b[39m>\u001b[39;49m threshold)\u001b[39m.\u001b[39;49mcount(\u001b[39mTrue\u001b[39;49;00m)\n\u001b[1;32m    717\u001b[0m ToT_trigger \u001b[39m=\u001b[39m [pmt1_active \u001b[39m>\u001b[39m\u001b[39m=\u001b[39m \u001b[39m13\u001b[39m, pmt2_active \u001b[39m>\u001b[39m\u001b[39m=\u001b[39m \u001b[39m13\u001b[39m, pmt3_active \u001b[39m>\u001b[39m\u001b[39m=\u001b[39m \u001b[39m13\u001b[39m]\n\u001b[1;32m    719\u001b[0m \u001b[39mif\u001b[39;00m ToT_trigger\u001b[39m.\u001b[39mcount(\u001b[39mTrue\u001b[39;00m) \u001b[39m>\u001b[39m\u001b[39m=\u001b[39m \u001b[39m2\u001b[39m:\n",
      "\u001b[0;31mKeyboardInterrupt\u001b[0m: "
     ]
    },
    {
     "data": {
      "image/png": "[encoded data removed]",
      "text/plain": [
       "<Figure size 432x288 with 1 Axes>"
      ]
     },
     "metadata": {
      "needs_background": "light"
     },
     "output_type": "display_data"
    }
   ],
   "source": [
    "HardwareTriggers = HardwareClassifier(\"HardwareClassifier_peak_adjusted_nuria\")\n",
    "trigger_examples_1 = HardwareTriggers.production_test(58617, apply_downsampling = True, station = \"nuria\")"
   ]
  },
  {
   "cell_type": "markdown",
   "metadata": {},
   "source": [
    "# Real background trained models, downsampled and non-downsampled"
   ]
  },
  {
   "cell_type": "code",
   "execution_count": null,
   "metadata": {},
   "outputs": [],
   "source": [
    "Real_Background_NN = NNClassifier(\"minimal_conv2d_real_background\")\n",
    "trigger_examples_2 = Real_Background_NN.production_test(10000, apply_downsampling = False)\n",
    "\n",
    "# TRIGGER FREQUENCY @ 1e6 traces = 2242.5640 Hz"
   ]
  },
  {
   "cell_type": "code",
   "execution_count": null,
   "metadata": {},
   "outputs": [],
   "source": [
    "trigger_examples_3 = Real_Background_NN.production_test(10000, apply_downsampling = True)\n",
    "\n",
    "# TRIGGER FREQUENCY @ 1e6 traces = 10905.7323 Hz"
   ]
  },
  {
   "cell_type": "markdown",
   "metadata": {},
   "source": [
    "# 1 VEM cut, real background model, original and downsampled"
   ]
  },
  {
   "cell_type": "code",
   "execution_count": null,
   "metadata": {},
   "outputs": [],
   "source": [
    "Real_Background_Cut_NN = NNClassifier(\"ENSEMBLES/minimal_conv2d_real_background_1.00VEM/ensemble_01\")\n",
    "trigger_examples_4 = Real_Background_Cut_NN.production_test(10000, apply_downsampling = False)"
   ]
  },
  {
   "cell_type": "code",
   "execution_count": null,
   "metadata": {},
   "outputs": [],
   "source": [
    "Real_Background_Cut_NN = NNClassifier(\"ENSEMBLES/minimal_conv2d_real_background_1.00VEM/ensemble_01\")\n",
    "trigger_examples_5 = Real_Background_Cut_NN.production_test(10000, apply_downsampling = True)"
   ]
  },
  {
   "cell_type": "code",
   "execution_count": null,
   "metadata": {},
   "outputs": [],
   "source": [
    "Real_Background_low_prior = NNClassifier(\"ENSEMBLES/minimal_conv2d_real_background_low_prior/ensemble_01\")\n",
    "trigger_examples_4 = Real_Background_low_prior.production_test(10000, apply_downsampling = False)"
   ]
  },
  {
   "cell_type": "code",
   "execution_count": null,
   "metadata": {},
   "outputs": [],
   "source": []
  }
 ],
 "metadata": {
  "kernelspec": {
   "display_name": "base",
   "language": "python",
   "name": "python3"
  },
  "language_info": {
   "codemirror_mode": {
    "name": "ipython",
    "version": 3
   },
   "file_extension": ".py",
   "mimetype": "text/x-python",
   "name": "python",
   "nbconvert_exporter": "python",
   "pygments_lexer": "ipython3",
   "version": "3.9.12"
  },
  "orig_nbformat": 4,
  "vscode": {
   "interpreter": {
    "hash": "e6bd95ed309fd09468b42d789b4c7d801e53518dbe20f43a540524fa8075e3ba"
   }
  }
 },
 "nbformat": 4,
 "nbformat_minor": 2
}
