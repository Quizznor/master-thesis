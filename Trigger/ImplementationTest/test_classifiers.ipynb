{
 "cells": [
  {
   "cell_type": "code",
   "execution_count": 1,
   "metadata": {},
   "outputs": [],
   "source": [
    "from Binaries import *"
   ]
  },
  {
   "cell_type": "code",
   "execution_count": 2,
   "metadata": {},
   "outputs": [
    {
     "name": "stdout",
     "output_type": "stream",
     "text": [
      "99.99% - 159.48ms/batch, ETA = 0h 0m             \n",
      "\n",
      "Production test results:\n",
      "\n",
      "random traces injected: 10000\n",
      "summed traces duration: 0.1698s\n",
      "total T2 trigger found: 2\n",
      "*********************************\n",
      "TRIGGER FREQUENCY = 11.7773 Hz\n"
     ]
    }
   ],
   "source": [
    "HardwareTriggers = HardwareClassifier()\n",
    "trigger_examples_1 = HardwareTriggers.production_test(10000, apply_downsampling = True)\n",
    "\n",
    "# FABIOS CORRECTION STILL MISSING\n",
    "\n",
    "# Trigger rate seems unreasonably low. Why?\n",
    "# what is the 'veto' after a trigger was issued?\n",
    "\n",
    "# TRIGGER FREQUENCY @ 1e6 traces = 2.9415 Hz"
   ]
  },
  {
   "cell_type": "markdown",
   "metadata": {},
   "source": [
    "# Real background trained models, downsampled and non-downsampled"
   ]
  },
  {
   "cell_type": "code",
   "execution_count": 3,
   "metadata": {},
   "outputs": [
    {
     "name": "stdout",
     "output_type": "stream",
     "text": [
      "Model: \"sequential\"\n",
      "_________________________________________________________________\n",
      " Layer (type)                Output Shape              Param #   \n",
      "=================================================================\n",
      " conv2d (Conv2D)             (None, 1, 40, 1)          10        \n",
      "                                                                 \n",
      " flatten (Flatten)           (None, 40)                0         \n",
      "                                                                 \n",
      " dense (Dense)               (None, 2)                 82        \n",
      "                                                                 \n",
      "=================================================================\n",
      "Total params: 92\n",
      "Trainable params: 92\n",
      "Non-trainable params: 0\n",
      "_________________________________________________________________\n",
      "\n",
      "99.99% - 20.17ms/batch, ETA = 0h 0m              \n",
      "\n",
      "Production test results:\n",
      "\n",
      "random traces injected: 10000\n",
      "summed traces duration: 0.17s\n",
      "total T2 trigger found: 5714\n",
      "*********************************\n",
      "TRIGGER FREQUENCY = 33614.9285 Hz\n"
     ]
    }
   ],
   "source": [
    "Real_Background_NN = NNClassifier(\"minimal_conv2d_real_background\")\n",
    "trigger_examples_2 = Real_Background_NN.production_test(10000, apply_downsampling = False)\n",
    "\n",
    "# TRIGGER FREQUENCY @ 1e6 traces = 2242.5640 Hz"
   ]
  },
  {
   "cell_type": "code",
   "execution_count": 4,
   "metadata": {},
   "outputs": [
    {
     "name": "stdout",
     "output_type": "stream",
     "text": [
      "99.99% - 138.42ms/batch, ETA = 0h 0m             \n",
      "\n",
      "Production test results:\n",
      "\n",
      "random traces injected: 10000\n",
      "summed traces duration: 0.1698s\n",
      "total T2 trigger found: 1610\n",
      "*********************************\n",
      "TRIGGER FREQUENCY = 9480.7382 Hz\n"
     ]
    }
   ],
   "source": [
    "trigger_examples_3 = Real_Background_NN.production_test(10000, apply_downsampling = True)\n",
    "\n",
    "# TRIGGER FREQUENCY @ 1e6 traces = 10905.7323 Hz"
   ]
  },
  {
   "cell_type": "markdown",
   "metadata": {},
   "source": [
    "# 1 VEM cut, real background model, original and downsampled"
   ]
  },
  {
   "cell_type": "code",
   "execution_count": 5,
   "metadata": {},
   "outputs": [
    {
     "name": "stdout",
     "output_type": "stream",
     "text": [
      "Model: \"sequential\"\n",
      "_________________________________________________________________\n",
      " Layer (type)                Output Shape              Param #   \n",
      "=================================================================\n",
      " conv2d (Conv2D)             (None, 1, 40, 1)          10        \n",
      "                                                                 \n",
      " flatten (Flatten)           (None, 40)                0         \n",
      "                                                                 \n",
      " dense (Dense)               (None, 2)                 82        \n",
      "                                                                 \n",
      "=================================================================\n",
      "Total params: 92\n",
      "Trainable params: 92\n",
      "Non-trainable params: 0\n",
      "_________________________________________________________________\n",
      "\n",
      "99.99% - 20.31ms/batch, ETA = 0h 0m              \n",
      "\n",
      "Production test results:\n",
      "\n",
      "random traces injected: 10000\n",
      "summed traces duration: 0.17s\n",
      "total T2 trigger found: 192\n",
      "*********************************\n",
      "TRIGGER FREQUENCY = 1129.5181 Hz\n"
     ]
    }
   ],
   "source": [
    "Real_Background_Cut_NN = NNClassifier(\"ENSEMBLES/minimal_conv2d_real_background_1.00VEM/ensemble_01\")\n",
    "trigger_examples_4 = Real_Background_Cut_NN.production_test(10000, apply_downsampling = False)"
   ]
  },
  {
   "cell_type": "code",
   "execution_count": 6,
   "metadata": {},
   "outputs": [
    {
     "name": "stdout",
     "output_type": "stream",
     "text": [
      "Model: \"sequential\"\n",
      "_________________________________________________________________\n",
      " Layer (type)                Output Shape              Param #   \n",
      "=================================================================\n",
      " conv2d (Conv2D)             (None, 1, 40, 1)          10        \n",
      "                                                                 \n",
      " flatten (Flatten)           (None, 40)                0         \n",
      "                                                                 \n",
      " dense (Dense)               (None, 2)                 82        \n",
      "                                                                 \n",
      "=================================================================\n",
      "Total params: 92\n",
      "Trainable params: 92\n",
      "Non-trainable params: 0\n",
      "_________________________________________________________________\n",
      "\n",
      "99.99% - 138.73ms/batch, ETA = 0h 0m             \n",
      "\n",
      "Production test results:\n",
      "\n",
      "random traces injected: 10000\n",
      "summed traces duration: 0.1698s\n",
      "total T2 trigger found: 10\n",
      "*********************************\n",
      "TRIGGER FREQUENCY = 58.8866 Hz\n"
     ]
    }
   ],
   "source": [
    "Real_Background_Cut_NN = NNClassifier(\"ENSEMBLES/minimal_conv2d_real_background_1.00VEM/ensemble_01\")\n",
    "trigger_examples_5 = Real_Background_Cut_NN.production_test(10000, apply_downsampling = True)"
   ]
  }
 ],
 "metadata": {
  "kernelspec": {
   "display_name": "Python 3.9.12 ('base')",
   "language": "python",
   "name": "python3"
  },
  "language_info": {
   "codemirror_mode": {
    "name": "ipython",
    "version": 3
   },
   "file_extension": ".py",
   "mimetype": "text/x-python",
   "name": "python",
   "nbconvert_exporter": "python",
   "pygments_lexer": "ipython3",
   "version": "3.9.12"
  },
  "orig_nbformat": 4,
  "vscode": {
   "interpreter": {
    "hash": "e6bd95ed309fd09468b42d789b4c7d801e53518dbe20f43a540524fa8075e3ba"
   }
  }
 },
 "nbformat": 4,
 "nbformat_minor": 2
}
