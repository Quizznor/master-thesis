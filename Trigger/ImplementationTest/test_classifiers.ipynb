{
 "cells": [
  {
   "cell_type": "code",
   "execution_count": 5,
   "metadata": {},
   "outputs": [],
   "source": [
    "from Binaries import *"
   ]
  },
  {
   "cell_type": "code",
   "execution_count": 2,
   "metadata": {},
   "outputs": [
    {
     "name": "stdout",
     "output_type": "stream",
     "text": [
      "99.99% - 160.81ms/batch, ETA = 0h 0m            \n",
      "\n",
      "Production test results:\n",
      "\n",
      "random traces injected: 10000\n",
      "total T2 trigger found: 0\n",
      "*********************************\n",
      "TRIGGER FREQUENCY = 0.0000 Hz\n"
     ]
    }
   ],
   "source": [
    "HardwareTriggers = HardwareClassifier()\n",
    "HardwareTriggers.production_test(10000, apply_downsampling = True)\n",
    "\n",
    "# FABIOS CORRECTION STILL MISSING\n",
    "\n",
    "# Trigger rate seems unreasonably low. Why?\n",
    "# what is the 'veto' after a trigger was issued?\n",
    "\n",
    "# TRIGGER FREQUENCY @ 1e6 traces = 2.9415 Hz"
   ]
  },
  {
   "cell_type": "markdown",
   "metadata": {},
   "source": [
    "# Real background trained models, downsampled and non-downsampled"
   ]
  },
  {
   "cell_type": "code",
   "execution_count": 3,
   "metadata": {},
   "outputs": [
    {
     "name": "stdout",
     "output_type": "stream",
     "text": [
      "Model: \"sequential\"\n",
      "_________________________________________________________________\n",
      " Layer (type)                Output Shape              Param #   \n",
      "=================================================================\n",
      " conv2d (Conv2D)             (None, 1, 40, 1)          10        \n",
      "                                                                 \n",
      " flatten (Flatten)           (None, 40)                0         \n",
      "                                                                 \n",
      " dense (Dense)               (None, 2)                 82        \n",
      "                                                                 \n",
      "=================================================================\n",
      "Total params: 92\n",
      "Trainable params: 92\n",
      "Non-trainable params: 0\n",
      "_________________________________________________________________\n",
      "\n",
      "99.99% - 17.29ms/batch, ETA = 0h 0m               \n",
      "\n",
      "Production test results:\n",
      "\n",
      "random traces injected: 10000\n",
      "total T2 trigger found: 383\n",
      "*********************************\n",
      "TRIGGER FREQUENCY = 2253.1532 Hz\n"
     ]
    }
   ],
   "source": [
    "Real_Background_NN = NNClassifier(\"minimal_conv2d_real_background\")\n",
    "Real_Background_NN.production_test(10000, apply_downsampling = False)\n",
    "\n",
    "# TRIGGER FREQUENCY @ 1e6 traces = 2242.5640 Hz"
   ]
  },
  {
   "cell_type": "code",
   "execution_count": 6,
   "metadata": {},
   "outputs": [
    {
     "name": "stdout",
     "output_type": "stream",
     "text": [
      "99.99% - 128.78ms/batch, ETA = 0h 0m                \n",
      "\n",
      "Production test results:\n",
      "\n",
      "random traces injected: 10000\n",
      "total T2 trigger found: 2017\n",
      "*********************************\n",
      "TRIGGER FREQUENCY = 11865.8227 Hz\n"
     ]
    }
   ],
   "source": [
    "Real_Background_NN.production_test(10000, apply_downsampling = True)\n",
    "\n",
    "# TRIGGER FREQUENCY @ 1e6 traces = 10905.7323 Hz"
   ]
  },
  {
   "cell_type": "code",
   "execution_count": null,
   "metadata": {},
   "outputs": [],
   "source": []
  }
 ],
 "metadata": {
  "kernelspec": {
   "display_name": "Python 3.9.12 ('base')",
   "language": "python",
   "name": "python3"
  },
  "language_info": {
   "codemirror_mode": {
    "name": "ipython",
    "version": 3
   },
   "file_extension": ".py",
   "mimetype": "text/x-python",
   "name": "python",
   "nbconvert_exporter": "python",
   "pygments_lexer": "ipython3",
   "version": "3.9.12"
  },
  "orig_nbformat": 4,
  "vscode": {
   "interpreter": {
    "hash": "e6bd95ed309fd09468b42d789b4c7d801e53518dbe20f43a540524fa8075e3ba"
   }
  }
 },
 "nbformat": 4,
 "nbformat_minor": 2
}
