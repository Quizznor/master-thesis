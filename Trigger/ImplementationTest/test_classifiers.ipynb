{
 "cells": [
  {
   "cell_type": "code",
   "execution_count": 1,
   "metadata": {},
   "outputs": [],
   "source": [
    "from Binaries import *"
   ]
  },
  {
   "cell_type": "code",
   "execution_count": null,
   "metadata": {},
   "outputs": [],
   "source": [
    "# Old output with all stations in dataset\n",
    "\n",
    "HardwareTriggers = HardwareClassifier()\n",
    "trigger_examples_1 = HardwareTriggers.production_test(100000, apply_downsampling = True)\n",
    "\n",
    "# FABIOS CORRECTION STILL MISSING\n",
    "\n",
    "# Trigger rate seems unreasonably low. Why?\n",
    "# what is the 'veto' after a trigger was issued?\n",
    "\n",
    "# TRIGGER FREQUENCY @ 1e6 traces = 2.9415 Hz"
   ]
  },
  {
   "cell_type": "markdown",
   "metadata": {},
   "source": [
    "```\n",
    "100.00% - 133.82ms/batch, ETA = 0h 0m\n",
    "\n",
    "Production test results:\n",
    "\n",
    "random traces injected: 100000\n",
    "summed traces duration: 1.698s\n",
    "total T2 trigger found: 22\n",
    "*********************************\n",
    "TRIGGER FREQUENCY = 12.9550 Hz\n",
    "```"
   ]
  },
  {
   "cell_type": "code",
   "execution_count": 2,
   "metadata": {},
   "outputs": [
    {
     "name": "stdout",
     "output_type": "stream",
     "text": [
      "[INFO] -- LOADING RANDOMS: lo_qui_don_randoms_66.csv                    \n",
      "8.84% - 159.17ms/batch, ETA = 0h 24m -> 0 trace(s) triggered, 0.00 Hz       \r"
     ]
    }
   ],
   "source": [
    "HardwareTriggers = HardwareClassifier(\"HardwareClassifier_peak_adjusted\")\n",
    "trigger_examples_1 = HardwareTriggers.production_test(10000, apply_downsampling = True, station = \"lo_qui_don\")"
   ]
  },
  {
   "cell_type": "code",
   "execution_count": null,
   "metadata": {},
   "outputs": [],
   "source": [
    "HardwareTriggers = HardwareClassifier(\"HardwareClassifier_peak_adjusted_nuria\")\n",
    "trigger_examples_1 = HardwareTriggers.production_test(58617, apply_downsampling = True, station = \"nuria\")"
   ]
  },
  {
   "cell_type": "markdown",
   "metadata": {},
   "source": [
    "# Real background trained models, downsampled and non-downsampled"
   ]
  },
  {
   "cell_type": "code",
   "execution_count": null,
   "metadata": {},
   "outputs": [],
   "source": [
    "Real_Background_NN = NNClassifier(\"minimal_conv2d_real_background\")\n",
    "trigger_examples_2 = Real_Background_NN.production_test(10000, apply_downsampling = False)\n",
    "\n",
    "# TRIGGER FREQUENCY @ 1e6 traces = 2242.5640 Hz"
   ]
  },
  {
   "cell_type": "code",
   "execution_count": null,
   "metadata": {},
   "outputs": [],
   "source": [
    "trigger_examples_3 = Real_Background_NN.production_test(10000, apply_downsampling = True)\n",
    "\n",
    "# TRIGGER FREQUENCY @ 1e6 traces = 10905.7323 Hz"
   ]
  },
  {
   "cell_type": "markdown",
   "metadata": {},
   "source": [
    "# 1 VEM cut, real background model, original and downsampled"
   ]
  },
  {
   "cell_type": "code",
   "execution_count": null,
   "metadata": {},
   "outputs": [],
   "source": [
    "Real_Background_Cut_NN = NNClassifier(\"ENSEMBLES/minimal_conv2d_real_background_1.00VEM/ensemble_01\")\n",
    "trigger_examples_4 = Real_Background_Cut_NN.production_test(10000, apply_downsampling = False)"
   ]
  },
  {
   "cell_type": "code",
   "execution_count": null,
   "metadata": {},
   "outputs": [],
   "source": [
    "Real_Background_Cut_NN = NNClassifier(\"ENSEMBLES/minimal_conv2d_real_background_1.00VEM/ensemble_01\")\n",
    "trigger_examples_5 = Real_Background_Cut_NN.production_test(10000, apply_downsampling = True)"
   ]
  },
  {
   "cell_type": "code",
   "execution_count": null,
   "metadata": {},
   "outputs": [],
   "source": [
    "Real_Background_low_prior = NNClassifier(\"ENSEMBLES/minimal_conv2d_real_background_low_prior/ensemble_01\")\n",
    "trigger_examples_4 = Real_Background_low_prior.production_test(10000, apply_downsampling = False)"
   ]
  },
  {
   "cell_type": "code",
   "execution_count": null,
   "metadata": {},
   "outputs": [],
   "source": []
  }
 ],
 "metadata": {
  "kernelspec": {
   "display_name": "base",
   "language": "python",
   "name": "python3"
  },
  "language_info": {
   "codemirror_mode": {
    "name": "ipython",
    "version": 3
   },
   "file_extension": ".py",
   "mimetype": "text/x-python",
   "name": "python",
   "nbconvert_exporter": "python",
   "pygments_lexer": "ipython3",
   "version": "3.9.12"
  },
  "orig_nbformat": 4,
  "vscode": {
   "interpreter": {
    "hash": "e6bd95ed309fd09468b42d789b4c7d801e53518dbe20f43a540524fa8075e3ba"
   }
  }
 },
 "nbformat": 4,
 "nbformat_minor": 2
}
