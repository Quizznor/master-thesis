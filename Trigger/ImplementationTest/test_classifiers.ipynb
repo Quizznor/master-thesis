{
 "cells": [
  {
   "cell_type": "code",
   "execution_count": 1,
   "metadata": {},
   "outputs": [],
   "source": [
    "from Binaries import *"
   ]
  },
  {
   "cell_type": "code",
   "execution_count": 2,
   "metadata": {},
   "outputs": [
    {
     "name": "stdout",
     "output_type": "stream",
     "text": [
      "99.99% - 160.81ms/batch, ETA = 0h 0m            \n",
      "\n",
      "Production test results:\n",
      "\n",
      "random traces injected: 10000\n",
      "total T2 trigger found: 0\n",
      "*********************************\n",
      "TRIGGER FREQUENCY = 0.0000 Hz\n"
     ]
    }
   ],
   "source": [
    "HardwareTriggers = HardwareClassifier()\n",
    "HardwareTriggers.production_test(10000, apply_downsampling = True)\n",
    "\n",
    "# FABIOS CORRECTION STILL MISSING\n",
    "\n",
    "# Trigger rate seems unreasonably low. Why?\n",
    "# what is the 'veto' after a trigger was issued?\n",
    "\n",
    "# TRIGGER FREQUENCY @ 1e6 traces = 2.9415 Hz"
   ]
  },
  {
   "cell_type": "markdown",
   "metadata": {},
   "source": [
    "# Real background trained models, downsampled and non-downsampled"
   ]
  },
  {
   "cell_type": "code",
   "execution_count": 3,
   "metadata": {},
   "outputs": [
    {
     "name": "stdout",
     "output_type": "stream",
     "text": [
      "Model: \"sequential\"\n",
      "_________________________________________________________________\n",
      " Layer (type)                Output Shape              Param #   \n",
      "=================================================================\n",
      " conv2d (Conv2D)             (None, 1, 40, 1)          10        \n",
      "                                                                 \n",
      " flatten (Flatten)           (None, 40)                0         \n",
      "                                                                 \n",
      " dense (Dense)               (None, 2)                 82        \n",
      "                                                                 \n",
      "=================================================================\n",
      "Total params: 92\n",
      "Trainable params: 92\n",
      "Non-trainable params: 0\n",
      "_________________________________________________________________\n",
      "\n",
      "99.99% - 17.29ms/batch, ETA = 0h 0m               \n",
      "\n",
      "Production test results:\n",
      "\n",
      "random traces injected: 10000\n",
      "total T2 trigger found: 383\n",
      "*********************************\n",
      "TRIGGER FREQUENCY = 2253.1532 Hz\n"
     ]
    }
   ],
   "source": [
    "Real_Background_NN = NNClassifier(\"minimal_conv2d_real_background\")\n",
    "Real_Background_NN.production_test(10000, apply_downsampling = False)\n",
    "\n",
    "# TRIGGER FREQUENCY @ 1e6 traces = 2242.5640 Hz"
   ]
  },
  {
   "cell_type": "code",
   "execution_count": 6,
   "metadata": {},
   "outputs": [
    {
     "name": "stdout",
     "output_type": "stream",
     "text": [
      "99.99% - 128.78ms/batch, ETA = 0h 0m                \n",
      "\n",
      "Production test results:\n",
      "\n",
      "random traces injected: 10000\n",
      "total T2 trigger found: 2017\n",
      "*********************************\n",
      "TRIGGER FREQUENCY = 11865.8227 Hz\n"
     ]
    }
   ],
   "source": [
    "Real_Background_NN.production_test(10000, apply_downsampling = True)\n",
    "\n",
    "# TRIGGER FREQUENCY @ 1e6 traces = 10905.7323 Hz"
   ]
  },
  {
   "cell_type": "markdown",
   "metadata": {},
   "source": [
    "# 1 VEM cut, real background model, original and downsampled"
   ]
  },
  {
   "cell_type": "code",
   "execution_count": 2,
   "metadata": {},
   "outputs": [
    {
     "name": "stdout",
     "output_type": "stream",
     "text": [
      "Model: \"sequential_3\"\n",
      "_________________________________________________________________\n",
      " Layer (type)                Output Shape              Param #   \n",
      "=================================================================\n",
      " conv2d_3 (Conv2D)           (None, 1, 40, 1)          10        \n",
      "                                                                 \n",
      " flatten_3 (Flatten)         (None, 40)                0         \n",
      "                                                                 \n",
      " dense_3 (Dense)             (None, 2)                 82        \n",
      "                                                                 \n",
      "=================================================================\n",
      "Total params: 92\n",
      "Trainable params: 92\n",
      "Non-trainable params: 0\n",
      "_________________________________________________________________\n",
      "\n",
      "100.00% - 17.01ms/batch, ETA = 0h 0m          \n",
      "\n",
      "Production test results:\n",
      "\n",
      "random traces injected: 100000\n",
      "summed trace durations: 1.7s\n",
      "total T2 trigger found: 0\n",
      "*********************************\n",
      "TRIGGER FREQUENCY = 0.0000 Hz\n"
     ]
    }
   ],
   "source": [
    "Real_Background_Cut_NN = NNClassifier(\"ENSEMBLES/minimal_conv2d_real_background_1.00VEM/ensemble_4\")\n",
    "Real_Background_Cut_NN.production_test(100000)"
   ]
  },
  {
   "cell_type": "code",
   "execution_count": 2,
   "metadata": {},
   "outputs": [
    {
     "name": "stdout",
     "output_type": "stream",
     "text": [
      "Model: \"sequential_3\"\n",
      "_________________________________________________________________\n",
      " Layer (type)                Output Shape              Param #   \n",
      "=================================================================\n",
      " conv2d_3 (Conv2D)           (None, 1, 40, 1)          10        \n",
      "                                                                 \n",
      " flatten_3 (Flatten)         (None, 40)                0         \n",
      "                                                                 \n",
      " dense_3 (Dense)             (None, 2)                 82        \n",
      "                                                                 \n",
      "=================================================================\n",
      "Total params: 92\n",
      "Trainable params: 92\n",
      "Non-trainable params: 0\n",
      "_________________________________________________________________\n",
      "\n",
      "99.99% - 135.26ms/batch, ETA = 0h 0m             \n",
      "\n",
      "Production test results:\n",
      "\n",
      "random traces injected: 10000\n"
     ]
    },
    {
     "ename": "ValueError",
     "evalue": "Precision not allowed in integer format specifier",
     "output_type": "error",
     "traceback": [
      "\u001b[0;31m---------------------------------------------------------------------------\u001b[0m",
      "\u001b[0;31mValueError\u001b[0m                                Traceback (most recent call last)",
      "\u001b[1;32m/cr/users/filip/Trigger/ImplementationTest/test_classifiers.ipynb Cell 8\u001b[0m in \u001b[0;36m<cell line: 2>\u001b[0;34m()\u001b[0m\n\u001b[1;32m      <a href='vscode-notebook-cell://ssh-remote%2Bauger/cr/users/filip/Trigger/ImplementationTest/test_classifiers.ipynb#X10sdnNjb2RlLXJlbW90ZQ%3D%3D?line=0'>1</a>\u001b[0m Real_Background_Cut_NN \u001b[39m=\u001b[39m NNClassifier(\u001b[39m\"\u001b[39m\u001b[39mENSEMBLES/minimal_conv2d_real_background_1.00VEM/ensemble_4\u001b[39m\u001b[39m\"\u001b[39m)\n\u001b[0;32m----> <a href='vscode-notebook-cell://ssh-remote%2Bauger/cr/users/filip/Trigger/ImplementationTest/test_classifiers.ipynb#X10sdnNjb2RlLXJlbW90ZQ%3D%3D?line=1'>2</a>\u001b[0m trigger_examples \u001b[39m=\u001b[39m Real_Background_Cut_NN\u001b[39m.\u001b[39;49mproduction_test(\u001b[39m10000\u001b[39;49m, apply_downsampling \u001b[39m=\u001b[39;49m \u001b[39mTrue\u001b[39;49;00m)\n",
      "File \u001b[0;32m~/Binaries/Classifier.py:79\u001b[0m, in \u001b[0;36mClassifier.production_test\u001b[0;34m(self, n_traces, **kwargs)\u001b[0m\n\u001b[1;32m     77\u001b[0m \u001b[39mprint\u001b[39m(\u001b[39m\"\u001b[39m\u001b[39m\"\u001b[39m)\n\u001b[1;32m     78\u001b[0m \u001b[39mprint\u001b[39m(\u001b[39mf\u001b[39m\u001b[39m\"\u001b[39m\u001b[39mrandom traces injected: \u001b[39m\u001b[39m{\u001b[39;00mn_traces\u001b[39m}\u001b[39;00m\u001b[39m\"\u001b[39m)\n\u001b[0;32m---> 79\u001b[0m \u001b[39mprint\u001b[39m(\u001b[39mf\u001b[39m\u001b[39m\"\u001b[39m\u001b[39msummed traces duration: \u001b[39m\u001b[39m{\u001b[39;00mtotal_trace_duration\u001b[39m:\u001b[39;00m\u001b[39m.4\u001b[39m\u001b[39m}\u001b[39;00m\u001b[39ms\u001b[39m\u001b[39m\"\u001b[39m)\n\u001b[1;32m     80\u001b[0m \u001b[39mprint\u001b[39m(\u001b[39mf\u001b[39m\u001b[39m\"\u001b[39m\u001b[39mtotal T2 trigger found: \u001b[39m\u001b[39m{\u001b[39;00mn_total_triggered\u001b[39m}\u001b[39;00m\u001b[39m\"\u001b[39m)\n\u001b[1;32m     81\u001b[0m \u001b[39mprint\u001b[39m(\u001b[39mf\u001b[39m\u001b[39m\"\u001b[39m\u001b[39m*********************************\u001b[39m\u001b[39m\"\u001b[39m)\n",
      "\u001b[0;31mValueError\u001b[0m: Precision not allowed in integer format specifier"
     ]
    }
   ],
   "source": [
    "Real_Background_Cut_NN = NNClassifier(\"ENSEMBLES/minimal_conv2d_real_background_1.00VEM/ensemble_4\")\n",
    "trigger_examples = Real_Background_Cut_NN.production_test(10000, apply_downsampling = True)"
   ]
  },
  {
   "cell_type": "code",
   "execution_count": null,
   "metadata": {},
   "outputs": [],
   "source": []
  }
 ],
 "metadata": {
  "kernelspec": {
   "display_name": "Python 3.9.12 ('base')",
   "language": "python",
   "name": "python3"
  },
  "language_info": {
   "codemirror_mode": {
    "name": "ipython",
    "version": 3
   },
   "file_extension": ".py",
   "mimetype": "text/x-python",
   "name": "python",
   "nbconvert_exporter": "python",
   "pygments_lexer": "ipython3",
   "version": "3.9.12"
  },
  "orig_nbformat": 4,
  "vscode": {
   "interpreter": {
    "hash": "e6bd95ed309fd09468b42d789b4c7d801e53518dbe20f43a540524fa8075e3ba"
   }
  }
 },
 "nbformat": 4,
 "nbformat_minor": 2
}
