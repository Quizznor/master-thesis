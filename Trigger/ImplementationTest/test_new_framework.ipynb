{
 "cells": [
  {
   "cell_type": "code",
   "execution_count": null,
   "metadata": {},
   "outputs": [],
   "source": [
    "from Binaries import *\n",
    "\n",
    "TestEvents= EventGenerator([\"19_19.5\"], split = 1, seed = 0, force_inject = 0)\n",
    "Traces = TestEvents.__getitem__(0)"
   ]
  },
  {
   "cell_type": "code",
   "execution_count": null,
   "metadata": {},
   "outputs": [],
   "source": [
    "for trace in Traces:\n",
    "    trace.__plot__()"
   ]
  },
  {
   "cell_type": "code",
   "execution_count": 1,
   "metadata": {},
   "outputs": [
    {
     "name": "stdout",
     "output_type": "stream",
     "text": [
      "\n",
      "[INFO] -- LOADING NURIA: randoms0102.csv                    \n",
      "Step 665/13327 | 00:03:10 elapsed ||                    || 4% -- 286.064 ms/step, ETA: 01:00:22\n",
      "Step 1315/13327 | 00:07:18 elapsed ||-                   || 9% -- 333.291 ms/step, ETA: 01:06:43\n",
      "Step 1958/13327 | 00:11:23 elapsed ||--                  || 14% -- 349.046 ms/step, ETA: 01:06:08\n",
      "Step 2055/13327 | 00:12:13 elapsed ||---                 || 15% -- 356.708 ms/step, ETA: 01:07:01\r"
     ]
    },
    {
     "ename": "KeyboardInterrupt",
     "evalue": "",
     "output_type": "error",
     "traceback": [
      "\u001b[0;31m---------------------------------------------------------------------------\u001b[0m",
      "\u001b[0;31mKeyboardInterrupt\u001b[0m                         Traceback (most recent call last)",
      "\u001b[1;32m/cr/users/filip/Trigger/ImplementationTest/test_new_framework.ipynb Cell 3\u001b[0m in \u001b[0;36m<cell line: 5>\u001b[0;34m()\u001b[0m\n\u001b[1;32m      <a href='vscode-notebook-cell://ssh-remote%2Bcrcws02.iap.kit.edu/cr/users/filip/Trigger/ImplementationTest/test_new_framework.ipynb#W2sdnNjb2RlLXJlbW90ZQ%3D%3D?line=2'>3</a>\u001b[0m _, TestEvents \u001b[39m=\u001b[39m EventGenerator(\u001b[39m\"\u001b[39m\u001b[39mall\u001b[39m\u001b[39m\"\u001b[39m, real_background \u001b[39m=\u001b[39m \u001b[39mTrue\u001b[39;00m, apply_downsampling \u001b[39m=\u001b[39m \u001b[39mTrue\u001b[39;00m)\n\u001b[1;32m      <a href='vscode-notebook-cell://ssh-remote%2Bcrcws02.iap.kit.edu/cr/users/filip/Trigger/ImplementationTest/test_new_framework.ipynb#W2sdnNjb2RlLXJlbW90ZQ%3D%3D?line=3'>4</a>\u001b[0m TestClassifier \u001b[39m=\u001b[39m HardwareClassifier()\n\u001b[0;32m----> <a href='vscode-notebook-cell://ssh-remote%2Bcrcws02.iap.kit.edu/cr/users/filip/Trigger/ImplementationTest/test_new_framework.ipynb#W2sdnNjb2RlLXJlbW90ZQ%3D%3D?line=4'>5</a>\u001b[0m TestClassifier\u001b[39m.\u001b[39;49mmake_signal_dataset(TestEvents, \u001b[39m\"\u001b[39;49m\u001b[39mrandom_traces_downsampled_scaled\u001b[39;49m\u001b[39m\"\u001b[39;49m, save_traces \u001b[39m=\u001b[39;49m \u001b[39mTrue\u001b[39;49;00m)\n",
      "File \u001b[0;32m~/Binaries/Classifier.py:138\u001b[0m, in \u001b[0;36mClassifier.make_signal_dataset\u001b[0;34m(self, Dataset, save_dir, n_showers, save_traces)\u001b[0m\n\u001b[1;32m    132\u001b[0m \u001b[39m# open all files only once, increases performance\u001b[39;00m\n\u001b[1;32m    133\u001b[0m \u001b[39mwith\u001b[39;00m \u001b[39mopen\u001b[39m(save_file[\u001b[39m\"\u001b[39m\u001b[39mTP\u001b[39m\u001b[39m\"\u001b[39m], \u001b[39m\"\u001b[39m\u001b[39mw\u001b[39m\u001b[39m\"\u001b[39m) \u001b[39mas\u001b[39;00m TP, \\\n\u001b[1;32m    134\u001b[0m     \u001b[39mopen\u001b[39m(save_file[\u001b[39m\"\u001b[39m\u001b[39mTN\u001b[39m\u001b[39m\"\u001b[39m], \u001b[39m\"\u001b[39m\u001b[39mw\u001b[39m\u001b[39m\"\u001b[39m) \u001b[39mas\u001b[39;00m TN, \\\n\u001b[1;32m    135\u001b[0m     \u001b[39mopen\u001b[39m(save_file[\u001b[39m\"\u001b[39m\u001b[39mFP\u001b[39m\u001b[39m\"\u001b[39m], \u001b[39m\"\u001b[39m\u001b[39mw\u001b[39m\u001b[39m\"\u001b[39m) \u001b[39mas\u001b[39;00m FP, \\\n\u001b[1;32m    136\u001b[0m     \u001b[39mopen\u001b[39m(save_file[\u001b[39m\"\u001b[39m\u001b[39mFN\u001b[39m\u001b[39m\"\u001b[39m], \u001b[39m\"\u001b[39m\u001b[39mw\u001b[39m\u001b[39m\"\u001b[39m) \u001b[39mas\u001b[39;00m FN:\n\u001b[0;32m--> 138\u001b[0m     \u001b[39mfor\u001b[39;00m batch, traces \u001b[39min\u001b[39;00m \u001b[39menumerate\u001b[39m(Dataset):\n\u001b[1;32m    140\u001b[0m         progress_bar(batch, n_showers, start_time)\n\u001b[1;32m    142\u001b[0m         \u001b[39mfor\u001b[39;00m trace \u001b[39min\u001b[39;00m traces:\n",
      "File \u001b[0;32m~/Binaries/Generator.py:290\u001b[0m, in \u001b[0;36mGenerator.__iter__\u001b[0;34m(self)\u001b[0m\n\u001b[1;32m    286\u001b[0m \u001b[39mdef\u001b[39;00m \u001b[39m__iter__\u001b[39m(\u001b[39mself\u001b[39m) \u001b[39m-\u001b[39m\u001b[39m>\u001b[39m typing\u001b[39m.\u001b[39mGenerator[\u001b[39mtuple\u001b[39m[np\u001b[39m.\u001b[39mndarray], np\u001b[39m.\u001b[39mndarray, \u001b[39mStopIteration\u001b[39;00m] : \n\u001b[1;32m    288\u001b[0m     \u001b[39mwhile\u001b[39;00m \u001b[39mself\u001b[39m\u001b[39m.\u001b[39m__iteration_index \u001b[39m<\u001b[39m \u001b[39mself\u001b[39m\u001b[39m.\u001b[39m\u001b[39m__len__\u001b[39m():\n\u001b[0;32m--> 290\u001b[0m         \u001b[39myield\u001b[39;00m \u001b[39mself\u001b[39;49m\u001b[39m.\u001b[39;49m\u001b[39m__getitem__\u001b[39;49m(\u001b[39mself\u001b[39;49m\u001b[39m.\u001b[39;49m__iteration_index)\n\u001b[1;32m    291\u001b[0m         \u001b[39mself\u001b[39m\u001b[39m.\u001b[39m__iteration_index \u001b[39m+\u001b[39m\u001b[39m=\u001b[39m \u001b[39m1\u001b[39m\n\u001b[1;32m    293\u001b[0m     \u001b[39mreturn\u001b[39;00m \u001b[39mStopIteration\u001b[39;00m\n",
      "File \u001b[0;32m~/Binaries/Generator.py:213\u001b[0m, in \u001b[0;36mGenerator.__getitem__\u001b[0;34m(self, index)\u001b[0m\n\u001b[1;32m    210\u001b[0m \u001b[39mself\u001b[39m\u001b[39m.\u001b[39mtrace_options[\u001b[39m\"\u001b[39m\u001b[39mq_charge\u001b[39m\u001b[39m\"\u001b[39m] \u001b[39m=\u001b[39m q_charge\n\u001b[1;32m    211\u001b[0m \u001b[39mself\u001b[39m\u001b[39m.\u001b[39mtrace_options[\u001b[39m\"\u001b[39m\u001b[39mq_peak\u001b[39m\u001b[39m\"\u001b[39m] \u001b[39m=\u001b[39m q_peak\n\u001b[0;32m--> 213\u001b[0m VEMTrace \u001b[39m=\u001b[39m Trace(baseline, station, \u001b[39mself\u001b[39;49m\u001b[39m.\u001b[39;49mtrace_options)                                         \u001b[39m# create the trace\u001b[39;00m\n\u001b[1;32m    214\u001b[0m full_traces\u001b[39m.\u001b[39mappend(VEMTrace)\n\u001b[1;32m    216\u001b[0m \u001b[39mif\u001b[39;00m \u001b[39mnot\u001b[39;00m \u001b[39mself\u001b[39m\u001b[39m.\u001b[39mfor_training: \u001b[39mcontinue\u001b[39;00m\n",
      "File \u001b[0;32m~/Binaries/Signal.py:87\u001b[0m, in \u001b[0;36mTrace.__init__\u001b[0;34m(self, baseline_data, signal_data, trace_options)\u001b[0m\n\u001b[1;32m     85\u001b[0m \u001b[39m# build the VEM trace and integral\u001b[39;00m\n\u001b[1;32m     86\u001b[0m \u001b[39mself\u001b[39m\u001b[39m.\u001b[39mbuild_integral_trace()\n\u001b[0;32m---> 87\u001b[0m \u001b[39mself\u001b[39;49m\u001b[39m.\u001b[39;49mconvert_to_VEM()\n",
      "File \u001b[0;32m~/Binaries/Signal.py:147\u001b[0m, in \u001b[0;36mTrace.convert_to_VEM\u001b[0;34m(self)\u001b[0m\n\u001b[1;32m    144\u001b[0m     \u001b[39mself\u001b[39m\u001b[39m.\u001b[39mpmt_3 \u001b[39m+\u001b[39m\u001b[39m=\u001b[39m component[\u001b[39m2\u001b[39m]\n\u001b[1;32m    146\u001b[0m \u001b[39mif\u001b[39;00m \u001b[39mself\u001b[39m\u001b[39m.\u001b[39mdownsampled:\n\u001b[0;32m--> 147\u001b[0m     \u001b[39mself\u001b[39m\u001b[39m.\u001b[39mpmt_1 \u001b[39m=\u001b[39m np\u001b[39m.\u001b[39mfloor(\u001b[39mself\u001b[39;49m\u001b[39m.\u001b[39;49mapply_downsampling(\u001b[39mself\u001b[39;49m\u001b[39m.\u001b[39;49mpmt_1)) \u001b[39m/\u001b[39m simulation_q_peak[\u001b[39m0\u001b[39m]\n\u001b[1;32m    148\u001b[0m     \u001b[39mself\u001b[39m\u001b[39m.\u001b[39mpmt_2 \u001b[39m=\u001b[39m np\u001b[39m.\u001b[39mfloor(\u001b[39mself\u001b[39m\u001b[39m.\u001b[39mapply_downsampling(\u001b[39mself\u001b[39m\u001b[39m.\u001b[39mpmt_2)) \u001b[39m/\u001b[39m simulation_q_peak[\u001b[39m1\u001b[39m]\n\u001b[1;32m    149\u001b[0m     \u001b[39mself\u001b[39m\u001b[39m.\u001b[39mpmt_3 \u001b[39m=\u001b[39m np\u001b[39m.\u001b[39mfloor(\u001b[39mself\u001b[39m\u001b[39m.\u001b[39mapply_downsampling(\u001b[39mself\u001b[39m\u001b[39m.\u001b[39mpmt_3)) \u001b[39m/\u001b[39m simulation_q_peak[\u001b[39m2\u001b[39m]\n",
      "File \u001b[0;32m~/Binaries/Signal.py:190\u001b[0m, in \u001b[0;36mTrace.apply_downsampling\u001b[0;34m(pmt)\u001b[0m\n\u001b[1;32m    188\u001b[0m \u001b[39m# perform downsampling\u001b[39;00m\n\u001b[1;32m    189\u001b[0m \u001b[39mfor\u001b[39;00m j, coeff \u001b[39min\u001b[39;00m \u001b[39menumerate\u001b[39m(kFirCoefficients):\n\u001b[0;32m--> 190\u001b[0m     sampled_trace \u001b[39m+\u001b[39m\u001b[39m=\u001b[39m [temp[k \u001b[39m+\u001b[39m j] \u001b[39m*\u001b[39m coeff \u001b[39mfor\u001b[39;00m k \u001b[39min\u001b[39;00m \u001b[39mrange\u001b[39;49m(\u001b[39m0\u001b[39;49m, n_bins_uub, \u001b[39m3\u001b[39;49m)]\n\u001b[1;32m    192\u001b[0m \u001b[39m# clipping and bitshifting\u001b[39;00m\n\u001b[1;32m    193\u001b[0m sampled_trace \u001b[39m=\u001b[39m [\u001b[39mint\u001b[39m(adc) \u001b[39m>>\u001b[39m kFirNormalizationBitShift \u001b[39mfor\u001b[39;00m adc \u001b[39min\u001b[39;00m sampled_trace]\n",
      "\u001b[0;31mKeyboardInterrupt\u001b[0m: "
     ]
    }
   ],
   "source": [
    "from Binaries import *\n",
    "\n",
    "_, TestEvents = EventGenerator(\"all\", real_background = True, apply_downsampling = True)\n",
    "TestClassifier = HardwareClassifier()\n",
    "TestClassifier.make_signal_dataset(TestEvents, \"random_traces_downsampled_scaled\", save_traces = True)"
   ]
  },
  {
   "cell_type": "code",
   "execution_count": null,
   "metadata": {},
   "outputs": [],
   "source": [
    "TestClassifier.spd_energy_efficiency(\"random_traces_downsampled_scaled\")"
   ]
  },
  {
   "cell_type": "code",
   "execution_count": null,
   "metadata": {},
   "outputs": [],
   "source": [
    "for traces, labels in EventGenerator([\"16_16.5\"])[1]:\n",
    "\n",
    "    for trace in traces:\n",
    "        for pmt in trace:\n",
    "            print(\" \".join([str(np.round(adc, 4)) for adc in pmt]))\n",
    "            raise StopIteration"
   ]
  },
  {
   "cell_type": "code",
   "execution_count": null,
   "metadata": {},
   "outputs": [],
   "source": []
  }
 ],
 "metadata": {
  "kernelspec": {
   "display_name": "base",
   "language": "python",
   "name": "python3"
  },
  "language_info": {
   "codemirror_mode": {
    "name": "ipython",
    "version": 3
   },
   "file_extension": ".py",
   "mimetype": "text/x-python",
   "name": "python",
   "nbconvert_exporter": "python",
   "pygments_lexer": "ipython3",
   "version": "3.9.12"
  },
  "orig_nbformat": 4,
  "vscode": {
   "interpreter": {
    "hash": "e6bd95ed309fd09468b42d789b4c7d801e53518dbe20f43a540524fa8075e3ba"
   }
  }
 },
 "nbformat": 4,
 "nbformat_minor": 2
}
