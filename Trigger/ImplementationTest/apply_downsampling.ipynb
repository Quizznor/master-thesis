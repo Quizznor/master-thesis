{
 "cells": [
  {
   "cell_type": "code",
   "execution_count": 1,
   "metadata": {},
   "outputs": [
    {
     "name": "stderr",
     "output_type": "stream",
     "text": [
      "2022-08-30 12:09:45.568590: W tensorflow/stream_executor/platform/default/dso_loader.cc:64] Could not load dynamic library 'libcudart.so.11.0'; dlerror: libcudart.so.11.0: cannot open shared object file: No such file or directory\n",
      "2022-08-30 12:09:45.568610: I tensorflow/stream_executor/cuda/cudart_stub.cc:29] Ignore above cudart dlerror if you do not have a GPU set up on your machine.\n"
     ]
    },
    {
     "name": "stdout",
     "output_type": "stream",
     "text": [
      "\n",
      "\n"
     ]
    }
   ],
   "source": [
    "from TriggerStudyBinaries_v7 import *\n",
    "\n",
    "EventsUUB = EventGenerator([\"19_19.5\"], split = 1, apply_downsampling = False, seed = 42)\n",
    "\n",
    "TraceUUB = EventsUUB.__getitem__(42, full_trace = True)[0][0]\n",
    "\n",
    "np.random.seed(42)\n",
    "random.seed(42)\n",
    "\n",
    "EventsUB = EventGenerator([\"19_19.5\"], split = 1, apply_downsampling = True, seed = 42)\n",
    "TraceUB = EventsUB.__getitem__(42, full_trace = True)[0][0]"
   ]
  },
  {
   "cell_type": "code",
   "execution_count": 2,
   "metadata": {},
   "outputs": [
    {
     "name": "stdout",
     "output_type": "stream",
     "text": [
      "(3, 120)\n",
      "11 368.60793369605955\n"
     ]
    }
   ],
   "source": [
    "window, n_sig, integral = TraceUUB.get_trace_window((1000, 1120))\n",
    "\n",
    "print(n_sig, integral)"
   ]
  },
  {
   "cell_type": "code",
   "execution_count": null,
   "metadata": {},
   "outputs": [],
   "source": [
    "# plt.rcParams['figure.figsize'] = [20, 10]\n",
    "\n",
    "# plt.ylim(-0.5, 1)\n",
    "# TraceUUB.__plot__()\n",
    "\n",
    "# plt.ylim(-0.5, 1)\n",
    "# TraceUB.__plot__()"
   ]
  },
  {
   "cell_type": "code",
   "execution_count": null,
   "metadata": {},
   "outputs": [],
   "source": []
  }
 ],
 "metadata": {
  "kernelspec": {
   "display_name": "Python 3.9.12 ('base')",
   "language": "python",
   "name": "python3"
  },
  "language_info": {
   "codemirror_mode": {
    "name": "ipython",
    "version": 3
   },
   "file_extension": ".py",
   "mimetype": "text/x-python",
   "name": "python",
   "nbconvert_exporter": "python",
   "pygments_lexer": "ipython3",
   "version": "3.9.12"
  },
  "orig_nbformat": 4,
  "vscode": {
   "interpreter": {
    "hash": "e6bd95ed309fd09468b42d789b4c7d801e53518dbe20f43a540524fa8075e3ba"
   }
  }
 },
 "nbformat": 4,
 "nbformat_minor": 2
}
