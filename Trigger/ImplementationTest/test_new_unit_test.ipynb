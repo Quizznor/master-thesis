{
 "cells": [
  {
   "cell_type": "code",
   "execution_count": 1,
   "metadata": {},
   "outputs": [],
   "source": [
    "from Binaries import *"
   ]
  },
  {
   "cell_type": "code",
   "execution_count": 2,
   "metadata": {},
   "outputs": [],
   "source": [
    "Test = EventGenerator([\"19_19.5\"], split = 1, apply_downsampling = False, prior = 0.99)"
   ]
  },
  {
   "cell_type": "code",
   "execution_count": 3,
   "metadata": {},
   "outputs": [
    {
     "name": "stdout",
     "output_type": "stream",
     "text": [
      "14.61% - 62.85us/trace, ETA = 54s           \r"
     ]
    },
    {
     "ename": "KeyboardInterrupt",
     "evalue": "",
     "output_type": "error",
     "traceback": [
      "\u001b[0;31m---------------------------------------------------------------------------\u001b[0m",
      "\u001b[0;31mKeyboardInterrupt\u001b[0m                         Traceback (most recent call last)",
      "\u001b[1;32m/cr/users/filip/Trigger/ImplementationTest/test_new_unit_test.ipynb Cell 3\u001b[0m in \u001b[0;36m<cell line: 1>\u001b[0;34m()\u001b[0m\n\u001b[0;32m----> <a href='vscode-notebook-cell://ssh-remote%2Bauger/cr/users/filip/Trigger/ImplementationTest/test_new_unit_test.ipynb#W2sdnNjb2RlLXJlbW90ZQ%3D%3D?line=0'>1</a>\u001b[0m Test\u001b[39m.\u001b[39;49munit_test(\u001b[39m1e6\u001b[39;49m)\n",
      "File \u001b[0;32m~/Binaries/Generator.py:317\u001b[0m, in \u001b[0;36mGenerator.unit_test\u001b[0;34m(self, n_traces)\u001b[0m\n\u001b[1;32m    314\u001b[0m \u001b[39m# For loop iterates over the whole dataset, return type/format looks like:\u001b[39;00m\n\u001b[1;32m    315\u001b[0m \u001b[39m# traces, labels, [ {Integral, SPDistance, Energy, Zenith} , ...]\u001b[39;00m\n\u001b[1;32m    316\u001b[0m \u001b[39mtry\u001b[39;00m:\n\u001b[0;32m--> 317\u001b[0m     \u001b[39mfor\u001b[39;00m batch, (traces, labels, metadata) \u001b[39min\u001b[39;00m \u001b[39menumerate\u001b[39m(\u001b[39mself\u001b[39m):\n\u001b[1;32m    319\u001b[0m         \u001b[39mprint\u001b[39m(\u001b[39mf\u001b[39m\u001b[39m\"\u001b[39m\u001b[39m{\u001b[39;00m\u001b[39m100\u001b[39m \u001b[39m*\u001b[39m (n_traces_looked_at\u001b[39m/\u001b[39mn_traces)\u001b[39m:\u001b[39;00m\u001b[39m.2f\u001b[39m\u001b[39m}\u001b[39;00m\u001b[39m% - \u001b[39m\u001b[39m{\u001b[39;00mmean_per_step_us\u001b[39m:\u001b[39;00m\u001b[39m.2f\u001b[39m\u001b[39m}\u001b[39;00m\u001b[39mus/trace, ETA = \u001b[39m\u001b[39m{\u001b[39;00m(n_traces \u001b[39m-\u001b[39m n_traces_looked_at) \u001b[39m*\u001b[39m mean_per_step_us \u001b[39m*\u001b[39m \u001b[39m1e-6\u001b[39m\u001b[39m:\u001b[39;00m\u001b[39m.0f\u001b[39m\u001b[39m}\u001b[39;00m\u001b[39ms\u001b[39m\u001b[39m\"\u001b[39m, end \u001b[39m=\u001b[39m \u001b[39m10\u001b[39m \u001b[39m*\u001b[39m \u001b[39m\"\u001b[39m\u001b[39m \u001b[39m\u001b[39m\"\u001b[39m \u001b[39m+\u001b[39m \u001b[39m\"\u001b[39m\u001b[39m\\r\u001b[39;00m\u001b[39m\"\u001b[39m)\n\u001b[1;32m    321\u001b[0m         Energy, Zenith \u001b[39m=\u001b[39m metadata[\u001b[39m0\u001b[39m, \u001b[39m2\u001b[39m:]\n",
      "File \u001b[0;32m~/Binaries/Generator.py:260\u001b[0m, in \u001b[0;36mGenerator.__iter__\u001b[0;34m(self, full_trace)\u001b[0m\n\u001b[1;32m    256\u001b[0m \u001b[39mdef\u001b[39;00m \u001b[39m__iter__\u001b[39m(\u001b[39mself\u001b[39m, full_trace : \u001b[39mbool\u001b[39m \u001b[39m=\u001b[39m \u001b[39mFalse\u001b[39;00m) \u001b[39m-\u001b[39m\u001b[39m>\u001b[39m typing\u001b[39m.\u001b[39mGenerator[\u001b[39mtuple\u001b[39m, \u001b[39mNone\u001b[39;00m, \u001b[39mStopIteration\u001b[39;00m] : \n\u001b[1;32m    258\u001b[0m     \u001b[39mwhile\u001b[39;00m \u001b[39mself\u001b[39m\u001b[39m.\u001b[39m__iteration_index \u001b[39m<\u001b[39m \u001b[39mself\u001b[39m\u001b[39m.\u001b[39m\u001b[39m__len__\u001b[39m():\n\u001b[0;32m--> 260\u001b[0m         \u001b[39myield\u001b[39;00m \u001b[39mself\u001b[39;49m\u001b[39m.\u001b[39;49m\u001b[39m__getitem__\u001b[39;49m(\u001b[39mself\u001b[39;49m\u001b[39m.\u001b[39;49m__iteration_index, full_trace, skip_metadata \u001b[39m=\u001b[39;49m \u001b[39mFalse\u001b[39;49;00m)\n\u001b[1;32m    261\u001b[0m         \u001b[39mself\u001b[39m\u001b[39m.\u001b[39m__iteration_index \u001b[39m+\u001b[39m\u001b[39m=\u001b[39m \u001b[39m1\u001b[39m\n\u001b[1;32m    263\u001b[0m     \u001b[39mreturn\u001b[39;00m \u001b[39mStopIteration\u001b[39;00m\n",
      "File \u001b[0;32m~/Binaries/Generator.py:194\u001b[0m, in \u001b[0;36mGenerator.__getitem__\u001b[0;34m(self, index, full_trace, skip_metadata)\u001b[0m\n\u001b[1;32m    192\u001b[0m \u001b[39melse\u001b[39;00m:\n\u001b[1;32m    193\u001b[0m     \u001b[39mfor\u001b[39;00m index \u001b[39min\u001b[39;00m \u001b[39mself\u001b[39m\u001b[39m.\u001b[39m__sliding_window__(VEMTrace):\n\u001b[0;32m--> 194\u001b[0m         pmt_data, n_sig, metadata \u001b[39m=\u001b[39m VEMTrace\u001b[39m.\u001b[39;49mget_trace_window((index, index \u001b[39m+\u001b[39;49m \u001b[39mself\u001b[39;49m\u001b[39m.\u001b[39;49mwindow_length), skip_metadata)\n\u001b[1;32m    195\u001b[0m         metadata_per_batch\u001b[39m.\u001b[39mappend(metadata)\n\u001b[1;32m    197\u001b[0m         \u001b[39m# mislabel low energy \u001b[39;00m\n",
      "File \u001b[0;32m~/Binaries/Signal.py:124\u001b[0m, in \u001b[0;36mTrace.get_trace_window\u001b[0;34m(self, window, skip_metadata)\u001b[0m\n\u001b[1;32m    122\u001b[0m     metadata \u001b[39m=\u001b[39m np\u001b[39m.\u001b[39marray([integral, \u001b[39mNone\u001b[39;00m       ,\u001b[39mNone\u001b[39;00m            , \u001b[39mNone\u001b[39;00m       ])\n\u001b[1;32m    123\u001b[0m \u001b[39melse\u001b[39;00m:\n\u001b[0;32m--> 124\u001b[0m     metadata \u001b[39m=\u001b[39m np\u001b[39m.\u001b[39;49marray([integral, \u001b[39mself\u001b[39;49m\u001b[39m.\u001b[39;49mSPDistance, \u001b[39mself\u001b[39;49m\u001b[39m.\u001b[39;49mEnergy, \u001b[39mself\u001b[39;49m\u001b[39m.\u001b[39;49mZenith])\n\u001b[1;32m    126\u001b[0m \u001b[39mreturn\u001b[39;00m np\u001b[39m.\u001b[39marray([pmt_1, pmt_2, pmt_3]), n_sig, metadata\n",
      "\u001b[0;31mKeyboardInterrupt\u001b[0m: "
     ]
    }
   ],
   "source": [
    "Test.unit_test(1e6)"
   ]
  },
  {
   "cell_type": "code",
   "execution_count": null,
   "metadata": {},
   "outputs": [],
   "source": []
  }
 ],
 "metadata": {
  "kernelspec": {
   "display_name": "base",
   "language": "python",
   "name": "python3"
  },
  "language_info": {
   "codemirror_mode": {
    "name": "ipython",
    "version": 3
   },
   "file_extension": ".py",
   "mimetype": "text/x-python",
   "name": "python",
   "nbconvert_exporter": "python",
   "pygments_lexer": "ipython3",
   "version": "3.9.12 (main, Jun  1 2022, 11:38:51) \n[GCC 7.5.0]"
  },
  "orig_nbformat": 4,
  "vscode": {
   "interpreter": {
    "hash": "e6bd95ed309fd09468b42d789b4c7d801e53518dbe20f43a540524fa8075e3ba"
   }
  }
 },
 "nbformat": 4,
 "nbformat_minor": 2
}
