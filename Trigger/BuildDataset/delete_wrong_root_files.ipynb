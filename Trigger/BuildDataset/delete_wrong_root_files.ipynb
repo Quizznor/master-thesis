{
 "cells": [
  {
   "cell_type": "code",
   "execution_count": 2,
   "metadata": {},
   "outputs": [
    {
     "name": "stdout",
     "output_type": "stream",
     "text": [
      "['DAT324997.root', 'DAT673304.root', 'DAT788232.root', 'DAT361356.root', 'DAT608400.root', 'DAT976920.root', 'DAT118973.root', 'DAT974689.root', 'DAT920460.root', 'DAT945132.root', 'DAT708258.root', 'DAT982678.root', 'DAT393777.root', 'DAT343166.root', 'DAT568562.root', 'DAT467428.root', 'DAT440294.root', 'DAT548312.root', 'DAT520539.root', 'DAT360574.root', 'DAT433863.root', 'DAT717040.root', 'DAT921068.root', 'DAT163939.root']\n"
     ]
    }
   ],
   "source": [
    "import os, sys\n",
    "\n",
    "src = \"/cr/tempdata01/filip/QGSJET-II/protons/19_19.5/root_files\"\n",
    "all_files = os.listdir(src)\n",
    "wrong_files = [file for file in all_files if \"_\" not in file]\n",
    "\n",
    "print(wrong_files)"
   ]
  },
  {
   "cell_type": "code",
   "execution_count": 4,
   "metadata": {},
   "outputs": [],
   "source": [
    "for file in wrong_files:\n",
    "    os.system(f\"rm -rf {src}/{file}\")"
   ]
  },
  {
   "cell_type": "code",
   "execution_count": null,
   "metadata": {},
   "outputs": [],
   "source": []
  }
 ],
 "metadata": {
  "kernelspec": {
   "display_name": "Python 3",
   "language": "python",
   "name": "python3"
  },
  "language_info": {
   "codemirror_mode": {
    "name": "ipython",
    "version": 3
   },
   "file_extension": ".py",
   "mimetype": "text/x-python",
   "name": "python",
   "nbconvert_exporter": "python",
   "pygments_lexer": "ipython3",
   "version": "3.10.6"
  },
  "orig_nbformat": 4,
  "vscode": {
   "interpreter": {
    "hash": "916dbcbb3f70747c44a77c7bcd40155683ae19c65e1c03b4aa3499c5328201f1"
   }
  }
 },
 "nbformat": 4,
 "nbformat_minor": 2
}
