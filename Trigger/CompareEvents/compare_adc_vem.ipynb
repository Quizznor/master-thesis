{
 "cells": [
  {
   "cell_type": "code",
   "execution_count": null,
   "metadata": {},
   "outputs": [],
   "source": [
    "from Binaries import *"
   ]
  },
  {
   "cell_type": "code",
   "execution_count": null,
   "metadata": {},
   "outputs": [],
   "source": [
    "q_peak = np.array([GLOBAL.q_peak for _ in range(3)])\n",
    "q_charge = np.array([GLOBAL.q_charge for _ in range(3)])\n",
    "\n",
    "EventsADC = EventGenerator([\"19_19.5\"], real_background = False, sigma = 0, split = 1, apply_downsampling = False, floor_trace = False)\n",
    "EventsADC.files = [\"/cr/tempdata01/filip/QGSJET-II/COMPARE/ADC/\" + file for file in os.listdir(\"/cr/tempdata01/filip/QGSJET-II/COMPARE/ADC\")]\n",
    "\n",
    "q_peak = np.array([1, 1, 1])\n",
    "q_charge = np.array([GLOBAL.q_charge / GLOBAL.q_peak for _ in range(3)])\n",
    "\n",
    "EventsVEM = EventGenerator([\"19_19.5\"], real_background = False, sigma = 0, split = 1, q_peak = q_peak, q_charge = q_charge, apply_downsampling = False, floor_trace = False)\n",
    "EventsVEM.files = [\"/cr/tempdata01/filip/QGSJET-II/COMPARE/VEM/\" + file for file in os.listdir(\"/cr/tempdata01/filip/QGSJET-II/COMPARE/VEM\")]"
   ]
  },
  {
   "cell_type": "code",
   "execution_count": null,
   "metadata": {},
   "outputs": [],
   "source": [
    "adc_dir = \"/cr/tempdata01/filip/QGSJET-II/COMPARE/ADC\"\n",
    "vem_dir = \"/cr/tempdata01/filip/QGSJET-II/COMPARE/VEM\"\n",
    "\n",
    "print([file for file in os.listdir(adc_dir) if file not in os.listdir(vem_dir)])"
   ]
  },
  {
   "cell_type": "code",
   "execution_count": null,
   "metadata": {},
   "outputs": [],
   "source": [
    "start_time = perf_counter_ns()\n",
    "image = np.zeros((1001, 2048))\n",
    "\n",
    "for i in range(EventsVEM.__len__()):\n",
    "\n",
    "    progress_bar(i, EventsVEM.__len__(), start_time)\n",
    "\n",
    "    tracesVEM = EventsVEM.__getitem__(i)\n",
    "\n",
    "    try:\n",
    "        j = EventsADC.files.index(\"/cr/tempdata01/filip/QGSJET-II/COMPARE/ADC/\" + EventsVEM.files[i].split('/')[-1])\n",
    "    except ValueError: print(\"Cache miss\", EventsVEM.files[i].split('/')[-1])\n",
    "\n",
    "    tracesADC = EventsADC.__getitem__(j)\n",
    "\n",
    "    for traceVEM, traceADC in zip(tracesVEM, tracesADC):\n",
    "\n",
    "        diff = np.clip((traceVEM.Signal - traceADC.Signal / GLOBAL.q_peak) / traceVEM.Signal, -1, 1)\n",
    "\n",
    "        for pmt in diff:\n",
    "            for i, bin in enumerate(pmt):\n",
    "                if np.isnan(bin): continue\n",
    "                image[int(bin * 500) + 500][i] += 1\n",
    "\n",
    "\n",
    "    if i == 10: raise StopIteration"
   ]
  },
  {
   "cell_type": "code",
   "execution_count": null,
   "metadata": {},
   "outputs": [],
   "source": [
    "plt.imshow(image, origin = \"lower\")\n",
    "_, _ = plt.yticks(np.arange(0, 1001, 100), [f\"{b:.1f}\" for b in np.arange(0, 1001, 100)/500 - 1])\n",
    "plt.ylabel(r\"PMT$_\\mathrm{VEM}$ - $\\frac{\\mathrm{PMT}_\\mathrm{ADC}}{q_\\mathrm{Peak}}$ / VEM\")"
   ]
  },
  {
   "cell_type": "code",
   "execution_count": null,
   "metadata": {},
   "outputs": [],
   "source": [
    "print(image[0][:])"
   ]
  },
  {
   "cell_type": "code",
   "execution_count": null,
   "metadata": {},
   "outputs": [],
   "source": [
    "traceVEM.__plot__()\n",
    "traceADC.__plot__()"
   ]
  },
  {
   "cell_type": "code",
   "execution_count": null,
   "metadata": {},
   "outputs": [],
   "source": [
    "print(diff)"
   ]
  },
  {
   "cell_type": "code",
   "execution_count": null,
   "metadata": {},
   "outputs": [],
   "source": []
  }
 ],
 "metadata": {
  "kernelspec": {
   "display_name": "base",
   "language": "python",
   "name": "python3"
  },
  "language_info": {
   "codemirror_mode": {
    "name": "ipython",
    "version": 3
   },
   "file_extension": ".py",
   "mimetype": "text/x-python",
   "name": "python",
   "nbconvert_exporter": "python",
   "pygments_lexer": "ipython3",
   "version": "3.9.12"
  },
  "orig_nbformat": 4
 },
 "nbformat": 4,
 "nbformat_minor": 2
}
