{
 "cells": [
  {
   "cell_type": "code",
   "execution_count": 3,
   "metadata": {},
   "outputs": [
    {
     "name": "stdout",
     "output_type": "stream",
     "text": [
      "[INFO] -- LOADING NURIA: randoms0041.csv                                                            \n"
     ]
    }
   ],
   "source": [
    "from Binaries import *\n",
    "\n",
    "Trigger = HardwareClassifier()\n",
    "\n",
    "for e in [\"16.5_17\", \"17_17.5\"]:\n",
    "    Events = EventGenerator(f\"/cr/tempdata01/filip/QGSJET-II/LOW_SPD/{e}\", split = 1, apply_downsampling = True)\n",
    "    Trigger.make_signal_dataset(Events, f\"low_spd_{e}\")\n",
    "\n",
    "# Trigger.combine_dataset(\"low_spd\", \"low_spd_18.5_19\", \"low_spd_17_17.5\", \"low_spd_16.5_17\")"
   ]
  },
  {
   "cell_type": "code",
   "execution_count": null,
   "metadata": {},
   "outputs": [],
   "source": []
  }
 ],
 "metadata": {
  "kernelspec": {
   "display_name": "base",
   "language": "python",
   "name": "python3"
  },
  "language_info": {
   "codemirror_mode": {
    "name": "ipython",
    "version": 3
   },
   "file_extension": ".py",
   "mimetype": "text/x-python",
   "name": "python",
   "nbconvert_exporter": "python",
   "pygments_lexer": "ipython3",
   "version": "3.9.12"
  },
  "orig_nbformat": 4
 },
 "nbformat": 4,
 "nbformat_minor": 2
}
