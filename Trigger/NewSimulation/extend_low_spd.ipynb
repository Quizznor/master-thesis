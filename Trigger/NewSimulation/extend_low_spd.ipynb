{
 "cells": [
  {
   "cell_type": "code",
   "execution_count": null,
   "metadata": {},
   "outputs": [],
   "source": [
    "from Binaries import *\n",
    "\n",
    "e = \"18.5_19\"\n",
    "\n",
    "Events = EventGenerator(f\"/cr/tempdata01/filip/QGSJET-II/LOW_SPD/{e}\")"
   ]
  }
 ],
 "metadata": {
  "language_info": {
   "name": "python"
  },
  "orig_nbformat": 4
 },
 "nbformat": 4,
 "nbformat_minor": 2
}
