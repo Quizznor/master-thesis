{
 "cells": [
  {
   "cell_type": "code",
   "execution_count": null,
   "metadata": {},
   "outputs": [],
   "source": [
    "from Binaries import *\n",
    "\n",
    "Assifier = NNClassifier(\"120_OneLayer_HighEnergy_1Muon\")\n",
    "Assifier.spd_energy_efficiency(\"all_energies\")\n",
    "\n",
    "Assifier.do_t3_simulation(\"all_energies\")"
   ]
  },
  {
   "cell_type": "code",
   "execution_count": null,
   "metadata": {},
   "outputs": [],
   "source": [
    "Assifier = NNClassifier(\"120_OneLayerLarge_HighEnergy_1Muon\")\n",
    "Assifier.spd_energy_efficiency(\"all_energies\")\n",
    "\n",
    "Assifier.do_t3_simulation(\"all_energies\")"
   ]
  },
  {
   "cell_type": "code",
   "execution_count": 1,
   "metadata": {},
   "outputs": [
    {
     "name": "stdout",
     "output_type": "stream",
     "text": [
      "Adding energies:\n",
      "\t/cr/tempdata01/filip/QGSJET-II/protons/16_16.5/\n",
      "\t/cr/tempdata01/filip/QGSJET-II/protons/16.5_17/\n",
      "\t/cr/tempdata01/filip/QGSJET-II/protons/17_17.5/\n",
      "\t/cr/tempdata01/filip/QGSJET-II/protons/17.5_18/\n",
      "\t/cr/tempdata01/filip/QGSJET-II/protons/18_18.5/\n",
      "\t/cr/tempdata01/filip/QGSJET-II/protons/18.5_19/\n",
      "\n",
      "[INFO] -- LOADING NURIA: randoms0094.csv                    \n"
     ]
    }
   ],
   "source": [
    "from Binaries import *\n",
    "\n",
    "# Assifier = NNClassifier(\"120_OneLayerLarge_HighEnergy_1Muon\", \"large_conv2d\")"
   ]
  },
  {
   "cell_type": "code",
   "execution_count": null,
   "metadata": {},
   "outputs": [],
   "source": []
  }
 ],
 "metadata": {
  "kernelspec": {
   "display_name": "base",
   "language": "python",
   "name": "python3"
  },
  "language_info": {
   "codemirror_mode": {
    "name": "ipython",
    "version": 3
   },
   "file_extension": ".py",
   "mimetype": "text/x-python",
   "name": "python",
   "nbconvert_exporter": "python",
   "pygments_lexer": "ipython3",
   "version": "3.9.12"
  },
  "orig_nbformat": 4
 },
 "nbformat": 4,
 "nbformat_minor": 2
}
