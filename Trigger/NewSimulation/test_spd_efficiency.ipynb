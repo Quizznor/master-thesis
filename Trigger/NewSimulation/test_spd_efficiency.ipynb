{
 "cells": [
  {
   "cell_type": "code",
   "execution_count": 1,
   "metadata": {},
   "outputs": [],
   "source": [
    "from Binaries import *"
   ]
  },
  {
   "cell_type": "code",
   "execution_count": 2,
   "metadata": {},
   "outputs": [],
   "source": [
    "Hardware = HardwareClassifier()"
   ]
  },
  {
   "cell_type": "code",
   "execution_count": 4,
   "metadata": {},
   "outputs": [
    {
     "name": "stdout",
     "output_type": "stream",
     "text": [
      "\n",
      "DATASET                                                                TP      FP      TN      FN     sum\n",
      "HardwareClassifier validation_data                                     350736  571     562338  172183 1085828 -> Acc = 84.09%, TPR = 99.8375%\n"
     ]
    },
    {
     "ename": "ValueError",
     "evalue": "min() arg is an empty sequence",
     "output_type": "error",
     "traceback": [
      "\u001b[0;31m---------------------------------------------------------------------------\u001b[0m",
      "\u001b[0;31mValueError\u001b[0m                                Traceback (most recent call last)",
      "\u001b[1;32m/cr/users/filip/Trigger/NewSimulation/test_spd_efficiency.ipynb Cell 3\u001b[0m in \u001b[0;36m<cell line: 1>\u001b[0;34m()\u001b[0m\n\u001b[0;32m----> <a href='vscode-notebook-cell://ssh-remote%2Bcrcws02.iap.kit.edu/cr/users/filip/Trigger/NewSimulation/test_spd_efficiency.ipynb#W2sdnNjb2RlLXJlbW90ZQ%3D%3D?line=0'>1</a>\u001b[0m Hardware\u001b[39m.\u001b[39;49mspd_energy_efficiency(\u001b[39m\"\u001b[39;49m\u001b[39mvalidation_data\u001b[39;49m\u001b[39m\"\u001b[39;49m)\n",
      "File \u001b[0;32m~/Binaries/Classifier.py:280\u001b[0m, in \u001b[0;36mClassifier.spd_energy_efficiency\u001b[0;34m(self, dataset, **kwargs)\u001b[0m\n\u001b[1;32m    277\u001b[0m o \u001b[39m=\u001b[39m np\u001b[39m.\u001b[39mwhere(np\u001b[39m.\u001b[39mlogical_and( FN_E \u001b[39m>\u001b[39m\u001b[39m=\u001b[39m \u001b[39m10\u001b[39m \u001b[39m*\u001b[39m\u001b[39m*\u001b[39m low, FN_E \u001b[39m<\u001b[39m \u001b[39m10\u001b[39m \u001b[39m*\u001b[39m\u001b[39m*\u001b[39m high))\n\u001b[1;32m    279\u001b[0m x, o \u001b[39m=\u001b[39m TP_SPD[x], FN_SPD[o]\n\u001b[0;32m--> 280\u001b[0m bins \u001b[39m=\u001b[39m np\u001b[39m.\u001b[39mlinspace(\u001b[39mmin\u001b[39m(\u001b[39mmin\u001b[39;49m(x), \u001b[39mmin\u001b[39m(o)), \u001b[39mmax\u001b[39m(\u001b[39mmax\u001b[39m(x), \u001b[39mmax\u001b[39m(o)), kwargs\u001b[39m.\u001b[39mget(\u001b[39m\"\u001b[39m\u001b[39mn\u001b[39m\u001b[39m\"\u001b[39m, \u001b[39m18\u001b[39m))\n\u001b[1;32m    282\u001b[0m x_hist, sig \u001b[39m=\u001b[39m np\u001b[39m.\u001b[39mhistogram(x, bins \u001b[39m=\u001b[39m bins)\n\u001b[1;32m    283\u001b[0m o_hist, sig \u001b[39m=\u001b[39m np\u001b[39m.\u001b[39mhistogram(o, bins \u001b[39m=\u001b[39m bins)\n",
      "\u001b[0;31mValueError\u001b[0m: min() arg is an empty sequence"
     ]
    },
    {
     "data": {
      "text/plain": [
       "<Figure size 432x288 with 0 Axes>"
      ]
     },
     "metadata": {},
     "output_type": "display_data"
    }
   ],
   "source": [
    "Hardware.spd_energy_efficiency(\"random_traces\")"
   ]
  },
  {
   "cell_type": "code",
   "execution_count": null,
   "metadata": {},
   "outputs": [],
   "source": []
  }
 ],
 "metadata": {
  "kernelspec": {
   "display_name": "base",
   "language": "python",
   "name": "python3"
  },
  "language_info": {
   "codemirror_mode": {
    "name": "ipython",
    "version": 3
   },
   "file_extension": ".py",
   "mimetype": "text/x-python",
   "name": "python",
   "nbconvert_exporter": "python",
   "pygments_lexer": "ipython3",
   "version": "3.9.12"
  },
  "orig_nbformat": 4,
  "vscode": {
   "interpreter": {
    "hash": "e6bd95ed309fd09468b42d789b4c7d801e53518dbe20f43a540524fa8075e3ba"
   }
  }
 },
 "nbformat": 4,
 "nbformat_minor": 2
}
