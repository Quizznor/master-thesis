{
 "cells": [
  {
   "cell_type": "code",
   "execution_count": 1,
   "metadata": {},
   "outputs": [],
   "source": [
    "from Binaries import *"
   ]
  },
  {
   "cell_type": "code",
   "execution_count": 2,
   "metadata": {},
   "outputs": [
    {
     "name": "stdout",
     "output_type": "stream",
     "text": [
      "Model: \"sequential\"\n",
      "_________________________________________________________________\n",
      " Layer (type)                Output Shape              Param #   \n",
      "=================================================================\n",
      " batch_normalization (BatchN  (None, 3, 120, 1)        4         \n",
      " ormalization)                                                   \n",
      "                                                                 \n",
      " conv2d (Conv2D)             (None, 1, 40, 4)          40        \n",
      "                                                                 \n",
      " flatten (Flatten)           (None, 160)               0         \n",
      "                                                                 \n",
      " dense (Dense)               (None, 2)                 322       \n",
      "                                                                 \n",
      "=================================================================\n",
      "Total params: 366\n",
      "Trainable params: 364\n",
      "Non-trainable params: 2\n",
      "_________________________________________________________________\n",
      "\n",
      "\n",
      "DATASET                                                                     TP      FP      TN      FN\n",
      "120_OneLayerNormed_FullBandwidth_NoCuts validation_data                  99052       0       0       0 -> ACC = 100.00%\n"
     ]
    },
    {
     "ename": "IndexError",
     "evalue": "too many indices for array: array is 1-dimensional, but 2 were indexed",
     "output_type": "error",
     "traceback": [
      "\u001b[0;31m---------------------------------------------------------------------------\u001b[0m",
      "\u001b[0;31mIndexError\u001b[0m                                Traceback (most recent call last)",
      "\u001b[1;32m/cr/users/filip/Trigger/NewSimulation/analyse_normed_layers.ipynb Cell 2\u001b[0m in \u001b[0;36m<cell line: 2>\u001b[0;34m()\u001b[0m\n\u001b[1;32m      <a href='vscode-notebook-cell://ssh-remote%2Bcrcws02.iap.kit.edu/cr/users/filip/Trigger/NewSimulation/analyse_normed_layers.ipynb#W1sdnNjb2RlLXJlbW90ZQ%3D%3D?line=0'>1</a>\u001b[0m NormedAllEnergies \u001b[39m=\u001b[39m NNClassifier(\u001b[39m\"\u001b[39m\u001b[39m120_OneLayerNormed_FullBandwidth_NoCuts\u001b[39m\u001b[39m\"\u001b[39m)\n\u001b[0;32m----> <a href='vscode-notebook-cell://ssh-remote%2Bcrcws02.iap.kit.edu/cr/users/filip/Trigger/NewSimulation/analyse_normed_layers.ipynb#W1sdnNjb2RlLXJlbW90ZQ%3D%3D?line=1'>2</a>\u001b[0m NormedAllEnergies\u001b[39m.\u001b[39;49mspd_energy_efficiency(\u001b[39m\"\u001b[39;49m\u001b[39mvalidation_data\u001b[39;49m\u001b[39m\"\u001b[39;49m)\n",
      "File \u001b[0;32m~/Binaries/Classifier.py:329\u001b[0m, in \u001b[0;36mClassifier.spd_energy_efficiency\u001b[0;34m(self, dataset, **kwargs)\u001b[0m\n\u001b[1;32m    326\u001b[0m \u001b[39m# sort predictions into bins of theta and energy\u001b[39;00m\n\u001b[1;32m    327\u001b[0m \u001b[39mfor\u001b[39;00m source, target \u001b[39min\u001b[39;00m \u001b[39mzip\u001b[39m([TP, FN], [hits_sorted, miss_sorted]):\n\u001b[0;32m--> 329\u001b[0m     SPD, E, T \u001b[39m=\u001b[39m source[:, \u001b[39m0\u001b[39;49m], source[:, \u001b[39m1\u001b[39m], source[:, \u001b[39m2\u001b[39m]\n\u001b[1;32m    331\u001b[0m     \u001b[39m# sort misses / hits w.r.t zenith and primary energy\u001b[39;00m\n\u001b[1;32m    332\u001b[0m     theta_indices \u001b[39m=\u001b[39m np\u001b[39m.\u001b[39mdigitize(T, theta_bins)\n",
      "\u001b[0;31mIndexError\u001b[0m: too many indices for array: array is 1-dimensional, but 2 were indexed"
     ]
    }
   ],
   "source": [
    "NormedAllEnergies = NNClassifier(\"120_OneLayerNormed_FullBandwidth_NoCuts\")\n",
    "NormedAllEnergies.spd_energy_efficiency(\"validation_data\")"
   ]
  },
  {
   "cell_type": "code",
   "execution_count": 3,
   "metadata": {},
   "outputs": [
    {
     "name": "stdout",
     "output_type": "stream",
     "text": [
      "Model: \"sequential\"\n",
      "_________________________________________________________________\n",
      " Layer (type)                Output Shape              Param #   \n",
      "=================================================================\n",
      " batch_normalization (BatchN  (None, 3, 120, 1)        4         \n",
      " ormalization)                                                   \n",
      "                                                                 \n",
      " conv2d (Conv2D)             (None, 1, 40, 4)          40        \n",
      "                                                                 \n",
      " flatten (Flatten)           (None, 160)               0         \n",
      "                                                                 \n",
      " dense (Dense)               (None, 2)                 322       \n",
      "                                                                 \n",
      "=================================================================\n",
      "Total params: 366\n",
      "Trainable params: 364\n",
      "Non-trainable params: 2\n",
      "_________________________________________________________________\n",
      "\n",
      "120_OneLayerNormed_HighEnergy_NoCuts validation_data                     39168       0       0       0 -> ACC = 100.00%\n"
     ]
    },
    {
     "ename": "IndexError",
     "evalue": "too many indices for array: array is 1-dimensional, but 2 were indexed",
     "output_type": "error",
     "traceback": [
      "\u001b[0;31m---------------------------------------------------------------------------\u001b[0m",
      "\u001b[0;31mIndexError\u001b[0m                                Traceback (most recent call last)",
      "\u001b[1;32m/cr/users/filip/Trigger/NewSimulation/analyse_normed_layers.ipynb Cell 3\u001b[0m in \u001b[0;36m<cell line: 2>\u001b[0;34m()\u001b[0m\n\u001b[1;32m      <a href='vscode-notebook-cell://ssh-remote%2Bcrcws02.iap.kit.edu/cr/users/filip/Trigger/NewSimulation/analyse_normed_layers.ipynb#W2sdnNjb2RlLXJlbW90ZQ%3D%3D?line=0'>1</a>\u001b[0m NormedHighEnergies \u001b[39m=\u001b[39m NNClassifier(\u001b[39m\"\u001b[39m\u001b[39m120_OneLayerNormed_HighEnergy_NoCuts\u001b[39m\u001b[39m\"\u001b[39m)\n\u001b[0;32m----> <a href='vscode-notebook-cell://ssh-remote%2Bcrcws02.iap.kit.edu/cr/users/filip/Trigger/NewSimulation/analyse_normed_layers.ipynb#W2sdnNjb2RlLXJlbW90ZQ%3D%3D?line=1'>2</a>\u001b[0m NormedHighEnergies\u001b[39m.\u001b[39;49mspd_energy_efficiency(\u001b[39m\"\u001b[39;49m\u001b[39mvalidation_data\u001b[39;49m\u001b[39m\"\u001b[39;49m)\n",
      "File \u001b[0;32m~/Binaries/Classifier.py:329\u001b[0m, in \u001b[0;36mClassifier.spd_energy_efficiency\u001b[0;34m(self, dataset, **kwargs)\u001b[0m\n\u001b[1;32m    326\u001b[0m \u001b[39m# sort predictions into bins of theta and energy\u001b[39;00m\n\u001b[1;32m    327\u001b[0m \u001b[39mfor\u001b[39;00m source, target \u001b[39min\u001b[39;00m \u001b[39mzip\u001b[39m([TP, FN], [hits_sorted, miss_sorted]):\n\u001b[0;32m--> 329\u001b[0m     SPD, E, T \u001b[39m=\u001b[39m source[:, \u001b[39m0\u001b[39;49m], source[:, \u001b[39m1\u001b[39m], source[:, \u001b[39m2\u001b[39m]\n\u001b[1;32m    331\u001b[0m     \u001b[39m# sort misses / hits w.r.t zenith and primary energy\u001b[39;00m\n\u001b[1;32m    332\u001b[0m     theta_indices \u001b[39m=\u001b[39m np\u001b[39m.\u001b[39mdigitize(T, theta_bins)\n",
      "\u001b[0;31mIndexError\u001b[0m: too many indices for array: array is 1-dimensional, but 2 were indexed"
     ]
    }
   ],
   "source": [
    "NormedHighEnergies = NNClassifier(\"120_OneLayerNormed_HighEnergy_NoCuts\")\n",
    "NormedHighEnergies.spd_energy_efficiency(\"validation_data\")"
   ]
  },
  {
   "cell_type": "code",
   "execution_count": 1,
   "metadata": {},
   "outputs": [
    {
     "name": "stdout",
     "output_type": "stream",
     "text": [
      "Model: \"sequential\"\n",
      "_________________________________________________________________\n",
      " Layer (type)                Output Shape              Param #   \n",
      "=================================================================\n",
      " batch_normalization (BatchN  (None, 3, 120, 1)        4         \n",
      " ormalization)                                                   \n",
      "                                                                 \n",
      " conv2d (Conv2D)             (None, 1, 40, 4)          40        \n",
      "                                                                 \n",
      " flatten (Flatten)           (None, 160)               0         \n",
      "                                                                 \n",
      " dense (Dense)               (None, 2)                 322       \n",
      "                                                                 \n",
      "=================================================================\n",
      "Total params: 366\n",
      "Trainable params: 364\n",
      "Non-trainable params: 2\n",
      "_________________________________________________________________\n",
      "\n",
      "\n",
      "DATASET                                                                     TP      FP      TN      FN\n",
      "erNormed_HighEnergyLowPrior_NoCuts... validation_data                    39468       0       0       0 -> ACC = 100.00%\n"
     ]
    },
    {
     "ename": "IndexError",
     "evalue": "too many indices for array: array is 1-dimensional, but 2 were indexed",
     "output_type": "error",
     "traceback": [
      "\u001b[0;31m---------------------------------------------------------------------------\u001b[0m",
      "\u001b[0;31mIndexError\u001b[0m                                Traceback (most recent call last)",
      "\u001b[1;32m/cr/users/filip/Trigger/NewSimulation/analyse_normed_layers.ipynb Cell 4\u001b[0m in \u001b[0;36m<cell line: 4>\u001b[0;34m()\u001b[0m\n\u001b[1;32m      <a href='vscode-notebook-cell://ssh-remote%2Bcrcws02.iap.kit.edu/cr/users/filip/Trigger/NewSimulation/analyse_normed_layers.ipynb#W3sdnNjb2RlLXJlbW90ZQ%3D%3D?line=0'>1</a>\u001b[0m \u001b[39mfrom\u001b[39;00m \u001b[39mBinaries\u001b[39;00m \u001b[39mimport\u001b[39;00m \u001b[39m*\u001b[39m\n\u001b[1;32m      <a href='vscode-notebook-cell://ssh-remote%2Bcrcws02.iap.kit.edu/cr/users/filip/Trigger/NewSimulation/analyse_normed_layers.ipynb#W3sdnNjb2RlLXJlbW90ZQ%3D%3D?line=2'>3</a>\u001b[0m NormedHighEnergies \u001b[39m=\u001b[39m NNClassifier(\u001b[39m\"\u001b[39m\u001b[39m120_OneLayerNormed_HighEnergyLowPrior_NoCuts\u001b[39m\u001b[39m\"\u001b[39m)\n\u001b[0;32m----> <a href='vscode-notebook-cell://ssh-remote%2Bcrcws02.iap.kit.edu/cr/users/filip/Trigger/NewSimulation/analyse_normed_layers.ipynb#W3sdnNjb2RlLXJlbW90ZQ%3D%3D?line=3'>4</a>\u001b[0m NormedHighEnergies\u001b[39m.\u001b[39;49mspd_energy_efficiency(\u001b[39m\"\u001b[39;49m\u001b[39mvalidation_data\u001b[39;49m\u001b[39m\"\u001b[39;49m)\n",
      "File \u001b[0;32m~/Binaries/Classifier.py:329\u001b[0m, in \u001b[0;36mClassifier.spd_energy_efficiency\u001b[0;34m(self, dataset, **kwargs)\u001b[0m\n\u001b[1;32m    326\u001b[0m \u001b[39m# sort predictions into bins of theta and energy\u001b[39;00m\n\u001b[1;32m    327\u001b[0m \u001b[39mfor\u001b[39;00m source, target \u001b[39min\u001b[39;00m \u001b[39mzip\u001b[39m([TP, FN], [hits_sorted, miss_sorted]):\n\u001b[0;32m--> 329\u001b[0m     SPD, E, T \u001b[39m=\u001b[39m source[:, \u001b[39m0\u001b[39;49m], source[:, \u001b[39m1\u001b[39m], source[:, \u001b[39m2\u001b[39m]\n\u001b[1;32m    331\u001b[0m     \u001b[39m# sort misses / hits w.r.t zenith and primary energy\u001b[39;00m\n\u001b[1;32m    332\u001b[0m     theta_indices \u001b[39m=\u001b[39m np\u001b[39m.\u001b[39mdigitize(T, theta_bins)\n",
      "\u001b[0;31mIndexError\u001b[0m: too many indices for array: array is 1-dimensional, but 2 were indexed"
     ]
    }
   ],
   "source": [
    "from Binaries import *\n",
    "\n",
    "NormedHighEnergies = NNClassifier(\"120_OneLayerNormed_HighEnergyLowPrior_NoCuts\")\n",
    "NormedHighEnergies.spd_energy_efficiency(\"validation_data\")"
   ]
  },
  {
   "cell_type": "code",
   "execution_count": null,
   "metadata": {},
   "outputs": [],
   "source": []
  }
 ],
 "metadata": {
  "kernelspec": {
   "display_name": "base",
   "language": "python",
   "name": "python3"
  },
  "language_info": {
   "codemirror_mode": {
    "name": "ipython",
    "version": 3
   },
   "file_extension": ".py",
   "mimetype": "text/x-python",
   "name": "python",
   "nbconvert_exporter": "python",
   "pygments_lexer": "ipython3",
   "version": "3.9.12"
  },
  "orig_nbformat": 4
 },
 "nbformat": 4,
 "nbformat_minor": 2
}
