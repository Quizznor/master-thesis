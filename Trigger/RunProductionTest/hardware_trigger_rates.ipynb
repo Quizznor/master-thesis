{
 "cells": [
  {
   "cell_type": "code",
   "execution_count": null,
   "metadata": {},
   "outputs": [],
   "source": [
    "from Binaries import *"
   ]
  },
  {
   "cell_type": "markdown",
   "metadata": {},
   "source": [
    "### own trigger rate"
   ]
  },
  {
   "cell_type": "code",
   "execution_count": null,
   "metadata": {},
   "outputs": [],
   "source": [
    "estimates = \\\n",
    "[\n",
    "    # \"/cr/users/filip/Trigger/RunProductionTest/production/nuria_all_triggers_10vem.csv\",\n",
    "    \"/cr/users/filip/Trigger/RunProductionTest/production/nuria_all_triggers_10adc.csv\",\n",
    "    \"/cr/users/filip/Trigger/RunProductionTest/production/nuria_all_triggers_0adc.csv\"\n",
    "]"
   ]
  },
  {
   "cell_type": "markdown",
   "metadata": {},
   "source": [
    "### online trigger rate"
   ]
  },
  {
   "cell_type": "code",
   "execution_count": null,
   "metadata": {},
   "outputs": [],
   "source": [
    "import uproot\n",
    "\n",
    "def calculate_start_end(station):\n",
    "\n",
    "    starts = data['fCalibration.fStartSecond'].array()[station]\n",
    "    deltas = data['fCalibration.fEndSecond'].array()[station]\n",
    "    stops = starts + deltas\n",
    "\n",
    "    return starts, stops, deltas\n",
    "\n",
    "file = uproot.open(\"/cr/tempdata01/filip/iRODS/MonitoringData/mc_2022_03_17_00h00.root:SDMonCal\")\n",
    "StationIDs = file['SDMonCalBranch']['fLsId'].array()\n",
    "data = file['fCalibration']\n",
    "Nuria = StationIDs == 56\n",
    "Qui_Don = StationIDs == 1744\n",
    "\n",
    "Station = Qui_Don\n",
    "\n",
    "start, stop, dt = calculate_start_end(Qui_Don)\n",
    "t = ( 0.5 * (start + stop)  - 1331510418) / 3600\n",
    "y = []\n",
    "\n",
    "n_trig_online = []\n",
    "deltas = data['fCalibration.fEndSecond'].array()[Station]\n",
    "\n",
    "for j, trigger in enumerate(['fCalibration.fT2', 'fCalibration.fTotRate', 'fCalibration.fTotD', 'fCalibration.fMops']):\n",
    "\n",
    "    if j != 1: y.append(data[trigger].array()[Station] / deltas)\n",
    "    else: y.append(data[trigger].array()[Station])\n",
    "\n",
    "n_trig_online_all = y[0] + y[1] + y[2] + y[3]"
   ]
  },
  {
   "cell_type": "code",
   "execution_count": null,
   "metadata": {},
   "outputs": [],
   "source": [
    "# Monitoring data\n",
    "\n",
    "plt.rcParams[\"figure.figsize\"] = [20,10]\n",
    "\n",
    "ax1 = plt.gca()\n",
    "ax1.set_xlabel(\"Time of day\")\n",
    "ax1.set_xticks(ticks = range(0, 24, 2), labels = [f\"{h}h\" for h in range(0, 24, 2)])\n",
    "ax1.plot(t, n_trig_online_all, label = \"Monitoring data\")\n",
    "ax1.plot([],[], label = \"Hardware trigger\")\n",
    "\n",
    "ax2 = ax1.twiny()\n",
    "ax2.set_xlabel(\"File ID\")\n",
    "\n",
    "\n",
    "# Own estimate\n",
    "single_trace_duration = GLOBAL.single_bin_duration * GLOBAL.n_bins\n",
    "\n",
    "for estimate in estimates:\n",
    "\n",
    "    duration, n_trig = np.loadtxt(estimate, usecols = [2, 3], unpack = True)\n",
    "    \n",
    "    combine_files = 800\n",
    "    n_trig_own = []\n",
    "    file_ids = []\n",
    "\n",
    "    for i in range(0, len(n_trig), combine_files):\n",
    "\n",
    "        try:\n",
    "            sum_trigger = sum(n_trig[i : i + combine_files])\n",
    "            dur_total = sum(duration[i : i + combine_files])\n",
    "        except IndexError:\n",
    "            sum_trigger = sum(n_trig[i : -1])\n",
    "            dur_total = sum(duration[i : -1])\n",
    "\n",
    "        rate = sum_trigger / dur_total\n",
    "\n",
    "        file_ids.append(i), file_ids.append(i + combine_files)\n",
    "        n_trig_own.append(rate), n_trig_own.append(rate)\n",
    "\n",
    "    ax2.plot(file_ids, n_trig_own, label = estimate.split(\"/\")[-1][:-4])\n",
    "\n",
    "ax2.legend()\n"
   ]
  },
  {
   "cell_type": "code",
   "execution_count": null,
   "metadata": {},
   "outputs": [],
   "source": []
  }
 ],
 "metadata": {
  "kernelspec": {
   "display_name": "base",
   "language": "python",
   "name": "python3"
  },
  "language_info": {
   "codemirror_mode": {
    "name": "ipython",
    "version": 3
   },
   "file_extension": ".py",
   "mimetype": "text/x-python",
   "name": "python",
   "nbconvert_exporter": "python",
   "pygments_lexer": "ipython3",
   "version": "3.9.12"
  },
  "orig_nbformat": 4,
  "vscode": {
   "interpreter": {
    "hash": "e6bd95ed309fd09468b42d789b4c7d801e53518dbe20f43a540524fa8075e3ba"
   }
  }
 },
 "nbformat": 4,
 "nbformat_minor": 2
}
