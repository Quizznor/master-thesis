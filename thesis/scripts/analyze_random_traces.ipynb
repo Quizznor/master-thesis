{
 "cells": [
  {
   "cell_type": "code",
   "execution_count": null,
   "metadata": {},
   "outputs": [],
   "source": [
    "\n",
    "\n",
    "fft_container = np.zeros(2048)\n",
    "n_files = len(os.listdir(\"/cr/tempdata01/filip/iRODS/nuria/\"))\n",
    "\n",
    "for i in range(10):\n",
    "    RandomTraces = RandomTrace(station = \"nuria\", index = i)\n",
    "    for j, example in enumerate(RandomTraces._these_traces):\n",
    "        print(f\"{j+1}/{len(RandomTraces._these_traces)}\", end = \"\\r\")\n",
    "        for pmt in example:\n",
    "            fft_container += abs(np.fft.fft(pmt)) / (3 * len(RandomTraces._these_traces) * n_files)\n",
    "\n",
    "\n",
    "plt.plot(range(2048), fft_container)"
   ]
  },
  {
   "cell_type": "code",
   "execution_count": null,
   "metadata": {},
   "outputs": [],
   "source": [
    "from Binaries import *\n",
    "\n",
    "fft_container1 = np.loadtxt(\"/cr/users/filip/thesis/scripts/random-traces-fft/nuria.csv\")\n",
    "fft_container2 = np.loadtxt(\"/cr/users/filip/thesis/scripts/random-traces-fft/lo_qui_don.csv\")\n",
    "\n",
    "\n",
    "plt.plot(range(2048), fft_container1)\n",
    "plt.plot(range(2048), fft_container2)"
   ]
  }
 ],
 "metadata": {
  "kernelspec": {
   "display_name": "base",
   "language": "python",
   "name": "python3"
  },
  "language_info": {
   "codemirror_mode": {
    "name": "ipython",
    "version": 3
   },
   "file_extension": ".py",
   "mimetype": "text/x-python",
   "name": "python",
   "nbconvert_exporter": "python",
   "pygments_lexer": "ipython3",
   "version": "3.9.12"
  },
  "orig_nbformat": 4
 },
 "nbformat": 4,
 "nbformat_minor": 2
}
