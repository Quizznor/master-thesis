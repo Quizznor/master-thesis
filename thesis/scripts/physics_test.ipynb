{
 "cells": [
  {
   "cell_type": "code",
   "execution_count": 1,
   "metadata": {},
   "outputs": [],
   "source": [
    "from Binaries import *"
   ]
  },
  {
   "cell_type": "code",
   "execution_count": 2,
   "metadata": {},
   "outputs": [
    {
     "name": "stdout",
     "output_type": "stream",
     "text": [
      "[INFO] -- LOADING LO_QUI_DON: randoms1632.csv                                                            \n",
      "[INFO] -- LOADING LO_QUI_DON: randoms3881.csv                                                            \n",
      "[INFO] -- LOADING LO_QUI_DON: randoms0543.csv                                                            \n",
      "Step 361/33208 | 00:00:23 elapsed ||                    || 1% -- 66.275 ms/step, ETA: 00:36:17     \r"
     ]
    }
   ],
   "source": [
    "Events = EventGenerator(\"all\", split = 1)\n",
    "\n",
    "Events.physics_test()"
   ]
  },
  {
   "cell_type": "code",
   "execution_count": null,
   "metadata": {},
   "outputs": [],
   "source": []
  }
 ],
 "metadata": {
  "kernelspec": {
   "display_name": "base",
   "language": "python",
   "name": "python3"
  },
  "language_info": {
   "codemirror_mode": {
    "name": "ipython",
    "version": 3
   },
   "file_extension": ".py",
   "mimetype": "text/x-python",
   "name": "python",
   "nbconvert_exporter": "python",
   "pygments_lexer": "ipython3",
   "version": "3.9.12"
  },
  "orig_nbformat": 4
 },
 "nbformat": 4,
 "nbformat_minor": 2
}
