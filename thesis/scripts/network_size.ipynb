{
 "cells": [
  {
   "cell_type": "code",
   "execution_count": 1,
   "metadata": {},
   "outputs": [],
   "source": [
    "from Binaries import *"
   ]
  },
  {
   "cell_type": "code",
   "execution_count": 13,
   "metadata": {},
   "outputs": [
    {
     "name": "stdout",
     "output_type": "stream",
     "text": [
      "Model: \"sequential_9\"\n",
      "_________________________________________________________________\n",
      " Layer (type)                Output Shape              Param #   \n",
      "=================================================================\n",
      " conv2d_9 (Conv2D)           (None, 1, 80, 4)          40        \n",
      "                                                                 \n",
      " conv1d_8 (Conv1D)           (None, 1, 40, 2)          18        \n",
      "                                                                 \n",
      " flatten_8 (Flatten)         (None, 80)                0         \n",
      "                                                                 \n",
      " dense_10 (Dense)            (None, 2)                 162       \n",
      "                                                                 \n",
      "=================================================================\n",
      "Total params: 220\n",
      "Trainable params: 220\n",
      "Non-trainable params: 0\n",
      "_________________________________________________________________\n"
     ]
    }
   ],
   "source": [
    "model = tf.keras.Sequential()\n",
    "\n",
    "model.add(tf.keras.layers.Input(shape = (3, 240, 1)))\n",
    "model.add(tf.keras.layers.Conv2D(filters = 4, kernel_size = 3, strides = 3))\n",
    "model.add(tf.keras.layers.Conv1D(filters = 2, kernel_size = 2, strides = 2))\n",
    "model.add(tf.keras.layers.Flatten())\n",
    "model.add(tf.keras.layers.Dense(units = 2, activation = \"softmax\"))\n",
    "\n",
    "model.summary()"
   ]
  },
  {
   "cell_type": "code",
   "execution_count": 17,
   "metadata": {},
   "outputs": [
    {
     "name": "stdout",
     "output_type": "stream",
     "text": [
      "Model: \"sequential_13\"\n",
      "_________________________________________________________________\n",
      " Layer (type)                Output Shape              Param #   \n",
      "=================================================================\n",
      " conv2d_13 (Conv2D)          (None, 1, 80, 4)          40        \n",
      "                                                                 \n",
      " conv1d_12 (Conv1D)          (None, 1, 40, 2)          18        \n",
      "                                                                 \n",
      " flatten_12 (Flatten)        (None, 80)                0         \n",
      "                                                                 \n",
      " dense_17 (Dense)            (None, 10)                810       \n",
      "                                                                 \n",
      " dense_18 (Dense)            (None, 2)                 22        \n",
      "                                                                 \n",
      "=================================================================\n",
      "Total params: 890\n",
      "Trainable params: 890\n",
      "Non-trainable params: 0\n",
      "_________________________________________________________________\n"
     ]
    }
   ],
   "source": [
    "model = tf.keras.Sequential()\n",
    "\n",
    "model.add(tf.keras.layers.Input(shape = (3, 240, 1)))\n",
    "model.add(tf.keras.layers.Conv2D(filters = 4, kernel_size = 3, strides = 3))\n",
    "model.add(tf.keras.layers.Conv1D(filters = 2, kernel_size = 2, strides = 2))\n",
    "model.add(tf.keras.layers.Flatten())\n",
    "model.add(tf.keras.layers.Dense(units = 10 ,activation = \"relu\"))\n",
    "model.add(tf.keras.layers.Dense(units = 2, activation = \"softmax\"))\n",
    "\n",
    "model.summary()"
   ]
  },
  {
   "cell_type": "code",
   "execution_count": 19,
   "metadata": {},
   "outputs": [
    {
     "name": "stdout",
     "output_type": "stream",
     "text": [
      "Model: \"model\"\n",
      "__________________________________________________________________________________________________\n",
      " Layer (type)                   Output Shape         Param #     Connected to                     \n",
      "==================================================================================================\n",
      " input_15 (InputLayer)          [(None, 3, 120, 1)]  0           []                               \n",
      "                                                                                                  \n",
      " lambda (Lambda)                [(None, 120, 1),     0           ['input_15[0][0]']               \n",
      "                                 (None, 120, 1),                                                  \n",
      "                                 (None, 120, 1)]                                                  \n",
      "                                                                                                  \n",
      " lstm (LSTM)                    (None, 1)            12          ['lambda[0][0]']                 \n",
      "                                                                                                  \n",
      " lstm_1 (LSTM)                  (None, 1)            12          ['lambda[0][1]']                 \n",
      "                                                                                                  \n",
      " lstm_2 (LSTM)                  (None, 1)            12          ['lambda[0][2]']                 \n",
      "                                                                                                  \n",
      " lambda_1 (Lambda)              (None, 3, 1)         0           ['lstm[0][0]',                   \n",
      "                                                                  'lstm_1[0][0]',                 \n",
      "                                                                  'lstm_2[0][0]']                 \n",
      "                                                                                                  \n",
      " flatten_13 (Flatten)           (None, 3)            0           ['lambda_1[0][0]']               \n",
      "                                                                                                  \n",
      " dense_19 (Dense)               (None, 2)            8           ['flatten_13[0][0]']             \n",
      "                                                                                                  \n",
      "==================================================================================================\n",
      "Total params: 44\n",
      "Trainable params: 44\n",
      "Non-trainable params: 0\n",
      "__________________________________________________________________________________________________\n",
      "\n"
     ]
    }
   ],
   "source": [
    "test = NNClassifier(\"test_lol\", \"simple_LSTM\")"
   ]
  },
  {
   "cell_type": "code",
   "execution_count": null,
   "metadata": {},
   "outputs": [],
   "source": []
  }
 ],
 "metadata": {
  "kernelspec": {
   "display_name": "base",
   "language": "python",
   "name": "python3"
  },
  "language_info": {
   "codemirror_mode": {
    "name": "ipython",
    "version": 3
   },
   "file_extension": ".py",
   "mimetype": "text/x-python",
   "name": "python",
   "nbconvert_exporter": "python",
   "pygments_lexer": "ipython3",
   "version": "3.9.12"
  },
  "orig_nbformat": 4
 },
 "nbformat": 4,
 "nbformat_minor": 2
}
