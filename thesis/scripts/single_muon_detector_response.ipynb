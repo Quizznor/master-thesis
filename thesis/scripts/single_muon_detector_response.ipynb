{
 "cells": [
  {
   "cell_type": "code",
   "execution_count": 1,
   "metadata": {},
   "outputs": [],
   "source": [
    "from Binaries import *"
   ]
  },
  {
   "cell_type": "code",
   "execution_count": 3,
   "metadata": {},
   "outputs": [
    {
     "name": "stdout",
     "output_type": "stream",
     "text": [
      "[INFO] -- LOADING NURIA: randoms0564.csv                                                            \n",
      "[INFO] -- LOADING NURIA: randoms0787.csv                                                            \n",
      "[INFO] -- LOADING NURIA: randoms0414.csv                                                            \n"
     ]
    },
    {
     "ename": "KeyboardInterrupt",
     "evalue": "",
     "output_type": "error",
     "traceback": [
      "\u001b[0;31m---------------------------------------------------------------------------\u001b[0m",
      "\u001b[0;31mKeyboardInterrupt\u001b[0m                         Traceback (most recent call last)",
      "\u001b[1;32m/cr/users/filip/thesis/scripts/single_muon_detector_response.ipynb Cell 2\u001b[0m in \u001b[0;36m<cell line: 4>\u001b[0;34m()\u001b[0m\n\u001b[1;32m      <a href='vscode-notebook-cell://ssh-remote%2Bcrcws02.iap.kit.edu/cr/users/filip/thesis/scripts/single_muon_detector_response.ipynb#W1sdnNjb2RlLXJlbW90ZQ%3D%3D?line=7'>8</a>\u001b[0m \u001b[39mif\u001b[39;00m trace\u001b[39m.\u001b[39mparticles[\u001b[39m\"\u001b[39m\u001b[39mmu\u001b[39m\u001b[39m\"\u001b[39m] \u001b[39m==\u001b[39m \u001b[39m1\u001b[39m \u001b[39mand\u001b[39;00m trace\u001b[39m.\u001b[39mparticles[\u001b[39m\"\u001b[39m\u001b[39me\u001b[39m\u001b[39m\"\u001b[39m] \u001b[39m==\u001b[39m \u001b[39m0\u001b[39m \u001b[39mand\u001b[39;00m trace\u001b[39m.\u001b[39mparticles[\u001b[39m\"\u001b[39m\u001b[39mph\u001b[39m\u001b[39m\"\u001b[39m] \u001b[39m==\u001b[39m \u001b[39m0\u001b[39m:\n\u001b[1;32m      <a href='vscode-notebook-cell://ssh-remote%2Bcrcws02.iap.kit.edu/cr/users/filip/thesis/scripts/single_muon_detector_response.ipynb#W1sdnNjb2RlLXJlbW90ZQ%3D%3D?line=8'>9</a>\u001b[0m     muons_found \u001b[39m+\u001b[39m\u001b[39m=\u001b[39m \u001b[39m1\u001b[39m\n\u001b[0;32m---> <a href='vscode-notebook-cell://ssh-remote%2Bcrcws02.iap.kit.edu/cr/users/filip/thesis/scripts/single_muon_detector_response.ipynb#W1sdnNjb2RlLXJlbW90ZQ%3D%3D?line=9'>10</a>\u001b[0m     trace\u001b[39m.\u001b[39;49m__plot__()\n\u001b[1;32m     <a href='vscode-notebook-cell://ssh-remote%2Bcrcws02.iap.kit.edu/cr/users/filip/thesis/scripts/single_muon_detector_response.ipynb#W1sdnNjb2RlLXJlbW90ZQ%3D%3D?line=11'>12</a>\u001b[0m     \u001b[39mif\u001b[39;00m muons_found \u001b[39m==\u001b[39m \u001b[39m4\u001b[39m: \u001b[39mbreak\u001b[39;00m\n\u001b[1;32m     <a href='vscode-notebook-cell://ssh-remote%2Bcrcws02.iap.kit.edu/cr/users/filip/thesis/scripts/single_muon_detector_response.ipynb#W1sdnNjb2RlLXJlbW90ZQ%3D%3D?line=12'>13</a>\u001b[0m \u001b[39melse\u001b[39;00m: \u001b[39mcontinue\u001b[39;00m\n",
      "File \u001b[0;32m~/Binaries/Signal.py:316\u001b[0m, in \u001b[0;36mTrace.__plot__\u001b[0;34m(self)\u001b[0m\n\u001b[1;32m    314\u001b[0m plt\u001b[39m.\u001b[39mylabel(\u001b[39m\"\u001b[39m\u001b[39mSignal strength / VEM\u001b[39m\u001b[39m\"\u001b[39m)\n\u001b[1;32m    315\u001b[0m plt\u001b[39m.\u001b[39mxlabel(\u001b[39m\"\u001b[39m\u001b[39mBin / 25 ns\u001b[39m\u001b[39m\"\u001b[39m \u001b[39mif\u001b[39;00m \u001b[39mself\u001b[39m\u001b[39m.\u001b[39mdownsampled \u001b[39melse\u001b[39;00m \u001b[39m\"\u001b[39m\u001b[39mBin / $8.3\u001b[39m\u001b[39m\\\u001b[39m\u001b[39m,\u001b[39m\u001b[39m\\\u001b[39m\u001b[39mmathrm\u001b[39m\u001b[39m{ns}\u001b[39;00m\u001b[39m$\u001b[39m\u001b[39m\"\u001b[39m)\n\u001b[0;32m--> 316\u001b[0m plt\u001b[39m.\u001b[39;49mlegend()\n",
      "File \u001b[0;32m~/anaconda3/lib/python3.9/site-packages/matplotlib/pyplot.py:2655\u001b[0m, in \u001b[0;36mlegend\u001b[0;34m(*args, **kwargs)\u001b[0m\n\u001b[1;32m   2653\u001b[0m \u001b[39m@_copy_docstring_and_deprecators\u001b[39m(Axes\u001b[39m.\u001b[39mlegend)\n\u001b[1;32m   2654\u001b[0m \u001b[39mdef\u001b[39;00m \u001b[39mlegend\u001b[39m(\u001b[39m*\u001b[39margs, \u001b[39m*\u001b[39m\u001b[39m*\u001b[39mkwargs):\n\u001b[0;32m-> 2655\u001b[0m     \u001b[39mreturn\u001b[39;00m gca()\u001b[39m.\u001b[39;49mlegend(\u001b[39m*\u001b[39;49margs, \u001b[39m*\u001b[39;49m\u001b[39m*\u001b[39;49mkwargs)\n",
      "File \u001b[0;32m~/anaconda3/lib/python3.9/site-packages/matplotlib/axes/_axes.py:305\u001b[0m, in \u001b[0;36mAxes.legend\u001b[0;34m(self, *args, **kwargs)\u001b[0m\n\u001b[1;32m    303\u001b[0m \u001b[39mif\u001b[39;00m \u001b[39mlen\u001b[39m(extra_args):\n\u001b[1;32m    304\u001b[0m     \u001b[39mraise\u001b[39;00m \u001b[39mTypeError\u001b[39;00m(\u001b[39m'\u001b[39m\u001b[39mlegend only accepts two non-keyword arguments\u001b[39m\u001b[39m'\u001b[39m)\n\u001b[0;32m--> 305\u001b[0m \u001b[39mself\u001b[39m\u001b[39m.\u001b[39mlegend_ \u001b[39m=\u001b[39m mlegend\u001b[39m.\u001b[39;49mLegend(\u001b[39mself\u001b[39;49m, handles, labels, \u001b[39m*\u001b[39;49m\u001b[39m*\u001b[39;49mkwargs)\n\u001b[1;32m    306\u001b[0m \u001b[39mself\u001b[39m\u001b[39m.\u001b[39mlegend_\u001b[39m.\u001b[39m_remove_method \u001b[39m=\u001b[39m \u001b[39mself\u001b[39m\u001b[39m.\u001b[39m_remove_legend\n\u001b[1;32m    307\u001b[0m \u001b[39mreturn\u001b[39;00m \u001b[39mself\u001b[39m\u001b[39m.\u001b[39mlegend_\n",
      "File \u001b[0;32m~/anaconda3/lib/python3.9/site-packages/matplotlib/legend.py:499\u001b[0m, in \u001b[0;36mLegend.__init__\u001b[0;34m(self, parent, handles, labels, loc, numpoints, markerscale, markerfirst, scatterpoints, scatteryoffsets, prop, fontsize, labelcolor, borderpad, labelspacing, handlelength, handleheight, handletextpad, borderaxespad, columnspacing, ncol, mode, fancybox, shadow, title, title_fontsize, framealpha, edgecolor, facecolor, bbox_to_anchor, bbox_transform, frameon, handler_map, title_fontproperties)\u001b[0m\n\u001b[1;32m    496\u001b[0m \u001b[39mself\u001b[39m\u001b[39m.\u001b[39m_set_artist_props(\u001b[39mself\u001b[39m\u001b[39m.\u001b[39mlegendPatch)\n\u001b[1;32m    498\u001b[0m \u001b[39m# init with null renderer\u001b[39;00m\n\u001b[0;32m--> 499\u001b[0m \u001b[39mself\u001b[39;49m\u001b[39m.\u001b[39;49m_init_legend_box(handles, labels, markerfirst)\n\u001b[1;32m    501\u001b[0m tmp \u001b[39m=\u001b[39m \u001b[39mself\u001b[39m\u001b[39m.\u001b[39m_loc_used_default\n\u001b[1;32m    502\u001b[0m \u001b[39mself\u001b[39m\u001b[39m.\u001b[39m_set_loc(loc)\n",
      "File \u001b[0;32m~/anaconda3/lib/python3.9/site-packages/matplotlib/legend.py:759\u001b[0m, in \u001b[0;36mLegend._init_legend_box\u001b[0;34m(self, handles, labels, markerfirst)\u001b[0m\n\u001b[1;32m    756\u001b[0m legend_handler_map \u001b[39m=\u001b[39m \u001b[39mself\u001b[39m\u001b[39m.\u001b[39mget_legend_handler_map()\n\u001b[1;32m    758\u001b[0m \u001b[39mfor\u001b[39;00m orig_handle, lab \u001b[39min\u001b[39;00m \u001b[39mzip\u001b[39m(handles, labels):\n\u001b[0;32m--> 759\u001b[0m     handler \u001b[39m=\u001b[39m \u001b[39mself\u001b[39;49m\u001b[39m.\u001b[39;49mget_legend_handler(legend_handler_map, orig_handle)\n\u001b[1;32m    760\u001b[0m     \u001b[39mif\u001b[39;00m handler \u001b[39mis\u001b[39;00m \u001b[39mNone\u001b[39;00m:\n\u001b[1;32m    761\u001b[0m         _api\u001b[39m.\u001b[39mwarn_external(\n\u001b[1;32m    762\u001b[0m             \u001b[39m\"\u001b[39m\u001b[39mLegend does not support \u001b[39m\u001b[39m{!r}\u001b[39;00m\u001b[39m instances.\u001b[39m\u001b[39m\\n\u001b[39;00m\u001b[39mA proxy artist \u001b[39m\u001b[39m\"\u001b[39m\n\u001b[1;32m    763\u001b[0m             \u001b[39m\"\u001b[39m\u001b[39mmay be used instead.\u001b[39m\u001b[39m\\n\u001b[39;00m\u001b[39mSee: \u001b[39m\u001b[39m\"\u001b[39m\n\u001b[1;32m    764\u001b[0m             \u001b[39m\"\u001b[39m\u001b[39mhttps://matplotlib.org/users/legend_guide.html\u001b[39m\u001b[39m\"\u001b[39m\n\u001b[1;32m    765\u001b[0m             \u001b[39m\"\u001b[39m\u001b[39m#creating-artists-specifically-for-adding-to-the-legend-\u001b[39m\u001b[39m\"\u001b[39m\n\u001b[1;32m    766\u001b[0m             \u001b[39m\"\u001b[39m\u001b[39maka-proxy-artists\u001b[39m\u001b[39m\"\u001b[39m\u001b[39m.\u001b[39mformat(orig_handle))\n",
      "File \u001b[0;32m~/anaconda3/lib/python3.9/site-packages/matplotlib/legend.py:705\u001b[0m, in \u001b[0;36mLegend.get_legend_handler\u001b[0;34m(legend_handler_map, orig_handle)\u001b[0m\n\u001b[1;32m    690\u001b[0m \u001b[39m@staticmethod\u001b[39m\n\u001b[1;32m    691\u001b[0m \u001b[39mdef\u001b[39;00m \u001b[39mget_legend_handler\u001b[39m(legend_handler_map, orig_handle):\n\u001b[1;32m    692\u001b[0m     \u001b[39m\"\"\"\u001b[39;00m\n\u001b[1;32m    693\u001b[0m \u001b[39m    Return a legend handler from *legend_handler_map* that\u001b[39;00m\n\u001b[1;32m    694\u001b[0m \u001b[39m    corresponds to *orig_handler*.\u001b[39;00m\n\u001b[0;32m   (...)\u001b[0m\n\u001b[1;32m    703\u001b[0m \u001b[39m    returns ``None``.\u001b[39;00m\n\u001b[1;32m    704\u001b[0m \u001b[39m    \"\"\"\u001b[39;00m\n\u001b[0;32m--> 705\u001b[0m     \u001b[39mtry\u001b[39;00m:\n\u001b[1;32m    706\u001b[0m         \u001b[39mreturn\u001b[39;00m legend_handler_map[orig_handle]\n\u001b[1;32m    707\u001b[0m     \u001b[39mexcept\u001b[39;00m (\u001b[39mTypeError\u001b[39;00m, \u001b[39mKeyError\u001b[39;00m):  \u001b[39m# TypeError if unhashable.\u001b[39;00m\n",
      "\u001b[0;31mKeyboardInterrupt\u001b[0m: "
     ]
    }
   ],
   "source": [
    "Events = EventGenerator(\"all\", split = 1, seed = 42)\n",
    "muons_found = 0\n",
    "\n",
    "for batch in Events:\n",
    "\n",
    "    for trace in batch:\n",
    "\n",
    "        if trace.particles[\"mu\"] == 1 and trace.particles[\"e\"] == 0 and trace.particles[\"ph\"] == 0:\n",
    "            muons_found += 1\n",
    "            trace.__plot__()\n",
    "\n",
    "            if muons_found == 4: break\n",
    "        else: continue"
   ]
  },
  {
   "cell_type": "code",
   "execution_count": null,
   "metadata": {},
   "outputs": [],
   "source": []
  }
 ],
 "metadata": {
  "kernelspec": {
   "display_name": "base",
   "language": "python",
   "name": "python3"
  },
  "language_info": {
   "codemirror_mode": {
    "name": "ipython",
    "version": 3
   },
   "file_extension": ".py",
   "mimetype": "text/x-python",
   "name": "python",
   "nbconvert_exporter": "python",
   "pygments_lexer": "ipython3",
   "version": "3.9.12"
  },
  "orig_nbformat": 4
 },
 "nbformat": 4,
 "nbformat_minor": 2
}
