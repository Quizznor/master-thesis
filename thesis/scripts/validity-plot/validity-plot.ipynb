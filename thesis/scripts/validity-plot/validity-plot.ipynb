{
 "cells": [
  {
   "cell_type": "code",
   "execution_count": 1,
   "metadata": {},
   "outputs": [],
   "source": [
    "#!/usr/bin/python\n",
    "\n",
    "import matplotlib.pyplot as plt\n",
    "import numpy as np\n",
    "\n",
    "# observed shower\n",
    "# /lsdf/auger/corsika/napoli/QGSJET-II.04/proton/18.5_19/DAT784868.lst\n",
    "\n",
    "# E = 8.54718e+09"
   ]
  },
  {
   "cell_type": "code",
   "execution_count": 2,
   "metadata": {},
   "outputs": [],
   "source": [
    "# Observed\n",
    "\n",
    "# depth_observed, observed = np.loadtxt()"
   ]
  },
  {
   "cell_type": "code",
   "execution_count": 10,
   "metadata": {},
   "outputs": [],
   "source": [
    "# Simulated\n",
    "\n",
    "depth_simulated, GAMMAS, POSITRONS, ELECTRONS, MUp, MUm, HADRONS, CHARGED, NUCLEI, CHERENKOV = np.loadtxt(\"gammas.txt\", unpack = True)\n",
    "simulated = GAMMAS"
   ]
  },
  {
   "cell_type": "code",
   "execution_count": 7,
   "metadata": {},
   "outputs": [],
   "source": [
    "# Heitler-Matthews\n",
    "\n",
    "depth_deterministic, nuclei, pions, electrons, photons, muons, neutrinos, remainin_energy, ionization = np.loadtxt('./showersim/result_deterministic.txt', unpack=True)\n",
    "heitler_matthews_deterministic = nuclei + pions + electrons + photons + muons"
   ]
  },
  {
   "cell_type": "code",
   "execution_count": 8,
   "metadata": {},
   "outputs": [],
   "source": [
    "# Heitler-Matthews + stochastic component\n",
    "\n",
    "depth_stochastic, nuclei, pions, electrons, photons, muons, neutrinos, remainin_energy, ionization = np.loadtxt('./showersim/result_random.txt', unpack=True)\n",
    "heitler_matthews_stochastic = nuclei + pions + electrons + photons + muons\n"
   ]
  },
  {
   "cell_type": "code",
   "execution_count": 11,
   "metadata": {},
   "outputs": [
    {
     "data": {
      "text/plain": [
       "<matplotlib.legend.Legend at 0x7f4027bcec40>"
      ]
     },
     "execution_count": 11,
     "metadata": {},
     "output_type": "execute_result"
    },
    {
     "data": {
      "image/png": "[encoded data removed]",
      "text/plain": [
       "<Figure size 432x288 with 1 Axes>"
      ]
     },
     "metadata": {
      "needs_background": "light"
     },
     "output_type": "display_data"
    }
   ],
   "source": [
    "\n",
    "plt.plot(depth_deterministic, heitler_matthews_deterministic, label = \"Heitler-Matthews\")\n",
    "plt.plot(depth_stochastic, heitler_matthews_stochastic, label = \"HM + stochastic\")\n",
    "plt.plot(depth_simulated, simulated, label = \"CORSIKA\")\n",
    "# plt.plot(depth_observed, observed, label =\"Observed\")\n",
    "\n",
    "plt.legend()"
   ]
  },
  {
   "cell_type": "code",
   "execution_count": null,
   "metadata": {},
   "outputs": [],
   "source": []
  }
 ],
 "metadata": {
  "kernelspec": {
   "display_name": "base",
   "language": "python",
   "name": "python3"
  },
  "language_info": {
   "codemirror_mode": {
    "name": "ipython",
    "version": 3
   },
   "file_extension": ".py",
   "mimetype": "text/x-python",
   "name": "python",
   "nbconvert_exporter": "python",
   "pygments_lexer": "ipython3",
   "version": "3.9.12 (main, Jun  1 2022, 11:38:51) \n[GCC 7.5.0]"
  },
  "orig_nbformat": 4,
  "vscode": {
   "interpreter": {
    "hash": "e6bd95ed309fd09468b42d789b4c7d801e53518dbe20f43a540524fa8075e3ba"
   }
  }
 },
 "nbformat": 4,
 "nbformat_minor": 2
}
