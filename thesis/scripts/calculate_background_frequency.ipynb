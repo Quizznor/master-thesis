{
 "cells": [
  {
   "cell_type": "code",
   "execution_count": 2,
   "metadata": {},
   "outputs": [
    {
     "name": "stdout",
     "output_type": "stream",
     "text": [
      "1 accidentals: 73075\t=> 1 in 13.7\n",
      "2 accidentals: 2919\t=> 1 in 342.6\n",
      "3 accidentals: 88\t=> 1 in 11363.6\n",
      "4 accidentals: 1\t=> 1 in 1000000.0\n"
     ]
    }
   ],
   "source": [
    "from Binaries import *\n",
    "\n",
    "n_tot = 1000000\n",
    "\n",
    "results = list(np.random.poisson( GLOBAL.background_frequency * GLOBAL.single_bin_duration * GLOBAL.trace_length , size = n_tot))\n",
    "\n",
    "for evt in set(results):\n",
    "    if evt == 0: continue\n",
    "    n_obs = results.count(evt)\n",
    "    print(f\"{evt} accidentals: {n_obs}\\t=> 1 in {n_tot/n_obs:.1f}\")"
   ]
  },
  {
   "cell_type": "code",
   "execution_count": null,
   "metadata": {},
   "outputs": [],
   "source": []
  }
 ],
 "metadata": {
  "kernelspec": {
   "display_name": "base",
   "language": "python",
   "name": "python3"
  },
  "language_info": {
   "codemirror_mode": {
    "name": "ipython",
    "version": 3
   },
   "file_extension": ".py",
   "mimetype": "text/x-python",
   "name": "python",
   "nbconvert_exporter": "python",
   "pygments_lexer": "ipython3",
   "version": "3.9.12"
  },
  "orig_nbformat": 4
 },
 "nbformat": 4,
 "nbformat_minor": 2
}
